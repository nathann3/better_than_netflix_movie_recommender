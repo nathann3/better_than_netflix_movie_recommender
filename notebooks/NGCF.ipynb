{
  "nbformat": 4,
  "nbformat_minor": 0,
  "metadata": {
    "accelerator": "GPU",
    "colab": {
      "name": "NGCF.ipynb",
      "provenance": [],
      "collapsed_sections": [],
      "authorship_tag": "ABX9TyPiSLHv/u2B7K1HXSM23VD6",
      "include_colab_link": true
    },
    "kernelspec": {
      "display_name": "Python 3",
      "name": "python3"
    },
    "language_info": {
      "name": "python"
    }
  },
  "cells": [
    {
      "cell_type": "markdown",
      "metadata": {
        "id": "view-in-github",
        "colab_type": "text"
      },
      "source": [
        "<a href=\"https://colab.research.google.com/github/nathann3/better_than_netflix_movie_recommender/blob/dev/notebooks/NGCF.ipynb\" target=\"_parent\"><img src=\"https://colab.research.google.com/assets/colab-badge.svg\" alt=\"Open In Colab\"/></a>"
      ]
    },
    {
      "cell_type": "markdown",
      "metadata": {
        "id": "MEJksYfWCl99"
      },
      "source": [
        "# Neural Graph Collaborative Filtering (NGCF) <br> for Recommending Movies\n",
        "\n",
        "This is a TensorFlow implementation of NGCF with a custom training loop.\n",
        "\n",
        "Neural Graph Collaborative Filtering (NGCF) is a state-of-the-art GCN-based recommender model that takes advantage of graph structure and is a precursor to the superior LightGCN. In this notebook, we construct and train an NGCF model and evaluate its performance."
      ]
    },
    {
      "cell_type": "markdown",
      "metadata": {
        "id": "n42fxwfxCkQx"
      },
      "source": [
        "# Imports"
      ]
    },
    {
      "cell_type": "code",
      "metadata": {
        "id": "Wa6r1nI9NjcW"
      },
      "source": [
        "import math\n",
        "import numpy as np\n",
        "import os\n",
        "import pandas as pd\n",
        "import random\n",
        "import requests\n",
        "import scipy.sparse as sp\n",
        "import tensorflow as tf\n",
        "\n",
        "\n",
        "from src.data import make_dataset\n",
        "from src.models import metrics\n",
        "from sklearn.model_selection import train_test_split\n",
        "from sklearn.neighbors import NearestNeighbors\n",
        "from tensorflow.keras.utils import Progbar\n",
        "from tqdm import tqdm"
      ],
      "execution_count": null,
      "outputs": []
    },
    {
      "cell_type": "markdown",
      "metadata": {
        "id": "13BYfGeSzYnz"
      },
      "source": [
        "# Prepare data\n",
        "\n",
        "This NGCF implementation takes an adjacency matrix in a sparse tensor format as input.\n",
        "\n",
        "In preparation of the data for NGCF, we must:\n",
        "\n",
        "\n",
        "*   Download the data\n",
        "*   Stratified train test split\n",
        "*   Create a normalized adjacency matrix\n",
        "*   Convert to tensor\n",
        "\n"
      ]
    },
    {
      "cell_type": "markdown",
      "metadata": {
        "id": "a9knMkZ3QJd4"
      },
      "source": [
        "## Load data\n",
        "\n",
        "The data we use is the benchmark MovieLens 100K Dataset, with 100k ratings, 1000 users, and 1700 movies."
      ]
    },
    {
      "cell_type": "code",
      "metadata": {
        "colab": {
          "base_uri": "https://localhost:8080/",
          "height": 243
        },
        "id": "OnndOdoGUFmN",
        "outputId": "ef0e8422-5236-4298-935b-a6de9690bd61"
      },
      "source": [
        "fp = os.path.join('..', 'data', 'ml-100k.data')\n",
        "make_dataset.download_movie(fp)\n",
        "\n",
        "raw_data = pd.read_csv(fp, sep='\\t', names=['userId', 'movieId', 'rating', 'timestamp'])\n",
        "print(f'Shape: {raw_data.shape}')\n",
        "raw_data.sample(5, random_state=123)"
      ],
      "execution_count": null,
      "outputs": [
        {
          "output_type": "stream",
          "text": [
            "100%|██████████| 1.93k/1.93k [00:00<00:00, 6.36kKB/s]\n"
          ],
          "name": "stderr"
        },
        {
          "output_type": "stream",
          "text": [
            "Shape: (100000, 4)\n"
          ],
          "name": "stdout"
        },
        {
          "output_type": "execute_result",
          "data": {
            "text/html": [
              "<div>\n",
              "<style scoped>\n",
              "    .dataframe tbody tr th:only-of-type {\n",
              "        vertical-align: middle;\n",
              "    }\n",
              "\n",
              "    .dataframe tbody tr th {\n",
              "        vertical-align: top;\n",
              "    }\n",
              "\n",
              "    .dataframe thead th {\n",
              "        text-align: right;\n",
              "    }\n",
              "</style>\n",
              "<table border=\"1\" class=\"dataframe\">\n",
              "  <thead>\n",
              "    <tr style=\"text-align: right;\">\n",
              "      <th></th>\n",
              "      <th>userId</th>\n",
              "      <th>movieId</th>\n",
              "      <th>rating</th>\n",
              "      <th>timestamp</th>\n",
              "    </tr>\n",
              "  </thead>\n",
              "  <tbody>\n",
              "    <tr>\n",
              "      <th>42083</th>\n",
              "      <td>600</td>\n",
              "      <td>651</td>\n",
              "      <td>4</td>\n",
              "      <td>888451492</td>\n",
              "    </tr>\n",
              "    <tr>\n",
              "      <th>71825</th>\n",
              "      <td>607</td>\n",
              "      <td>494</td>\n",
              "      <td>5</td>\n",
              "      <td>883879556</td>\n",
              "    </tr>\n",
              "    <tr>\n",
              "      <th>99535</th>\n",
              "      <td>875</td>\n",
              "      <td>1103</td>\n",
              "      <td>5</td>\n",
              "      <td>876465144</td>\n",
              "    </tr>\n",
              "    <tr>\n",
              "      <th>47879</th>\n",
              "      <td>648</td>\n",
              "      <td>238</td>\n",
              "      <td>3</td>\n",
              "      <td>882213535</td>\n",
              "    </tr>\n",
              "    <tr>\n",
              "      <th>36734</th>\n",
              "      <td>113</td>\n",
              "      <td>273</td>\n",
              "      <td>4</td>\n",
              "      <td>875935609</td>\n",
              "    </tr>\n",
              "  </tbody>\n",
              "</table>\n",
              "</div>"
            ],
            "text/plain": [
              "       userId  movieId  rating  timestamp\n",
              "42083     600      651       4  888451492\n",
              "71825     607      494       5  883879556\n",
              "99535     875     1103       5  876465144\n",
              "47879     648      238       3  882213535\n",
              "36734     113      273       4  875935609"
            ]
          },
          "metadata": {
            "tags": []
          },
          "execution_count": 2
        }
      ]
    },
    {
      "cell_type": "code",
      "metadata": {
        "colab": {
          "base_uri": "https://localhost:8080/",
          "height": 400
        },
        "id": "tMVA56anM1QH",
        "outputId": "5bf7c178-21de-4920-8bd6-206c6485febe"
      },
      "source": [
        "# Download movie titles.\n",
        "url = 'https://files.grouplens.org/datasets/movielens/ml-100k/u.item'\n",
        "fp = os.path.join('..', 'data', 'ml-100k.item')\n",
        "r = requests.get(url, stream=True)\n",
        "block_size = 1024\n",
        "total_size = int(r.headers.get('content-length', 0))\n",
        "num_iterables = math.ceil(total_size / block_size)\n",
        "\n",
        "# Download if not already downloaded.\n",
        "if not os.path.exists(fp):\n",
        "    with open(fp, 'wb') as file:\n",
        "        for data in tqdm(\n",
        "            r.iter_content(block_size), total=num_iterables, unit='KB', unit_scale=True\n",
        "        ):\n",
        "            file.write(data)\n",
        "\n",
        "movie_titles = pd.read_csv(fp, sep='|', names=['movieId', 'title'], usecols = range(2), encoding='iso-8859-1')\n",
        "print(f'Shape: {movie_titles.shape}')\n",
        "movie_titles.sample(10, random_state=123)"
      ],
      "execution_count": null,
      "outputs": [
        {
          "output_type": "stream",
          "text": [
            "100%|██████████| 231/231 [00:00<00:00, 1.69kKB/s]"
          ],
          "name": "stderr"
        },
        {
          "output_type": "stream",
          "text": [
            "Shape: (1682, 2)\n"
          ],
          "name": "stdout"
        },
        {
          "output_type": "stream",
          "text": [
            "\n"
          ],
          "name": "stderr"
        },
        {
          "output_type": "execute_result",
          "data": {
            "text/html": [
              "<div>\n",
              "<style scoped>\n",
              "    .dataframe tbody tr th:only-of-type {\n",
              "        vertical-align: middle;\n",
              "    }\n",
              "\n",
              "    .dataframe tbody tr th {\n",
              "        vertical-align: top;\n",
              "    }\n",
              "\n",
              "    .dataframe thead th {\n",
              "        text-align: right;\n",
              "    }\n",
              "</style>\n",
              "<table border=\"1\" class=\"dataframe\">\n",
              "  <thead>\n",
              "    <tr style=\"text-align: right;\">\n",
              "      <th></th>\n",
              "      <th>movieId</th>\n",
              "      <th>title</th>\n",
              "    </tr>\n",
              "  </thead>\n",
              "  <tbody>\n",
              "    <tr>\n",
              "      <th>304</th>\n",
              "      <td>305</td>\n",
              "      <td>Ice Storm, The (1997)</td>\n",
              "    </tr>\n",
              "    <tr>\n",
              "      <th>450</th>\n",
              "      <td>451</td>\n",
              "      <td>Grease (1978)</td>\n",
              "    </tr>\n",
              "    <tr>\n",
              "      <th>691</th>\n",
              "      <td>692</td>\n",
              "      <td>American President, The (1995)</td>\n",
              "    </tr>\n",
              "    <tr>\n",
              "      <th>1408</th>\n",
              "      <td>1409</td>\n",
              "      <td>Swan Princess, The (1994)</td>\n",
              "    </tr>\n",
              "    <tr>\n",
              "      <th>1075</th>\n",
              "      <td>1076</td>\n",
              "      <td>Pagemaster, The (1994)</td>\n",
              "    </tr>\n",
              "    <tr>\n",
              "      <th>103</th>\n",
              "      <td>104</td>\n",
              "      <td>Theodore Rex (1995)</td>\n",
              "    </tr>\n",
              "    <tr>\n",
              "      <th>167</th>\n",
              "      <td>168</td>\n",
              "      <td>Monty Python and the Holy Grail (1974)</td>\n",
              "    </tr>\n",
              "    <tr>\n",
              "      <th>1460</th>\n",
              "      <td>1461</td>\n",
              "      <td>Here Comes Cookie (1935)</td>\n",
              "    </tr>\n",
              "    <tr>\n",
              "      <th>1189</th>\n",
              "      <td>1190</td>\n",
              "      <td>That Old Feeling (1997)</td>\n",
              "    </tr>\n",
              "    <tr>\n",
              "      <th>1438</th>\n",
              "      <td>1439</td>\n",
              "      <td>Jason's Lyric (1994)</td>\n",
              "    </tr>\n",
              "  </tbody>\n",
              "</table>\n",
              "</div>"
            ],
            "text/plain": [
              "      movieId                                   title\n",
              "304       305                   Ice Storm, The (1997)\n",
              "450       451                           Grease (1978)\n",
              "691       692          American President, The (1995)\n",
              "1408     1409               Swan Princess, The (1994)\n",
              "1075     1076                  Pagemaster, The (1994)\n",
              "103       104                     Theodore Rex (1995)\n",
              "167       168  Monty Python and the Holy Grail (1974)\n",
              "1460     1461                Here Comes Cookie (1935)\n",
              "1189     1190                 That Old Feeling (1997)\n",
              "1438     1439                    Jason's Lyric (1994)"
            ]
          },
          "metadata": {
            "tags": []
          },
          "execution_count": 3
        }
      ]
    },
    {
      "cell_type": "markdown",
      "metadata": {
        "id": "HpImryCnB9MT"
      },
      "source": [
        "## Train test split\n",
        "\n",
        "We split the data using a stratified split so the users in the training set are also the same users in the test set. NGCF is not able to generate recommendations for users not yet seen in the training set.\n",
        "\n",
        "Here we will have a training size of 75%"
      ]
    },
    {
      "cell_type": "code",
      "metadata": {
        "colab": {
          "base_uri": "https://localhost:8080/"
        },
        "id": "tz_HIzLEby5C",
        "outputId": "dc93a658-f244-4684-ee4c-2441588402a7"
      },
      "source": [
        "train_size = 0.75\n",
        "train, test = make_dataset.stratified_split(raw_data, 'userId', train_size)\n",
        "\n",
        "print(f'Train Shape: {train.shape}')\n",
        "print(f'Test Shape: {test.shape}')\n",
        "print(f'Do they have the same users?: {set(train.userId) == set(test.userId)}')"
      ],
      "execution_count": null,
      "outputs": [
        {
          "output_type": "stream",
          "text": [
            "Train Shape: (74992, 4)\n",
            "Test Shape: (25008, 4)\n",
            "Do they have the same users?: True\n"
          ],
          "name": "stdout"
        }
      ]
    },
    {
      "cell_type": "markdown",
      "metadata": {
        "id": "tW5K4Ts6ziae"
      },
      "source": [
        "## Reindex\n",
        "\n",
        "Reset the index of users and movies from 0-n for both the training and test data. This is to allow better tracking of users and movies. Dictionaries are created so we can easily translate back and forth from the old index to the new index.\n",
        "\n",
        "We would also normally remove users with no ratings, but in this case, all entries have a user and a rating between 1-5.\n",
        "\n"
      ]
    },
    {
      "cell_type": "code",
      "metadata": {
        "colab": {
          "base_uri": "https://localhost:8080/"
        },
        "id": "Ww5LA_XTDxYk",
        "outputId": "c7b0a2ff-11d0-4461-a919-5f7d0ab3ef19"
      },
      "source": [
        "combined = train.append(test)\n",
        "\n",
        "n_users = combined['userId'].nunique()\n",
        "print('Number of users:', n_users)\n",
        "\n",
        "n_movies = combined['movieId'].nunique()\n",
        "print('Number of movies:', n_movies)"
      ],
      "execution_count": null,
      "outputs": [
        {
          "output_type": "stream",
          "text": [
            "Number of users: 943\n",
            "Number of movies: 1682\n"
          ],
          "name": "stdout"
        }
      ]
    },
    {
      "cell_type": "code",
      "metadata": {
        "id": "v8NnG3RC8utZ"
      },
      "source": [
        "# Create DataFrame with reset index of 0-n_movies.\n",
        "movie_new = combined[['movieId']].drop_duplicates()\n",
        "movie_new['movieId_new'] = np.arange(len(movie_new))\n",
        "\n",
        "train_reindex = pd.merge(train, movie_new, on='movieId', how='left')\n",
        "# Reset index to 0-n_users.\n",
        "train_reindex['userId_new'] = train_reindex['userId'] - 1  \n",
        "train_reindex = train_reindex[['userId_new', 'movieId_new', 'rating']]\n",
        "\n",
        "test_reindex = pd.merge(test, movie_new, on='movieId', how='left')\n",
        "# Reset index to 0-n_users.\n",
        "test_reindex['userId_new'] = test_reindex['userId'] - 1\n",
        "test_reindex = test_reindex[['userId_new', 'movieId_new', 'rating']]\n",
        "\n",
        "# Create dictionaries so we can convert to and from indexes\n",
        "item2id = dict(zip(movie_new['movieId'], movie_new['movieId_new']))\n",
        "id2item = dict(zip(movie_new['movieId_new'], movie_new['movieId']))\n",
        "user2id = dict(zip(train['userId'], train_reindex['userId_new']))\n",
        "id2user = dict(zip(train_reindex['userId_new'], train['userId']))"
      ],
      "execution_count": null,
      "outputs": []
    },
    {
      "cell_type": "code",
      "metadata": {
        "id": "SGuvcaHl9r2y"
      },
      "source": [
        "# Keep track of which movies each user has reviewed.\n",
        "# To be used later in training the NGCF.\n",
        "interacted = (\n",
        "    train_reindex.groupby(\"userId_new\")[\"movieId_new\"]\n",
        "    .apply(set)\n",
        "    .reset_index()\n",
        "    .rename(columns={\"movieId_new\": \"movie_interacted\"})\n",
        ")"
      ],
      "execution_count": null,
      "outputs": []
    },
    {
      "cell_type": "markdown",
      "metadata": {
        "id": "IcNQ8-IpgQ1Y"
      },
      "source": [
        "## Adjacency matrix\n",
        "\n",
        "In our case, nodes are both users and movies. Rows and columns consist of ALL the nodes and for every connection (reviewed movie) there is the value 1.\n",
        "\n",
        "To first create the adjacency matrix we first create a user-item graph where similar to the adjacency matrix, connected users and movies are represented as 1 in a sparse array. Unlike the adjacency matrix, a user-item graph only has users for the columns/rows and items as the other, whereas the adjacency matrix has both users and items concatenated as rows and columns.\n",
        "\n",
        "\n",
        "In this case, because the graph is undirected (meaning the connections between nodes do not have a specified direction)\n",
        "the adjacency matrix is symmetric. We use this to our advantage by transposing the user-item graph to create the adjacency matrix.\n",
        "\n",
        "Our adjacency matrix will not include self-connections where each node is connected to itself."
      ]
    },
    {
      "cell_type": "markdown",
      "metadata": {
        "id": "VKWsqQ8wLQ3G"
      },
      "source": [
        "### Create adjacency matrix"
      ]
    },
    {
      "cell_type": "code",
      "metadata": {
        "colab": {
          "base_uri": "https://localhost:8080/"
        },
        "id": "7OHiFzdrkplj",
        "outputId": "040620d5-a637-45f3-81f1-46013951ac80"
      },
      "source": [
        "# Create user-item graph (sparse matix where users are rows and movies are columns.\n",
        "# 1 if a user reviewed that movie, 0 if they didn't).\n",
        "R = sp.dok_matrix((n_users, n_movies), dtype=np.float32)\n",
        "R[train_reindex['userId_new'], train_reindex['movieId_new']] = 1\n",
        "\n",
        "# Create the adjaceny matrix with the user-item graph.\n",
        "adj_mat = sp.dok_matrix((n_users + n_movies, n_users + n_movies), dtype=np.float32)\n",
        "\n",
        "# List of lists.\n",
        "adj_mat.tolil()\n",
        "R = R.tolil()\n",
        "\n",
        "# Put together adjacency matrix. Movies and users are nodes/vertices.\n",
        "# 1 if the movie and user are connected.\n",
        "adj_mat[:n_users, n_users:] = R\n",
        "adj_mat[n_users:, :n_users] = R.T\n",
        "\n",
        "adj_mat"
      ],
      "execution_count": null,
      "outputs": [
        {
          "output_type": "execute_result",
          "data": {
            "text/plain": [
              "<2625x2625 sparse matrix of type '<class 'numpy.float32'>'\n",
              "\twith 149984 stored elements in Dictionary Of Keys format>"
            ]
          },
          "metadata": {
            "tags": []
          },
          "execution_count": 8
        }
      ]
    },
    {
      "cell_type": "markdown",
      "metadata": {
        "id": "tqpYiCIg6szq"
      },
      "source": [
        "### Normalize adjacency matrix\n",
        "\n",
        "This helps numerically stabilize values when repeating graph convolution operations, avoiding the scale of the embeddings increasing or decreasing.\n",
        "\n",
        "$\\tilde{A} = D^{-\\frac{1}{2}}AD^{-\\frac{1}{2}}$\n",
        "\n",
        "$D$ is the degree/diagonal matrix where it is zero everywhere but its diagonal. The diagonal has the value of the neighborhood size of each node (how many other nodes that node connects to)\n",
        "\n",
        "\n",
        "$D^{-\\frac{1}{2}}$ on the left side scales $A$ by the source node, while $D^{-\\frac{1}{2}}$ right side scales by the neighborhood size of the destination node rather than the source node.\n",
        "\n",
        "\n"
      ]
    },
    {
      "cell_type": "code",
      "metadata": {
        "id": "uQycbSu56w2_"
      },
      "source": [
        "# Calculate degree matrix D (for every row count the number of nonzero entries)\n",
        "D_values = np.array(adj_mat.sum(1))\n",
        "\n",
        "# Square root and inverse.\n",
        "D_inv_values = np.power(D_values  + 1e-9, -0.5).flatten()\n",
        "D_inv_values[np.isinf(D_inv_values)] = 0.0\n",
        "\n",
        " # Create sparse matrix with the values of D^(-0.5) are the diagonals.\n",
        "D_inv_sq_root = sp.diags(D_inv_values)\n",
        "\n",
        "# Eval (D^-0.5 * A * D^-0.5).\n",
        "norm_adj_mat = D_inv_sq_root.dot(adj_mat).dot(D_inv_sq_root)"
      ],
      "execution_count": null,
      "outputs": []
    },
    {
      "cell_type": "markdown",
      "metadata": {
        "id": "aXI7aZID6tu2"
      },
      "source": [
        "### Convert to tensor"
      ]
    },
    {
      "cell_type": "code",
      "metadata": {
        "colab": {
          "base_uri": "https://localhost:8080/"
        },
        "id": "Ez7DJXJ66q9y",
        "outputId": "5728cbf1-16d1-4fbc-f078-23e26992cd9e"
      },
      "source": [
        "# to COOrdinate format first ((row, column), data)\n",
        "coo = norm_adj_mat.tocoo().astype(np.float32)\n",
        "\n",
        "# create an index that will tell SparseTensor where the non-zero points are\n",
        "indices = np.mat([coo.row, coo.col]).transpose()\n",
        "\n",
        "# covert to sparse tensor\n",
        "A_tilde = tf.SparseTensor(indices, coo.data, coo.shape)\n",
        "A_tilde"
      ],
      "execution_count": null,
      "outputs": [
        {
          "output_type": "execute_result",
          "data": {
            "text/plain": [
              "<tensorflow.python.framework.sparse_tensor.SparseTensor at 0x7f5c5f36c410>"
            ]
          },
          "metadata": {
            "tags": []
          },
          "execution_count": 10
        }
      ]
    },
    {
      "cell_type": "markdown",
      "metadata": {
        "id": "LTiAa5Yt3ZoX"
      },
      "source": [
        "# NGCF\n",
        "\n",
        "NGCF performs neighbor aggregation while keeping self-connections, feature transformation, and nonlinear activation. This means there is an additional weight matrix at the end of every convolution.\n",
        "\n",
        "Neighbor aggregation is done through graph convolutions to learn embeddings that represent nodes. The size of the embeddings can be changed to whatever number. In this notebook, we set the embedding dimension to 64.\n",
        "\n",
        "In matrix form, graph convolution can be thought of as matrix multiplication. In the implementation we create a graph convolution layer that performs just this, allowing us to stack as many graph convolutions as we want. We have the number of layers as 3 in this notebook.\n"
      ]
    },
    {
      "cell_type": "code",
      "metadata": {
        "id": "zYEkpdFd-fri"
      },
      "source": [
        "class GraphConv(tf.keras.layers.Layer):\n",
        "    def __init__(self, adj_mat):\n",
        "        super(GraphConv, self).__init__()\n",
        "        self.adj_mat = adj_mat\n",
        "\n",
        "    def build(self, input_shape):\n",
        "        self.W = self.add_weight('kernel',\n",
        "                                      shape=[int(input_shape[-1]),\n",
        "                                             int(input_shape[-1])])\n",
        "\n",
        "    def call(self, ego_embeddings):\n",
        "        pre_embed = tf.sparse.sparse_dense_matmul(self.adj_mat, ego_embeddings)\n",
        "        # print('self.adj_mat:', self.adj_mat.shape)\n",
        "        # print('ego_embeddings:', ego_embeddings.shape)\n",
        "        # print('H:', H.shape)\n",
        "        # print('self.kernel:', self.W.shape)\n",
        "        # print('returned shape:', tf.transpose(tf.matmul(self.W, H, transpose_a=False, transpose_b=True)).shape)\n",
        "        return tf.transpose(tf.matmul(self.W, pre_embed, transpose_a=False, transpose_b=True))\n"
      ],
      "execution_count": null,
      "outputs": []
    },
    {
      "cell_type": "code",
      "metadata": {
        "cellView": "code",
        "id": "zz05Iw3_7Hlj"
      },
      "source": [
        "class NGCF(tf.keras.Model):\n",
        "    def __init__(self, adj_mat, n_users, n_items, n_layers=3, emb_dim=64, decay=0.0001):\n",
        "        super(NGCF, self).__init__()\n",
        "        self.adj_mat = adj_mat\n",
        "        self.R = tf.sparse.to_dense(adj_mat)[:n_users, n_users:]\n",
        "        self.n_users = n_users\n",
        "        self.n_items = n_items\n",
        "        self.n_layers = n_layers\n",
        "        self.emb_dim = emb_dim\n",
        "        self.decay = decay\n",
        "\n",
        "        # Initialize user and item embeddings.\n",
        "        initializer = tf.keras.initializers.GlorotNormal()\n",
        "        self.user_embedding = tf.Variable(\n",
        "            initializer([self.n_users, self.emb_dim]), name='user_embedding'\n",
        "        )\n",
        "        self.item_embedding = tf.Variable(\n",
        "            initializer([self.n_items, self.emb_dim]), name='item_embedding'\n",
        "        )\n",
        "\n",
        "        # Stack graph convolutional layers.\n",
        "        self.gcn = []\n",
        "        for layer in range(n_layers):\n",
        "            self.gcn.append(GraphConv(adj_mat)) \n",
        "            self.gcn.append(tf.keras.layers.LeakyReLU())\n",
        "\n",
        "    def call(self, user_emb, item_emb):\n",
        "        output_embeddings = tf.concat([user_emb, item_emb], axis=0)\n",
        "        all_embeddings = [output_embeddings]\n",
        "\n",
        "        # Graph convolutions.\n",
        "        for i in range(0, self.n_layers):\n",
        "            output_embeddings = self.gcn[i](output_embeddings)\n",
        "            all_embeddings += [output_embeddings]\n",
        "\n",
        "        # Compute the mean of all layers\n",
        "        all_embeddings = tf.stack(all_embeddings, axis=1)\n",
        "        all_embeddings = tf.reduce_mean(all_embeddings, axis=1, keepdims=False)\n",
        "\n",
        "        # Split into users and items embeddings\n",
        "        new_user_embeddings, new_item_embeddings = tf.split(\n",
        "            all_embeddings, [self.n_users, self.n_items], axis=0\n",
        "        )\n",
        "\n",
        "        return new_user_embeddings, new_item_embeddings\n",
        "\n",
        "    def recommend(self, users, k):\n",
        "        # Calculate the scores.\n",
        "        new_user_embed, new_item_embed = model(self.user_embedding, self.item_embedding)\n",
        "        user_embed = tf.nn.embedding_lookup(new_user_embed, users)\n",
        "        test_scores = tf.matmul(user_embed, new_item_embed, transpose_a=False, transpose_b=True)\n",
        "        test_scores = np.array(test_scores)\n",
        "\n",
        "        # Remove movies already seen.\n",
        "        test_scores += sp.csr_matrix(self.R)[users, :] * -np.inf\n",
        "\n",
        "        # Get top movies.\n",
        "        test_user_idx = np.arange(test_scores.shape[0])[:, None]\n",
        "        top_items = np.argpartition(test_scores, -k, axis=1)[:, -k:]\n",
        "        top_scores = test_scores[test_user_idx, top_items]\n",
        "        sort_ind = np.argsort(-top_scores)\n",
        "        top_items = top_items[test_user_idx, sort_ind]\n",
        "        top_scores = top_scores[test_user_idx, sort_ind]\n",
        "        top_items, top_scores = np.array(top_items), np.array(top_scores)\n",
        "\n",
        "        # Create Dataframe with recommended movies.\n",
        "        topk_scores = pd.DataFrame(\n",
        "            {\n",
        "                'userId': np.repeat(users, top_items.shape[1]),\n",
        "                'movieId': top_items.flatten(),\n",
        "                'prediction': top_scores.flatten(),\n",
        "            }\n",
        "        )\n",
        "\n",
        "        return topk_scores"
      ],
      "execution_count": null,
      "outputs": []
    },
    {
      "cell_type": "markdown",
      "metadata": {
        "id": "U7K33fkMjnxA"
      },
      "source": [
        "## Custom training\n",
        "\n",
        "For training, we batch a number of users from the training set and sample a single positive item (movie that has been reviewed) and a single negative item (movie that has not been reviewed) for each user."
      ]
    },
    {
      "cell_type": "code",
      "metadata": {
        "id": "b2qgq7i93b18",
        "colab": {
          "base_uri": "https://localhost:8080/"
        },
        "outputId": "304c8da9-dce3-4499-a597-86e0e766c40f"
      },
      "source": [
        "N_LAYERS = 5\n",
        "EMBED_DIM = 64\n",
        "DECAY = 0.0001\n",
        "EPOCHS = 50\n",
        "BATCH_SIZE = 1024\n",
        "LEARNING_RATE = 1e-2\n",
        "\n",
        "# We expect this # of parameters in our model.\n",
        "print(f'Parameters: {EMBED_DIM**2 + EMBED_DIM * (n_users + n_movies)}')"
      ],
      "execution_count": null,
      "outputs": [
        {
          "output_type": "stream",
          "text": [
            "Parameters: 172096\n"
          ],
          "name": "stdout"
        }
      ]
    },
    {
      "cell_type": "code",
      "metadata": {
        "id": "aUKzD4D8GN-7"
      },
      "source": [
        "# Initialize model.\n",
        "optimizer = tf.keras.optimizers.Adam(learning_rate=LEARNING_RATE)\n",
        "model = NGCF(A_tilde,\n",
        "                 n_users = n_users,\n",
        "                 n_items = n_movies,\n",
        "                 n_layers = N_LAYERS,\n",
        "                 emb_dim = EMBED_DIM,\n",
        "                 decay = DECAY)"
      ],
      "execution_count": null,
      "outputs": []
    },
    {
      "cell_type": "code",
      "metadata": {
        "colab": {
          "base_uri": "https://localhost:8080/"
        },
        "id": "xOwDT8edOQMY",
        "outputId": "8d865d2d-93fa-4e4f-c59d-f9bfe9ffa573"
      },
      "source": [
        "%%time\n",
        "# Custom training loop from scratch.\n",
        "for epoch in range(1, EPOCHS + 1):\n",
        "    print('Epoch %d/%d' % (epoch, EPOCHS))\n",
        "    n_batch = train_reindex.shape[0] // BATCH_SIZE + 1\n",
        "    bar = Progbar(n_batch, stateful_metrics='training loss')\n",
        "    for idx in range(1, n_batch + 1):\n",
        "        # Sample batch_size number of users with positive and negative items.\n",
        "        indices = range(n_users)\n",
        "        if n_users < BATCH_SIZE:\n",
        "            users = np.array([random.choice(indices) for _ in range(BATCH_SIZE)])\n",
        "        else:\n",
        "            users = np.array(random.sample(indices, BATCH_SIZE))\n",
        "\n",
        "        def sample_neg(x):\n",
        "            while True:\n",
        "                neg_id = random.randint(0, n_movies - 1)\n",
        "                if neg_id not in x:\n",
        "                    return neg_id\n",
        "\n",
        "        # Sample a single movie for each user that the user did and did not review.\n",
        "        interact = interacted.iloc[users]\n",
        "        pos_items = interact['movie_interacted'].apply(lambda x: random.choice(list(x)))\n",
        "        neg_items = interact['movie_interacted'].apply(lambda x: sample_neg(x))\n",
        "\n",
        "        users, pos_items, neg_items = users, np.array(pos_items), np.array(neg_items)\n",
        "\n",
        "        with tf.GradientTape() as tape:\n",
        "            # Call NGCF with user and item embeddings.\n",
        "            new_user_embeddings, new_item_embeddings = model(\n",
        "                model.user_embedding, model.item_embedding\n",
        "            )\n",
        "\n",
        "            # Embeddings after convolutions.\n",
        "            user_embeddings = tf.nn.embedding_lookup(new_user_embeddings, users)\n",
        "            pos_item_embeddings = tf.nn.embedding_lookup(new_item_embeddings, pos_items)\n",
        "            neg_item_embeddings = tf.nn.embedding_lookup(new_item_embeddings, neg_items)\n",
        "\n",
        "            # Initial embeddings before convolutions.\n",
        "            old_user_embeddings = tf.nn.embedding_lookup(\n",
        "                model.user_embedding, users\n",
        "            )\n",
        "            old_pos_item_embeddings = tf.nn.embedding_lookup(\n",
        "                model.item_embedding, pos_items\n",
        "            )\n",
        "            old_neg_item_embeddings = tf.nn.embedding_lookup(\n",
        "                model.item_embedding, neg_items\n",
        "            )\n",
        "\n",
        "            # Calculate loss.\n",
        "            pos_scores = tf.reduce_sum(\n",
        "                tf.multiply(user_embeddings, pos_item_embeddings), axis=1\n",
        "            )\n",
        "            neg_scores = tf.reduce_sum(\n",
        "                tf.multiply(user_embeddings, neg_item_embeddings), axis=1\n",
        "            )\n",
        "            regularizer = (\n",
        "                tf.nn.l2_loss(old_user_embeddings)\n",
        "                + tf.nn.l2_loss(old_pos_item_embeddings)\n",
        "                + tf.nn.l2_loss(old_neg_item_embeddings)\n",
        "            )\n",
        "            regularizer = regularizer / BATCH_SIZE\n",
        "            mf_loss = tf.reduce_mean(tf.nn.softplus(-(pos_scores - neg_scores)))\n",
        "            emb_loss = DECAY * regularizer\n",
        "            loss = mf_loss + emb_loss\n",
        "\n",
        "        # Retreive and apply gradients.\n",
        "        grads = tape.gradient(loss, model.trainable_weights)\n",
        "        optimizer.apply_gradients(zip(grads, model.trainable_weights))\n",
        "\n",
        "        bar.add(1, values=[('training loss', float(loss))])"
      ],
      "execution_count": null,
      "outputs": [
        {
          "output_type": "stream",
          "text": [
            "Epoch 1/50\n",
            "74/74 [==============================] - 4s 39ms/step - training loss: 0.3891\n",
            "Epoch 2/50\n",
            "74/74 [==============================] - 3s 38ms/step - training loss: 0.2732\n",
            "Epoch 3/50\n",
            "74/74 [==============================] - 3s 38ms/step - training loss: 0.2266\n",
            "Epoch 4/50\n",
            "74/74 [==============================] - 3s 38ms/step - training loss: 0.2008\n",
            "Epoch 5/50\n",
            "74/74 [==============================] - 3s 40ms/step - training loss: 0.1831\n",
            "Epoch 6/50\n",
            "74/74 [==============================] - 3s 39ms/step - training loss: 0.1757\n",
            "Epoch 7/50\n",
            "74/74 [==============================] - 3s 38ms/step - training loss: 0.1711\n",
            "Epoch 8/50\n",
            "74/74 [==============================] - 3s 38ms/step - training loss: 0.1672\n",
            "Epoch 9/50\n",
            "74/74 [==============================] - 3s 38ms/step - training loss: 0.1592\n",
            "Epoch 10/50\n",
            "74/74 [==============================] - 3s 37ms/step - training loss: 0.1526\n",
            "Epoch 11/50\n",
            "74/74 [==============================] - 3s 38ms/step - training loss: 0.1478\n",
            "Epoch 12/50\n",
            "74/74 [==============================] - 3s 39ms/step - training loss: 0.1462\n",
            "Epoch 13/50\n",
            "74/74 [==============================] - 3s 39ms/step - training loss: 0.1436\n",
            "Epoch 14/50\n",
            "74/74 [==============================] - 3s 38ms/step - training loss: 0.1376\n",
            "Epoch 15/50\n",
            "74/74 [==============================] - 3s 38ms/step - training loss: 0.1419\n",
            "Epoch 16/50\n",
            "74/74 [==============================] - 3s 38ms/step - training loss: 0.1401\n",
            "Epoch 17/50\n",
            "74/74 [==============================] - 3s 38ms/step - training loss: 0.1334\n",
            "Epoch 18/50\n",
            "74/74 [==============================] - 3s 39ms/step - training loss: 0.1322\n",
            "Epoch 19/50\n",
            "74/74 [==============================] - 3s 38ms/step - training loss: 0.1348\n",
            "Epoch 20/50\n",
            "74/74 [==============================] - 3s 38ms/step - training loss: 0.1304\n",
            "Epoch 21/50\n",
            "74/74 [==============================] - 3s 38ms/step - training loss: 0.1250\n",
            "Epoch 22/50\n",
            "74/74 [==============================] - 3s 38ms/step - training loss: 0.1272\n",
            "Epoch 23/50\n",
            "74/74 [==============================] - 3s 39ms/step - training loss: 0.1256\n",
            "Epoch 24/50\n",
            "74/74 [==============================] - 3s 38ms/step - training loss: 0.1232\n",
            "Epoch 25/50\n",
            "74/74 [==============================] - 3s 38ms/step - training loss: 0.1179\n",
            "Epoch 26/50\n",
            "74/74 [==============================] - 3s 38ms/step - training loss: 0.1177\n",
            "Epoch 27/50\n",
            "74/74 [==============================] - 3s 38ms/step - training loss: 0.1179\n",
            "Epoch 28/50\n",
            "74/74 [==============================] - 3s 39ms/step - training loss: 0.1164\n",
            "Epoch 29/50\n",
            "74/74 [==============================] - 3s 38ms/step - training loss: 0.1142\n",
            "Epoch 30/50\n",
            "74/74 [==============================] - 3s 39ms/step - training loss: 0.1101\n",
            "Epoch 31/50\n",
            "74/74 [==============================] - 3s 39ms/step - training loss: 0.1108\n",
            "Epoch 32/50\n",
            "74/74 [==============================] - 3s 38ms/step - training loss: 0.1101\n",
            "Epoch 33/50\n",
            "74/74 [==============================] - 3s 39ms/step - training loss: 0.1069\n",
            "Epoch 34/50\n",
            "74/74 [==============================] - 3s 39ms/step - training loss: 0.1056\n",
            "Epoch 35/50\n",
            "74/74 [==============================] - 3s 38ms/step - training loss: 0.1073\n",
            "Epoch 36/50\n",
            "74/74 [==============================] - 3s 39ms/step - training loss: 0.1045\n",
            "Epoch 37/50\n",
            "74/74 [==============================] - 3s 39ms/step - training loss: 0.1035\n",
            "Epoch 38/50\n",
            "74/74 [==============================] - 3s 38ms/step - training loss: 0.1034\n",
            "Epoch 39/50\n",
            "74/74 [==============================] - 3s 39ms/step - training loss: 0.1006\n",
            "Epoch 40/50\n",
            "74/74 [==============================] - 3s 39ms/step - training loss: 0.0991\n",
            "Epoch 41/50\n",
            "74/74 [==============================] - 3s 38ms/step - training loss: 0.1015\n",
            "Epoch 42/50\n",
            "74/74 [==============================] - 3s 40ms/step - training loss: 0.0980\n",
            "Epoch 43/50\n",
            "74/74 [==============================] - 3s 39ms/step - training loss: 0.1002\n",
            "Epoch 44/50\n",
            "74/74 [==============================] - 3s 38ms/step - training loss: 0.0985\n",
            "Epoch 45/50\n",
            "74/74 [==============================] - 3s 38ms/step - training loss: 0.0973\n",
            "Epoch 46/50\n",
            "74/74 [==============================] - 3s 38ms/step - training loss: 0.0953\n",
            "Epoch 47/50\n",
            "74/74 [==============================] - 3s 38ms/step - training loss: 0.0906\n",
            "Epoch 48/50\n",
            "74/74 [==============================] - 3s 39ms/step - training loss: 0.0946\n",
            "Epoch 49/50\n",
            "74/74 [==============================] - 3s 38ms/step - training loss: 0.0923\n",
            "Epoch 50/50\n",
            "74/74 [==============================] - 3s 38ms/step - training loss: 0.0923\n",
            "CPU times: user 2min 17s, sys: 7.03 s, total: 2min 24s\n",
            "Wall time: 2min 23s\n"
          ],
          "name": "stdout"
        }
      ]
    },
    {
      "cell_type": "markdown",
      "metadata": {
        "id": "bKunS0Dinf6T"
      },
      "source": [
        "# Recommend"
      ]
    },
    {
      "cell_type": "code",
      "metadata": {
        "colab": {
          "base_uri": "https://localhost:8080/",
          "height": 520
        },
        "id": "1w7TDYVcNpGc",
        "outputId": "5af5d577-0f55-4764-869d-34e8fda13b5f"
      },
      "source": [
        "# Convert test user ids to the new ids\n",
        "users = np.array([user2id[x] for x in test['userId'].unique()])\n",
        "\n",
        "recommendations = model.recommend(users, k=10)\n",
        "recommendations = recommendations.replace({'userId': id2user, 'movieId': id2item})\n",
        "recommendations = recommendations.merge(\n",
        "    movie_titles, how='left', on='movieId'\n",
        ")[['userId', 'movieId', 'title', 'prediction']]\n",
        "recommendations.head(15)"
      ],
      "execution_count": null,
      "outputs": [
        {
          "output_type": "execute_result",
          "data": {
            "text/html": [
              "<div>\n",
              "<style scoped>\n",
              "    .dataframe tbody tr th:only-of-type {\n",
              "        vertical-align: middle;\n",
              "    }\n",
              "\n",
              "    .dataframe tbody tr th {\n",
              "        vertical-align: top;\n",
              "    }\n",
              "\n",
              "    .dataframe thead th {\n",
              "        text-align: right;\n",
              "    }\n",
              "</style>\n",
              "<table border=\"1\" class=\"dataframe\">\n",
              "  <thead>\n",
              "    <tr style=\"text-align: right;\">\n",
              "      <th></th>\n",
              "      <th>userId</th>\n",
              "      <th>movieId</th>\n",
              "      <th>title</th>\n",
              "      <th>prediction</th>\n",
              "    </tr>\n",
              "  </thead>\n",
              "  <tbody>\n",
              "    <tr>\n",
              "      <th>0</th>\n",
              "      <td>1</td>\n",
              "      <td>286</td>\n",
              "      <td>English Patient, The (1996)</td>\n",
              "      <td>9.653777</td>\n",
              "    </tr>\n",
              "    <tr>\n",
              "      <th>1</th>\n",
              "      <td>1</td>\n",
              "      <td>172</td>\n",
              "      <td>Empire Strikes Back, The (1980)</td>\n",
              "      <td>8.530347</td>\n",
              "    </tr>\n",
              "    <tr>\n",
              "      <th>2</th>\n",
              "      <td>1</td>\n",
              "      <td>180</td>\n",
              "      <td>Apocalypse Now (1979)</td>\n",
              "      <td>8.073059</td>\n",
              "    </tr>\n",
              "    <tr>\n",
              "      <th>3</th>\n",
              "      <td>1</td>\n",
              "      <td>294</td>\n",
              "      <td>Liar Liar (1997)</td>\n",
              "      <td>7.905636</td>\n",
              "    </tr>\n",
              "    <tr>\n",
              "      <th>4</th>\n",
              "      <td>1</td>\n",
              "      <td>403</td>\n",
              "      <td>Batman (1989)</td>\n",
              "      <td>7.823547</td>\n",
              "    </tr>\n",
              "    <tr>\n",
              "      <th>5</th>\n",
              "      <td>1</td>\n",
              "      <td>100</td>\n",
              "      <td>Fargo (1996)</td>\n",
              "      <td>7.794531</td>\n",
              "    </tr>\n",
              "    <tr>\n",
              "      <th>6</th>\n",
              "      <td>1</td>\n",
              "      <td>449</td>\n",
              "      <td>Star Trek: The Motion Picture (1979)</td>\n",
              "      <td>7.277058</td>\n",
              "    </tr>\n",
              "    <tr>\n",
              "      <th>7</th>\n",
              "      <td>1</td>\n",
              "      <td>241</td>\n",
              "      <td>Last of the Mohicans, The (1992)</td>\n",
              "      <td>7.167028</td>\n",
              "    </tr>\n",
              "    <tr>\n",
              "      <th>8</th>\n",
              "      <td>1</td>\n",
              "      <td>82</td>\n",
              "      <td>Jurassic Park (1993)</td>\n",
              "      <td>7.077980</td>\n",
              "    </tr>\n",
              "    <tr>\n",
              "      <th>9</th>\n",
              "      <td>1</td>\n",
              "      <td>230</td>\n",
              "      <td>Star Trek IV: The Voyage Home (1986)</td>\n",
              "      <td>7.076557</td>\n",
              "    </tr>\n",
              "    <tr>\n",
              "      <th>10</th>\n",
              "      <td>2</td>\n",
              "      <td>313</td>\n",
              "      <td>Titanic (1997)</td>\n",
              "      <td>13.333694</td>\n",
              "    </tr>\n",
              "    <tr>\n",
              "      <th>11</th>\n",
              "      <td>2</td>\n",
              "      <td>347</td>\n",
              "      <td>Wag the Dog (1997)</td>\n",
              "      <td>13.117635</td>\n",
              "    </tr>\n",
              "    <tr>\n",
              "      <th>12</th>\n",
              "      <td>2</td>\n",
              "      <td>300</td>\n",
              "      <td>Air Force One (1997)</td>\n",
              "      <td>12.625356</td>\n",
              "    </tr>\n",
              "    <tr>\n",
              "      <th>13</th>\n",
              "      <td>2</td>\n",
              "      <td>319</td>\n",
              "      <td>Everyone Says I Love You (1996)</td>\n",
              "      <td>11.814745</td>\n",
              "    </tr>\n",
              "    <tr>\n",
              "      <th>14</th>\n",
              "      <td>2</td>\n",
              "      <td>750</td>\n",
              "      <td>Amistad (1997)</td>\n",
              "      <td>11.694021</td>\n",
              "    </tr>\n",
              "  </tbody>\n",
              "</table>\n",
              "</div>"
            ],
            "text/plain": [
              "    userId  movieId                                 title  prediction\n",
              "0        1      286           English Patient, The (1996)    9.653777\n",
              "1        1      172       Empire Strikes Back, The (1980)    8.530347\n",
              "2        1      180                 Apocalypse Now (1979)    8.073059\n",
              "3        1      294                      Liar Liar (1997)    7.905636\n",
              "4        1      403                         Batman (1989)    7.823547\n",
              "5        1      100                          Fargo (1996)    7.794531\n",
              "6        1      449  Star Trek: The Motion Picture (1979)    7.277058\n",
              "7        1      241      Last of the Mohicans, The (1992)    7.167028\n",
              "8        1       82                  Jurassic Park (1993)    7.077980\n",
              "9        1      230  Star Trek IV: The Voyage Home (1986)    7.076557\n",
              "10       2      313                        Titanic (1997)   13.333694\n",
              "11       2      347                    Wag the Dog (1997)   13.117635\n",
              "12       2      300                  Air Force One (1997)   12.625356\n",
              "13       2      319       Everyone Says I Love You (1996)   11.814745\n",
              "14       2      750                        Amistad (1997)   11.694021"
            ]
          },
          "metadata": {
            "tags": []
          },
          "execution_count": 16
        }
      ]
    },
    {
      "cell_type": "markdown",
      "metadata": {
        "id": "dyiRAbuymzUf"
      },
      "source": [
        "# Evaluation Metrics\n",
        "\n",
        "The performance of our model is evaluated using the test set, which consists of the exact same users in the training set but with movies the users have reviewed that the model has not seen before.\n",
        "\n",
        "A good model will recommend movies that the user has also reviewed in the test set."
      ]
    },
    {
      "cell_type": "markdown",
      "metadata": {
        "id": "zzNs2ZfMNwYu"
      },
      "source": [
        "## Precision@k\n",
        "\n",
        "Out of the movies that are recommended, what proportion is relevant. Relevant in this case is if the user has reviewed the movie.\n",
        "\n",
        "A precision@10 of about 0.35 means that about 35% of the recommendations from NGCF are relevant to the user. In other words, out of the 10 recommendations made, on average a user will have 4 movies that are actually relevant.\n",
        "\n",
        "## Recall@k\n",
        "\n",
        "Out of all the relevant movies (in the test set), how many are recommended.\n",
        "\n",
        "A recall@10 of about 0.19 means that about 19% of the relevant movies were recommended by NGCF. By definition you can see how even if all the recommendations made were relevant, recall@k is capped by k. A higher k means that more relevant movies can be recommended.\n",
        "\n",
        "## Mean Average Precision (MAP)\n",
        "\n",
        "Calculate the average precision for each user and average all the average precisions overall users. Penalizes incorrect rankings of movies.\n",
        "\n",
        "## Normalized Discounted Cumulative Gain (NDGC)\n",
        "\n",
        "Looks at both relevant movies and the ranking order of the relevant movies.\n",
        "Normalized by the total number of users."
      ]
    },
    {
      "cell_type": "code",
      "metadata": {
        "id": "n2xQuVyp22Ld"
      },
      "source": [
        "# Create column with the predicted movie's rank for each user \n",
        "top_k = recommendations.copy()\n",
        "top_k['rank'] = recommendations.groupby('userId', sort=False).cumcount() + 1  # For each user, only include movies recommendations that are also in the test set"
      ],
      "execution_count": null,
      "outputs": []
    },
    {
      "cell_type": "code",
      "metadata": {
        "id": "6aZDDF_525BH"
      },
      "source": [
        "precision_at_k = metrics.precision_at_k(top_k, test, 'userId', 'movieId', 'rank')\n",
        "recall_at_k = metrics.recall_at_k(top_k, test, 'userId', 'movieId', 'rank')\n",
        "mean_average_precision = metrics.mean_average_precision(top_k, test, 'userId', 'movieId', 'rank')\n",
        "ndcg = metrics.ndcg(top_k, test, 'userId', 'movieId', 'rank')"
      ],
      "execution_count": null,
      "outputs": []
    },
    {
      "cell_type": "code",
      "metadata": {
        "colab": {
          "base_uri": "https://localhost:8080/"
        },
        "id": "FSIDZkok3A1w",
        "outputId": "65392759-e87c-4770-9d62-cc5620e79673"
      },
      "source": [
        "print(f'Precision: {precision_at_k:.6f}',\n",
        "      f'Recall: {recall_at_k:.6f}',\n",
        "      f'MAP: {mean_average_precision:.6f} ',\n",
        "      f'NDCG: {ndcg:.6f}', sep='\\n')"
      ],
      "execution_count": null,
      "outputs": [
        {
          "output_type": "stream",
          "text": [
            "Precision: 0.358006\n",
            "Recall: 0.192358\n",
            "MAP: 0.114131 \n",
            "NDCG: 0.402707\n"
          ],
          "name": "stdout"
        }
      ]
    },
    {
      "cell_type": "markdown",
      "metadata": {
        "id": "GhPj_U4EbMF9"
      },
      "source": [
        "# Exploring movie embeddings\n",
        "\n",
        "In this section, we examine how embeddings of movies relate to each other and if movies have similar movies near them in the embedding space. We will find the 6 closest movies to each movie. Remember that the closest movie should automatically be the same movie. Effectively we are finding the 5 closest films.\n",
        "\n",
        "Here we find the movies that are closest to the movie 'Starwars' (movieId = 50). The closest movies are space-themed which makes complete sense, telling us that our movie embeddings are as intended. We also see this when looking at the closest movies for the kids' movie 'Lion King'."
      ]
    },
    {
      "cell_type": "code",
      "metadata": {
        "id": "Py8P-EYWcaKy"
      },
      "source": [
        "# Get the movie embeddings\n",
        "_, new_item_embed = model(model.user_embedding, model.item_embedding)"
      ],
      "execution_count": null,
      "outputs": []
    },
    {
      "cell_type": "code",
      "metadata": {
        "colab": {
          "base_uri": "https://localhost:8080/",
          "height": 424
        },
        "id": "JydqdiuJbLWk",
        "outputId": "1b45fb7a-fb42-4665-e1a8-1daeee2f62ca"
      },
      "source": [
        "k = 6\n",
        "nbrs = NearestNeighbors(n_neighbors=k).fit(new_item_embed)\n",
        "distances, indices = nbrs.kneighbors(new_item_embed)\n",
        "\n",
        "closest_movies = pd.DataFrame({\n",
        "    'movie': np.repeat(np.arange(indices.shape[0])[:, None], k),\n",
        "    'movieId': indices.flatten(),\n",
        "    'distance': distances.flatten()\n",
        "    }).replace({'movie': id2item,'movieId': id2item}).merge(movie_titles, how='left', on='movieId')\n",
        "closest_movies"
      ],
      "execution_count": null,
      "outputs": [
        {
          "output_type": "execute_result",
          "data": {
            "text/html": [
              "<div>\n",
              "<style scoped>\n",
              "    .dataframe tbody tr th:only-of-type {\n",
              "        vertical-align: middle;\n",
              "    }\n",
              "\n",
              "    .dataframe tbody tr th {\n",
              "        vertical-align: top;\n",
              "    }\n",
              "\n",
              "    .dataframe thead th {\n",
              "        text-align: right;\n",
              "    }\n",
              "</style>\n",
              "<table border=\"1\" class=\"dataframe\">\n",
              "  <thead>\n",
              "    <tr style=\"text-align: right;\">\n",
              "      <th></th>\n",
              "      <th>movie</th>\n",
              "      <th>movieId</th>\n",
              "      <th>distance</th>\n",
              "      <th>title</th>\n",
              "    </tr>\n",
              "  </thead>\n",
              "  <tbody>\n",
              "    <tr>\n",
              "      <th>0</th>\n",
              "      <td>93</td>\n",
              "      <td>93</td>\n",
              "      <td>0.000000</td>\n",
              "      <td>Welcome to the Dollhouse (1995)</td>\n",
              "    </tr>\n",
              "    <tr>\n",
              "      <th>1</th>\n",
              "      <td>93</td>\n",
              "      <td>741</td>\n",
              "      <td>2.261184</td>\n",
              "      <td>Last Supper, The (1995)</td>\n",
              "    </tr>\n",
              "    <tr>\n",
              "      <th>2</th>\n",
              "      <td>93</td>\n",
              "      <td>952</td>\n",
              "      <td>2.385001</td>\n",
              "      <td>Blue in the Face (1995)</td>\n",
              "    </tr>\n",
              "    <tr>\n",
              "      <th>3</th>\n",
              "      <td>93</td>\n",
              "      <td>813</td>\n",
              "      <td>2.502382</td>\n",
              "      <td>Celluloid Closet, The (1995)</td>\n",
              "    </tr>\n",
              "    <tr>\n",
              "      <th>4</th>\n",
              "      <td>93</td>\n",
              "      <td>244</td>\n",
              "      <td>2.591504</td>\n",
              "      <td>Smilla's Sense of Snow (1997)</td>\n",
              "    </tr>\n",
              "    <tr>\n",
              "      <th>...</th>\n",
              "      <td>...</td>\n",
              "      <td>...</td>\n",
              "      <td>...</td>\n",
              "      <td>...</td>\n",
              "    </tr>\n",
              "    <tr>\n",
              "      <th>10087</th>\n",
              "      <td>1677</td>\n",
              "      <td>1587</td>\n",
              "      <td>0.119705</td>\n",
              "      <td>Terror in a Texas Town (1958)</td>\n",
              "    </tr>\n",
              "    <tr>\n",
              "      <th>10088</th>\n",
              "      <td>1677</td>\n",
              "      <td>1585</td>\n",
              "      <td>0.125622</td>\n",
              "      <td>American Dream (1990)</td>\n",
              "    </tr>\n",
              "    <tr>\n",
              "      <th>10089</th>\n",
              "      <td>1677</td>\n",
              "      <td>1582</td>\n",
              "      <td>0.126977</td>\n",
              "      <td>T-Men (1947)</td>\n",
              "    </tr>\n",
              "    <tr>\n",
              "      <th>10090</th>\n",
              "      <td>1677</td>\n",
              "      <td>1309</td>\n",
              "      <td>0.128618</td>\n",
              "      <td>Very Natural Thing, A (1974)</td>\n",
              "    </tr>\n",
              "    <tr>\n",
              "      <th>10091</th>\n",
              "      <td>1677</td>\n",
              "      <td>1494</td>\n",
              "      <td>0.131191</td>\n",
              "      <td>Mostro, Il (1994)</td>\n",
              "    </tr>\n",
              "  </tbody>\n",
              "</table>\n",
              "<p>10092 rows × 4 columns</p>\n",
              "</div>"
            ],
            "text/plain": [
              "       movie  movieId  distance                            title\n",
              "0         93       93  0.000000  Welcome to the Dollhouse (1995)\n",
              "1         93      741  2.261184          Last Supper, The (1995)\n",
              "2         93      952  2.385001          Blue in the Face (1995)\n",
              "3         93      813  2.502382     Celluloid Closet, The (1995)\n",
              "4         93      244  2.591504    Smilla's Sense of Snow (1997)\n",
              "...      ...      ...       ...                              ...\n",
              "10087   1677     1587  0.119705    Terror in a Texas Town (1958)\n",
              "10088   1677     1585  0.125622            American Dream (1990)\n",
              "10089   1677     1582  0.126977                     T-Men (1947)\n",
              "10090   1677     1309  0.128618     Very Natural Thing, A (1974)\n",
              "10091   1677     1494  0.131191                Mostro, Il (1994)\n",
              "\n",
              "[10092 rows x 4 columns]"
            ]
          },
          "metadata": {
            "tags": []
          },
          "execution_count": 21
        }
      ]
    },
    {
      "cell_type": "code",
      "metadata": {
        "colab": {
          "base_uri": "https://localhost:8080/",
          "height": 238
        },
        "id": "lRlD63O5t-hM",
        "outputId": "3f3f2d32-eb63-4aa6-b10b-8a572a3dd505"
      },
      "source": [
        "id = 50\n",
        "closest_movies[closest_movies.movie == id]"
      ],
      "execution_count": null,
      "outputs": [
        {
          "output_type": "execute_result",
          "data": {
            "text/html": [
              "<div>\n",
              "<style scoped>\n",
              "    .dataframe tbody tr th:only-of-type {\n",
              "        vertical-align: middle;\n",
              "    }\n",
              "\n",
              "    .dataframe tbody tr th {\n",
              "        vertical-align: top;\n",
              "    }\n",
              "\n",
              "    .dataframe thead th {\n",
              "        text-align: right;\n",
              "    }\n",
              "</style>\n",
              "<table border=\"1\" class=\"dataframe\">\n",
              "  <thead>\n",
              "    <tr style=\"text-align: right;\">\n",
              "      <th></th>\n",
              "      <th>movie</th>\n",
              "      <th>movieId</th>\n",
              "      <th>distance</th>\n",
              "      <th>title</th>\n",
              "    </tr>\n",
              "  </thead>\n",
              "  <tbody>\n",
              "    <tr>\n",
              "      <th>408</th>\n",
              "      <td>50</td>\n",
              "      <td>50</td>\n",
              "      <td>0.000000</td>\n",
              "      <td>Star Wars (1977)</td>\n",
              "    </tr>\n",
              "    <tr>\n",
              "      <th>409</th>\n",
              "      <td>50</td>\n",
              "      <td>181</td>\n",
              "      <td>1.778808</td>\n",
              "      <td>Return of the Jedi (1983)</td>\n",
              "    </tr>\n",
              "    <tr>\n",
              "      <th>410</th>\n",
              "      <td>50</td>\n",
              "      <td>1</td>\n",
              "      <td>2.860097</td>\n",
              "      <td>Toy Story (1995)</td>\n",
              "    </tr>\n",
              "    <tr>\n",
              "      <th>411</th>\n",
              "      <td>50</td>\n",
              "      <td>222</td>\n",
              "      <td>2.862862</td>\n",
              "      <td>Star Trek: First Contact (1996)</td>\n",
              "    </tr>\n",
              "    <tr>\n",
              "      <th>412</th>\n",
              "      <td>50</td>\n",
              "      <td>127</td>\n",
              "      <td>2.931192</td>\n",
              "      <td>Godfather, The (1972)</td>\n",
              "    </tr>\n",
              "    <tr>\n",
              "      <th>413</th>\n",
              "      <td>50</td>\n",
              "      <td>172</td>\n",
              "      <td>3.065282</td>\n",
              "      <td>Empire Strikes Back, The (1980)</td>\n",
              "    </tr>\n",
              "  </tbody>\n",
              "</table>\n",
              "</div>"
            ],
            "text/plain": [
              "     movie  movieId  distance                            title\n",
              "408     50       50  0.000000                 Star Wars (1977)\n",
              "409     50      181  1.778808        Return of the Jedi (1983)\n",
              "410     50        1  2.860097                 Toy Story (1995)\n",
              "411     50      222  2.862862  Star Trek: First Contact (1996)\n",
              "412     50      127  2.931192            Godfather, The (1972)\n",
              "413     50      172  3.065282  Empire Strikes Back, The (1980)"
            ]
          },
          "metadata": {
            "tags": []
          },
          "execution_count": 22
        }
      ]
    },
    {
      "cell_type": "code",
      "metadata": {
        "colab": {
          "base_uri": "https://localhost:8080/",
          "height": 238
        },
        "id": "Szf2y0PM9seF",
        "outputId": "05a49c51-d5db-4c7b-e018-a1763a09670e"
      },
      "source": [
        "id = 71\n",
        "closest_movies[closest_movies.movie == id]"
      ],
      "execution_count": null,
      "outputs": [
        {
          "output_type": "execute_result",
          "data": {
            "text/html": [
              "<div>\n",
              "<style scoped>\n",
              "    .dataframe tbody tr th:only-of-type {\n",
              "        vertical-align: middle;\n",
              "    }\n",
              "\n",
              "    .dataframe tbody tr th {\n",
              "        vertical-align: top;\n",
              "    }\n",
              "\n",
              "    .dataframe thead th {\n",
              "        text-align: right;\n",
              "    }\n",
              "</style>\n",
              "<table border=\"1\" class=\"dataframe\">\n",
              "  <thead>\n",
              "    <tr style=\"text-align: right;\">\n",
              "      <th></th>\n",
              "      <th>movie</th>\n",
              "      <th>movieId</th>\n",
              "      <th>distance</th>\n",
              "      <th>title</th>\n",
              "    </tr>\n",
              "  </thead>\n",
              "  <tbody>\n",
              "    <tr>\n",
              "      <th>672</th>\n",
              "      <td>71</td>\n",
              "      <td>71</td>\n",
              "      <td>0.000000</td>\n",
              "      <td>Lion King, The (1994)</td>\n",
              "    </tr>\n",
              "    <tr>\n",
              "      <th>673</th>\n",
              "      <td>71</td>\n",
              "      <td>378</td>\n",
              "      <td>1.671213</td>\n",
              "      <td>Miracle on 34th Street (1994)</td>\n",
              "    </tr>\n",
              "    <tr>\n",
              "      <th>674</th>\n",
              "      <td>71</td>\n",
              "      <td>588</td>\n",
              "      <td>1.756926</td>\n",
              "      <td>Beauty and the Beast (1991)</td>\n",
              "    </tr>\n",
              "    <tr>\n",
              "      <th>675</th>\n",
              "      <td>71</td>\n",
              "      <td>95</td>\n",
              "      <td>1.769091</td>\n",
              "      <td>Aladdin (1992)</td>\n",
              "    </tr>\n",
              "    <tr>\n",
              "      <th>676</th>\n",
              "      <td>71</td>\n",
              "      <td>501</td>\n",
              "      <td>1.959488</td>\n",
              "      <td>Dumbo (1941)</td>\n",
              "    </tr>\n",
              "    <tr>\n",
              "      <th>677</th>\n",
              "      <td>71</td>\n",
              "      <td>140</td>\n",
              "      <td>2.066123</td>\n",
              "      <td>Homeward Bound: The Incredible Journey (1993)</td>\n",
              "    </tr>\n",
              "  </tbody>\n",
              "</table>\n",
              "</div>"
            ],
            "text/plain": [
              "     movie  movieId  distance                                          title\n",
              "672     71       71  0.000000                          Lion King, The (1994)\n",
              "673     71      378  1.671213                  Miracle on 34th Street (1994)\n",
              "674     71      588  1.756926                    Beauty and the Beast (1991)\n",
              "675     71       95  1.769091                                 Aladdin (1992)\n",
              "676     71      501  1.959488                                   Dumbo (1941)\n",
              "677     71      140  2.066123  Homeward Bound: The Incredible Journey (1993)"
            ]
          },
          "metadata": {
            "tags": []
          },
          "execution_count": 23
        }
      ]
    }
  ]
}