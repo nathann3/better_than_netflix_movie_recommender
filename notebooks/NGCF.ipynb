{
  "nbformat": 4,
  "nbformat_minor": 0,
  "metadata": {
    "accelerator": "GPU",
    "colab": {
      "name": "NGCF.ipynb",
      "provenance": [],
      "collapsed_sections": [],
      "authorship_tag": "ABX9TyPX6MhhhJGhHZJHNzO38QM1",
      "include_colab_link": true
    },
    "kernelspec": {
      "display_name": "Python 3",
      "name": "python3"
    },
    "language_info": {
      "name": "python"
    }
  },
  "cells": [
    {
      "cell_type": "markdown",
      "metadata": {
        "id": "view-in-github",
        "colab_type": "text"
      },
      "source": [
        "<a href=\"https://colab.research.google.com/github/nathann3/better_than_netflix_movie_recommender/blob/dev/notebooks/NGCF.ipynb\" target=\"_parent\"><img src=\"https://colab.research.google.com/assets/colab-badge.svg\" alt=\"Open In Colab\"/></a>"
      ]
    },
    {
      "cell_type": "markdown",
      "metadata": {
        "id": "MEJksYfWCl99"
      },
      "source": [
        "# Neural Graph Collaborative Filtering (NGCF) <br> for Recommending Movies\n",
        "\n",
        "This is a TensorFlow implementation of NGCF with a custom training loop.\n",
        "\n",
        "Neural Graph Collaborative Filtering (NGCF) is a state-of-the-art GCN-based recommender model that takes advantage of graph structure and is a precursor to the superior LightGCN. In this notebook we construct and train a NGCF model and evaluate its performance.\n"
      ]
    },
    {
      "cell_type": "markdown",
      "metadata": {
        "id": "n42fxwfxCkQx"
      },
      "source": [
        "# Imports"
      ]
    },
    {
      "cell_type": "code",
      "metadata": {
        "id": "Wa6r1nI9NjcW"
      },
      "source": [
        "import math\n",
        "import numpy as np\n",
        "import os\n",
        "import pandas as pd\n",
        "import random\n",
        "import requests\n",
        "import scipy.sparse as sp\n",
        "import tensorflow as tf\n",
        "\n",
        "\n",
        "from src.data import make_dataset\n",
        "from src.models import metrics\n",
        "from sklearn.model_selection import train_test_split\n",
        "from sklearn.neighbors import NearestNeighbors\n",
        "from tensorflow.keras.utils import Progbar\n",
        "from tqdm import tqdm"
      ],
      "execution_count": 1,
      "outputs": []
    },
    {
      "cell_type": "markdown",
      "metadata": {
        "id": "13BYfGeSzYnz"
      },
      "source": [
        "# Prepare data\n",
        "\n",
        "This NGCF implementation takes an adjacency matrix in a sparse tensor format as input.\n",
        "\n",
        "In preparation of the data for NGCF, we must:\n",
        "\n",
        "\n",
        "*   Download the data\n",
        "*   Stratified train test split\n",
        "*   Create a normalized adjacency matrix\n",
        "*   Convert to tensor\n",
        "\n"
      ]
    },
    {
      "cell_type": "markdown",
      "metadata": {
        "id": "a9knMkZ3QJd4"
      },
      "source": [
        "## Load data\n",
        "\n",
        "The data we use is the benchmark MovieLens 100K Dataset, with 100k ratings, 1000 users, and 1700 movies."
      ]
    },
    {
      "cell_type": "code",
      "metadata": {
        "colab": {
          "base_uri": "https://localhost:8080/",
          "height": 225
        },
        "id": "OnndOdoGUFmN",
        "outputId": "e61dcc1d-53fd-469e-c414-917c49a0b69a"
      },
      "source": [
        "fp = os.path.join('..', 'data', 'ml-100k.data')\n",
        "make_dataset.download_movie(fp)\n",
        "\n",
        "raw_data = pd.read_csv(fp, sep='\\t', names=['userId', 'movieId', 'rating', 'timestamp'])\n",
        "print(f'Shape: {raw_data.shape}')\n",
        "raw_data.sample(5, random_state=123)"
      ],
      "execution_count": 2,
      "outputs": [
        {
          "output_type": "stream",
          "text": [
            "Shape: (100000, 4)\n"
          ],
          "name": "stdout"
        },
        {
          "output_type": "execute_result",
          "data": {
            "text/html": [
              "<div>\n",
              "<style scoped>\n",
              "    .dataframe tbody tr th:only-of-type {\n",
              "        vertical-align: middle;\n",
              "    }\n",
              "\n",
              "    .dataframe tbody tr th {\n",
              "        vertical-align: top;\n",
              "    }\n",
              "\n",
              "    .dataframe thead th {\n",
              "        text-align: right;\n",
              "    }\n",
              "</style>\n",
              "<table border=\"1\" class=\"dataframe\">\n",
              "  <thead>\n",
              "    <tr style=\"text-align: right;\">\n",
              "      <th></th>\n",
              "      <th>userId</th>\n",
              "      <th>movieId</th>\n",
              "      <th>rating</th>\n",
              "      <th>timestamp</th>\n",
              "    </tr>\n",
              "  </thead>\n",
              "  <tbody>\n",
              "    <tr>\n",
              "      <th>42083</th>\n",
              "      <td>600</td>\n",
              "      <td>651</td>\n",
              "      <td>4</td>\n",
              "      <td>888451492</td>\n",
              "    </tr>\n",
              "    <tr>\n",
              "      <th>71825</th>\n",
              "      <td>607</td>\n",
              "      <td>494</td>\n",
              "      <td>5</td>\n",
              "      <td>883879556</td>\n",
              "    </tr>\n",
              "    <tr>\n",
              "      <th>99535</th>\n",
              "      <td>875</td>\n",
              "      <td>1103</td>\n",
              "      <td>5</td>\n",
              "      <td>876465144</td>\n",
              "    </tr>\n",
              "    <tr>\n",
              "      <th>47879</th>\n",
              "      <td>648</td>\n",
              "      <td>238</td>\n",
              "      <td>3</td>\n",
              "      <td>882213535</td>\n",
              "    </tr>\n",
              "    <tr>\n",
              "      <th>36734</th>\n",
              "      <td>113</td>\n",
              "      <td>273</td>\n",
              "      <td>4</td>\n",
              "      <td>875935609</td>\n",
              "    </tr>\n",
              "  </tbody>\n",
              "</table>\n",
              "</div>"
            ],
            "text/plain": [
              "       userId  movieId  rating  timestamp\n",
              "42083     600      651       4  888451492\n",
              "71825     607      494       5  883879556\n",
              "99535     875     1103       5  876465144\n",
              "47879     648      238       3  882213535\n",
              "36734     113      273       4  875935609"
            ]
          },
          "metadata": {
            "tags": []
          },
          "execution_count": 2
        }
      ]
    },
    {
      "cell_type": "code",
      "metadata": {
        "colab": {
          "base_uri": "https://localhost:8080/",
          "height": 381
        },
        "id": "tMVA56anM1QH",
        "outputId": "1916aee7-bdeb-4e66-8eef-162e7ff560c9"
      },
      "source": [
        "# Download movie titles.\n",
        "url = 'https://files.grouplens.org/datasets/movielens/ml-100k/u.item'\n",
        "fp = os.path.join('..', 'data', 'ml-100k.item')\n",
        "r = requests.get(url, stream=True)\n",
        "block_size = 1024\n",
        "total_size = int(r.headers.get('content-length', 0))\n",
        "num_iterables = math.ceil(total_size / block_size)\n",
        "\n",
        "# Download if not already downloaded.\n",
        "if not os.path.exists(fp):\n",
        "    with open(fp, 'wb') as file:\n",
        "        for data in tqdm(\n",
        "            r.iter_content(block_size), total=num_iterables, unit='KB', unit_scale=True\n",
        "        ):\n",
        "            file.write(data)\n",
        "\n",
        "movie_titles = pd.read_csv(fp, sep='|', names=['movieId', 'title'], usecols = range(2), encoding='iso-8859-1')\n",
        "print(f'Shape: {movie_titles.shape}')\n",
        "movie_titles.sample(10, random_state=123)"
      ],
      "execution_count": 3,
      "outputs": [
        {
          "output_type": "stream",
          "text": [
            "Shape: (1682, 2)\n"
          ],
          "name": "stdout"
        },
        {
          "output_type": "execute_result",
          "data": {
            "text/html": [
              "<div>\n",
              "<style scoped>\n",
              "    .dataframe tbody tr th:only-of-type {\n",
              "        vertical-align: middle;\n",
              "    }\n",
              "\n",
              "    .dataframe tbody tr th {\n",
              "        vertical-align: top;\n",
              "    }\n",
              "\n",
              "    .dataframe thead th {\n",
              "        text-align: right;\n",
              "    }\n",
              "</style>\n",
              "<table border=\"1\" class=\"dataframe\">\n",
              "  <thead>\n",
              "    <tr style=\"text-align: right;\">\n",
              "      <th></th>\n",
              "      <th>movieId</th>\n",
              "      <th>title</th>\n",
              "    </tr>\n",
              "  </thead>\n",
              "  <tbody>\n",
              "    <tr>\n",
              "      <th>304</th>\n",
              "      <td>305</td>\n",
              "      <td>Ice Storm, The (1997)</td>\n",
              "    </tr>\n",
              "    <tr>\n",
              "      <th>450</th>\n",
              "      <td>451</td>\n",
              "      <td>Grease (1978)</td>\n",
              "    </tr>\n",
              "    <tr>\n",
              "      <th>691</th>\n",
              "      <td>692</td>\n",
              "      <td>American President, The (1995)</td>\n",
              "    </tr>\n",
              "    <tr>\n",
              "      <th>1408</th>\n",
              "      <td>1409</td>\n",
              "      <td>Swan Princess, The (1994)</td>\n",
              "    </tr>\n",
              "    <tr>\n",
              "      <th>1075</th>\n",
              "      <td>1076</td>\n",
              "      <td>Pagemaster, The (1994)</td>\n",
              "    </tr>\n",
              "    <tr>\n",
              "      <th>103</th>\n",
              "      <td>104</td>\n",
              "      <td>Theodore Rex (1995)</td>\n",
              "    </tr>\n",
              "    <tr>\n",
              "      <th>167</th>\n",
              "      <td>168</td>\n",
              "      <td>Monty Python and the Holy Grail (1974)</td>\n",
              "    </tr>\n",
              "    <tr>\n",
              "      <th>1460</th>\n",
              "      <td>1461</td>\n",
              "      <td>Here Comes Cookie (1935)</td>\n",
              "    </tr>\n",
              "    <tr>\n",
              "      <th>1189</th>\n",
              "      <td>1190</td>\n",
              "      <td>That Old Feeling (1997)</td>\n",
              "    </tr>\n",
              "    <tr>\n",
              "      <th>1438</th>\n",
              "      <td>1439</td>\n",
              "      <td>Jason's Lyric (1994)</td>\n",
              "    </tr>\n",
              "  </tbody>\n",
              "</table>\n",
              "</div>"
            ],
            "text/plain": [
              "      movieId                                   title\n",
              "304       305                   Ice Storm, The (1997)\n",
              "450       451                           Grease (1978)\n",
              "691       692          American President, The (1995)\n",
              "1408     1409               Swan Princess, The (1994)\n",
              "1075     1076                  Pagemaster, The (1994)\n",
              "103       104                     Theodore Rex (1995)\n",
              "167       168  Monty Python and the Holy Grail (1974)\n",
              "1460     1461                Here Comes Cookie (1935)\n",
              "1189     1190                 That Old Feeling (1997)\n",
              "1438     1439                    Jason's Lyric (1994)"
            ]
          },
          "metadata": {
            "tags": []
          },
          "execution_count": 3
        }
      ]
    },
    {
      "cell_type": "markdown",
      "metadata": {
        "id": "HpImryCnB9MT"
      },
      "source": [
        "## Train test split\n",
        "\n",
        "We split the data using a stratified split so the users in the training set are also the same users in the test set. NGCF is not able to generate recommendations for users not yet seen in the training set.\n",
        "\n",
        "Here we will have a training size of 75%"
      ]
    },
    {
      "cell_type": "code",
      "metadata": {
        "colab": {
          "base_uri": "https://localhost:8080/"
        },
        "id": "tz_HIzLEby5C",
        "outputId": "7588bbc4-4700-46cf-c535-adffa3194777"
      },
      "source": [
        "train_size = 0.75\n",
        "train, test = make_dataset.stratified_split(raw_data, 'userId', train_size)\n",
        "\n",
        "print(f'Train Shape: {train.shape}')\n",
        "print(f'Test Shape: {test.shape}')\n",
        "print(f'Do they have the same users?: {set(train.userId) == set(test.userId)}')"
      ],
      "execution_count": 4,
      "outputs": [
        {
          "output_type": "stream",
          "text": [
            "Train Shape: (74992, 4)\n",
            "Test Shape: (25008, 4)\n",
            "Do they have the same users?: True\n"
          ],
          "name": "stdout"
        }
      ]
    },
    {
      "cell_type": "markdown",
      "metadata": {
        "id": "tW5K4Ts6ziae"
      },
      "source": [
        "## Reindex\n",
        "Reset the index of users and movies from 0-n for both the training and test data. This is to allow better tracking of users and movies. Dictionaries are created so we can easily translate back and forth from the old index to the new index.\n",
        "\n",
        "We would also normally remove users with no ratings, but in this case all entries have a user and a rating between 1-5.\n",
        "\n"
      ]
    },
    {
      "cell_type": "code",
      "metadata": {
        "colab": {
          "base_uri": "https://localhost:8080/"
        },
        "id": "Ww5LA_XTDxYk",
        "outputId": "554303a4-0a9c-4ba9-b7b1-3adcc2da1dd5"
      },
      "source": [
        "combined = train.append(test)\n",
        "\n",
        "n_users = combined['userId'].nunique()\n",
        "print('Number of users:', n_users)\n",
        "\n",
        "n_movies = combined['movieId'].nunique()\n",
        "print('Number of movies:', n_movies)"
      ],
      "execution_count": 5,
      "outputs": [
        {
          "output_type": "stream",
          "text": [
            "Number of users: 943\n",
            "Number of movies: 1682\n"
          ],
          "name": "stdout"
        }
      ]
    },
    {
      "cell_type": "code",
      "metadata": {
        "id": "v8NnG3RC8utZ"
      },
      "source": [
        "# Create DataFrame with reset index of 0-n_movies.\n",
        "movie_new = combined[['movieId']].drop_duplicates()\n",
        "movie_new['movieId_new'] = np.arange(len(movie_new))\n",
        "\n",
        "train_reindex = pd.merge(train, movie_new, on='movieId', how='left')\n",
        "# Reset index to 0-n_users.\n",
        "train_reindex['userId_new'] = train_reindex['userId'] - 1  \n",
        "train_reindex = train_reindex[['userId_new', 'movieId_new', 'rating']]\n",
        "\n",
        "test_reindex = pd.merge(test, movie_new, on='movieId', how='left')\n",
        "# Reset index to 0-n_users.\n",
        "test_reindex['userId_new'] = test_reindex['userId'] - 1\n",
        "test_reindex = test_reindex[['userId_new', 'movieId_new', 'rating']]\n",
        "\n",
        "# Create dictionaries so we can convert to and from indexes\n",
        "item2id = dict(zip(movie_new['movieId'], movie_new['movieId_new']))\n",
        "id2item = dict(zip(movie_new['movieId_new'], movie_new['movieId']))\n",
        "user2id = dict(zip(train['userId'], train_reindex['userId_new']))\n",
        "id2user = dict(zip(train_reindex['userId_new'], train['userId']))"
      ],
      "execution_count": 6,
      "outputs": []
    },
    {
      "cell_type": "code",
      "metadata": {
        "id": "SGuvcaHl9r2y"
      },
      "source": [
        "# Keep track of which movies each user has reviewed.\n",
        "# To be used later in training the NGCF.\n",
        "interacted = (\n",
        "    train_reindex.groupby(\"userId_new\")[\"movieId_new\"]\n",
        "    .apply(set)\n",
        "    .reset_index()\n",
        "    .rename(columns={\"movieId_new\": \"movie_interacted\"})\n",
        ")"
      ],
      "execution_count": 7,
      "outputs": []
    },
    {
      "cell_type": "markdown",
      "metadata": {
        "id": "IcNQ8-IpgQ1Y"
      },
      "source": [
        "## Adjacency matrix\n",
        "\n",
        "The adjacency matrix is a data structure the represents a graph by encoding the connections and between nodes. In our case, nodes are both users and movies. Rows and columns consist of ALL the nodes and for every connection (reviewed movie) there is the value 1.\n",
        "\n",
        "To first create the adjacency matrix we first create a user-item graph where similar to the adjacency matrix, connected users and movies are represented as 1 in a sparse array. Unlike the adjacency matrix, a user-item graph only has users for the columns/rows and items as the other, where as the adjacency matrix has both users and items concatenated as rows and columns.\n",
        "\n",
        "\n",
        "In this case, because the graph is undirected (meaning the connections between nodes do not have a specified direction)\n",
        "the adjacency matrix is symetric. We use this to our advantage through transposing the user-item graph to create the adjacency matrix.\n",
        "\n",
        "Our adjacency matrix will not include self-connections where each node is connected to itself."
      ]
    },
    {
      "cell_type": "markdown",
      "metadata": {
        "id": "VKWsqQ8wLQ3G"
      },
      "source": [
        "### Create adjacency matrix"
      ]
    },
    {
      "cell_type": "code",
      "metadata": {
        "colab": {
          "base_uri": "https://localhost:8080/"
        },
        "id": "7OHiFzdrkplj",
        "outputId": "10d0c467-6f38-43ec-81da-192260a5318a"
      },
      "source": [
        "# Create user-item graph (sparse matix where users are rows and movies are columns.\n",
        "# 1 if a user reviewed that movie, 0 if they didn't).\n",
        "R = sp.dok_matrix((n_users, n_movies), dtype=np.float32)\n",
        "R[train_reindex['userId_new'], train_reindex['movieId_new']] = 1\n",
        "\n",
        "# Create the adjaceny matrix with the user-item graph.\n",
        "adj_mat = sp.dok_matrix((n_users + n_movies, n_users + n_movies), dtype=np.float32)\n",
        "\n",
        "# List of lists.\n",
        "adj_mat.tolil()\n",
        "R = R.tolil()\n",
        "\n",
        "# Put together adjacency matrix. Movies and users are nodes/vertices.\n",
        "# 1 if the movie and user are connected.\n",
        "adj_mat[:n_users, n_users:] = R\n",
        "adj_mat[n_users:, :n_users] = R.T\n",
        "\n",
        "adj_mat"
      ],
      "execution_count": 8,
      "outputs": [
        {
          "output_type": "execute_result",
          "data": {
            "text/plain": [
              "<2625x2625 sparse matrix of type '<class 'numpy.float32'>'\n",
              "\twith 149984 stored elements in Dictionary Of Keys format>"
            ]
          },
          "metadata": {
            "tags": []
          },
          "execution_count": 8
        }
      ]
    },
    {
      "cell_type": "markdown",
      "metadata": {
        "id": "tqpYiCIg6szq"
      },
      "source": [
        "### Normalize adjacency matrix\n",
        "This helps numerically stabilize values when repeating graph convolution operations, avoiding the scale of the embeddings increasing or decreasing.\n",
        "\n",
        "$\\tilde{A} = D^{-\\frac{1}{2}}AD^{-\\frac{1}{2}}$\n",
        "\n",
        "$D$ is the degree/diagonal matrix where it is zero everywhere but its diagonal. The diagonal has the value of the neighborhood size of each node (how many other nodes that node connects to)\n",
        "\n",
        "\n",
        "$D^{-\\frac{1}{2}}$ on the left side scales $A$ by the source node, while $D^{-\\frac{1}{2}}$ right side scales by the neighborhood size of the destination node rather than the source node.\n",
        "\n",
        "\n"
      ]
    },
    {
      "cell_type": "code",
      "metadata": {
        "id": "uQycbSu56w2_"
      },
      "source": [
        "# Calculate degree matrix D (for every row count the number of nonzero entries)\n",
        "D_values = np.array(adj_mat.sum(1))\n",
        "\n",
        "# Square root and inverse.\n",
        "D_inv_values = np.power(D_values  + 1e-9, -0.5).flatten()\n",
        "D_inv_values[np.isinf(D_inv_values)] = 0.0\n",
        "\n",
        " # Create sparse matrix with the values of D^(-0.5) are the diagonals.\n",
        "D_inv_sq_root = sp.diags(D_inv_values)\n",
        "\n",
        "# Eval (D^-0.5 * A * D^-0.5).\n",
        "norm_adj_mat = D_inv_sq_root.dot(adj_mat).dot(D_inv_sq_root)"
      ],
      "execution_count": 9,
      "outputs": []
    },
    {
      "cell_type": "markdown",
      "metadata": {
        "id": "aXI7aZID6tu2"
      },
      "source": [
        "### Convert to tensor"
      ]
    },
    {
      "cell_type": "code",
      "metadata": {
        "colab": {
          "base_uri": "https://localhost:8080/"
        },
        "id": "Ez7DJXJ66q9y",
        "outputId": "f1c5471d-027f-4e88-bbd9-2349fa958ec7"
      },
      "source": [
        "# to COOrdinate format first ((row, column), data)\n",
        "coo = norm_adj_mat.tocoo().astype(np.float32)\n",
        "\n",
        "# create an index that will tell SparseTensor where the non-zero points are\n",
        "indices = np.mat([coo.row, coo.col]).transpose()\n",
        "\n",
        "# covert to sparse tensor\n",
        "A_tilde = tf.SparseTensor(indices, coo.data, coo.shape)\n",
        "A_tilde"
      ],
      "execution_count": 10,
      "outputs": [
        {
          "output_type": "execute_result",
          "data": {
            "text/plain": [
              "<tensorflow.python.framework.sparse_tensor.SparseTensor at 0x7f6b052f8c10>"
            ]
          },
          "metadata": {
            "tags": []
          },
          "execution_count": 10
        }
      ]
    },
    {
      "cell_type": "markdown",
      "metadata": {
        "id": "LTiAa5Yt3ZoX"
      },
      "source": [
        "# NGCF\n",
        "\n",
        "NGCF performs neighbor aggregation while keeping self-connections, feature transformation, and nonlinear activation. This means there is an additional weight matrix at the end of every convolution.\n",
        "\n",
        "Neighbor aggregation is done through graph convolutions to learn embeddings that represent nodes. The size of the embeddings can be changed to whatever number. In this notebook we set the embedding dimension to 64.\n",
        "\n",
        "In matrix form, graph convolution can be thought of a matrix multiplication. In the implementation we create a graph convoultion layer that performs just this, allowing us to stack as many graph convolutions we want. We have the number of layers as 3 in this notebook.\n"
      ]
    },
    {
      "cell_type": "code",
      "metadata": {
        "id": "zYEkpdFd-fri"
      },
      "source": [
        "class GraphConv(tf.keras.layers.Layer):\n",
        "    def __init__(self, adj_mat):\n",
        "        super(GraphConv, self).__init__()\n",
        "        self.adj_mat = adj_mat\n",
        "\n",
        "    def build(self, input_shape):\n",
        "        self.W = self.add_weight('kernel',\n",
        "                                      shape=[int(input_shape[-1]),\n",
        "                                             int(input_shape[-1])])\n",
        "\n",
        "    def call(self, ego_embeddings):\n",
        "        pre_embed = tf.sparse.sparse_dense_matmul(self.adj_mat, ego_embeddings)\n",
        "        # print('self.adj_mat:', self.adj_mat.shape)\n",
        "        # print('ego_embeddings:', ego_embeddings.shape)\n",
        "        # print('H:', H.shape)\n",
        "        # print('self.kernel:', self.W.shape)\n",
        "        # print('returned shape:', tf.transpose(tf.matmul(self.W, H, transpose_a=False, transpose_b=True)).shape)\n",
        "        return tf.transpose(tf.matmul(self.W, pre_embed, transpose_a=False, transpose_b=True))\n"
      ],
      "execution_count": 11,
      "outputs": []
    },
    {
      "cell_type": "code",
      "metadata": {
        "cellView": "code",
        "id": "zz05Iw3_7Hlj"
      },
      "source": [
        "class NGCF(tf.keras.Model):\n",
        "    def __init__(self, adj_mat, n_users, n_items, n_layers=3, emb_dim=64, decay=0.0001):\n",
        "        super(NGCF, self).__init__()\n",
        "        self.adj_mat = adj_mat\n",
        "        self.n_users = n_users\n",
        "        self.n_items = n_items\n",
        "        self.n_layers = n_layers\n",
        "        self.emb_dim = emb_dim\n",
        "        self.decay = decay\n",
        "\n",
        "        # Initialize user and item embeddings.\n",
        "        initializer = tf.keras.initializers.GlorotNormal()\n",
        "        self.user_embedding = tf.Variable(\n",
        "            initializer([self.n_users, self.emb_dim]), name='user_embedding'\n",
        "        )\n",
        "        self.item_embedding = tf.Variable(\n",
        "            initializer([self.n_items, self.emb_dim]), name='item_embedding'\n",
        "        )\n",
        "\n",
        "        # Stack graph convolutional layers.\n",
        "        self.gcn = []\n",
        "        for layer in range(n_layers):\n",
        "            self.gcn.append(GraphConv(adj_mat)) \n",
        "            self.gcn.append(tf.keras.layers.LeakyReLU())\n",
        "\n",
        "    def call(self, user_emb, item_emb):\n",
        "        output_embeddings = tf.concat([user_emb, item_emb], axis=0)\n",
        "        all_embeddings = [output_embeddings]\n",
        "\n",
        "        # Graph convolutions.\n",
        "        for i in range(0, self.n_layers):\n",
        "            output_embeddings = self.gcn[i](output_embeddings)\n",
        "            all_embeddings += [output_embeddings]\n",
        "\n",
        "        # Compute the mean of all layers\n",
        "        all_embeddings = tf.stack(all_embeddings, axis=1)\n",
        "        all_embeddings = tf.reduce_mean(all_embeddings, axis=1, keepdims=False)\n",
        "\n",
        "        # Split into users and items embeddings\n",
        "        new_user_embeddings, new_item_embeddings = tf.split(\n",
        "            all_embeddings, [self.n_users, self.n_items], axis=0\n",
        "        )\n",
        "\n",
        "        return new_user_embeddings, new_item_embeddings\n",
        "\n",
        "    def recommend(self, users, k):\n",
        "        # Calculate the scores.\n",
        "        new_user_embed, new_item_embed = model(self.user_embedding, self.item_embedding)\n",
        "        user_embed = tf.nn.embedding_lookup(new_user_embed, users)\n",
        "        test_scores = tf.matmul(user_embed, new_item_embed, transpose_a=False, transpose_b=True)\n",
        "        test_scores = np.array(test_scores)\n",
        "\n",
        "        # Remove movies already seen.\n",
        "        test_scores += R.tocsr()[users, :] * -np.inf\n",
        "\n",
        "        # Get top movies.\n",
        "        test_user_idx = np.arange(test_scores.shape[0])[:, None]\n",
        "        top_items = np.argpartition(test_scores, -k, axis=1)[:, -k:]\n",
        "        top_scores = test_scores[test_user_idx, top_items]\n",
        "        sort_ind = np.argsort(-top_scores)\n",
        "        top_items = top_items[test_user_idx, sort_ind]\n",
        "        top_scores = top_scores[test_user_idx, sort_ind]\n",
        "        top_items, top_scores = np.array(top_items), np.array(top_scores)\n",
        "\n",
        "        # Create Dataframe with recommended movies.\n",
        "        topk_scores = pd.DataFrame(\n",
        "            {\n",
        "                'userId': np.repeat(users, top_items.shape[1]),\n",
        "                'movieId': top_items.flatten(),\n",
        "                'prediction': top_scores.flatten(),\n",
        "            }\n",
        "        )\n",
        "\n",
        "        return topk_scores"
      ],
      "execution_count": 12,
      "outputs": []
    },
    {
      "cell_type": "markdown",
      "metadata": {
        "id": "U7K33fkMjnxA"
      },
      "source": [
        "## Custom training\n",
        "\n",
        "For training, we batch a number of users from the training set and sample a single positive item (movie that has been reviewed) and a single negative item (movie that has not been reviewed) for each user."
      ]
    },
    {
      "cell_type": "code",
      "metadata": {
        "id": "b2qgq7i93b18",
        "colab": {
          "base_uri": "https://localhost:8080/"
        },
        "outputId": "afe9ef4d-20f5-4ed5-f9d9-69fc5e4c2fa6"
      },
      "source": [
        "N_LAYERS = 5\n",
        "EMBED_DIM = 64\n",
        "DECAY = 0.0001\n",
        "EPOCHS = 50\n",
        "BATCH_SIZE = 1024\n",
        "LEARNING_RATE = 1e-2\n",
        "\n",
        "# We expect this # of parameters in our model.\n",
        "print(f'Parameters: {EMBED_DIM**2 + EMBED_DIM * (n_users + n_movies)}')"
      ],
      "execution_count": 13,
      "outputs": [
        {
          "output_type": "stream",
          "text": [
            "Parameters: 172096\n"
          ],
          "name": "stdout"
        }
      ]
    },
    {
      "cell_type": "code",
      "metadata": {
        "id": "aUKzD4D8GN-7"
      },
      "source": [
        "# Initialize model.\n",
        "optimizer = tf.keras.optimizers.Adam(learning_rate=LEARNING_RATE)\n",
        "model = NGCF(A_tilde,\n",
        "                 n_users = n_users,\n",
        "                 n_items = n_movies,\n",
        "                 n_layers = N_LAYERS,\n",
        "                 emb_dim = EMBED_DIM,\n",
        "                 decay = DECAY)"
      ],
      "execution_count": 14,
      "outputs": []
    },
    {
      "cell_type": "code",
      "metadata": {
        "colab": {
          "base_uri": "https://localhost:8080/"
        },
        "id": "xOwDT8edOQMY",
        "outputId": "e3f9a1c1-cf6f-45fb-ec3c-6d0eb49658e4"
      },
      "source": [
        "%%time\n",
        "# Custom training loop from scratch.\n",
        "for epoch in range(1, EPOCHS + 1):\n",
        "    print('Epoch %d/%d' % (epoch, EPOCHS))\n",
        "    n_batch = train_reindex.shape[0] // BATCH_SIZE + 1\n",
        "    bar = Progbar(n_batch, stateful_metrics='training loss')\n",
        "    for idx in range(1, n_batch + 1):\n",
        "        # Sample batch_size number of users with positive and negative items.\n",
        "        indices = range(n_users)\n",
        "        if n_users < BATCH_SIZE:\n",
        "            users = np.array([random.choice(indices) for _ in range(BATCH_SIZE)])\n",
        "        else:\n",
        "            users = np.array(random.sample(indices, BATCH_SIZE))\n",
        "\n",
        "        def sample_neg(x):\n",
        "            while True:\n",
        "                neg_id = random.randint(0, n_movies - 1)\n",
        "                if neg_id not in x:\n",
        "                    return neg_id\n",
        "\n",
        "        # Sample a single movie for each user that the user did and did not review.\n",
        "        interact = interacted.iloc[users]\n",
        "        pos_items = interact['movie_interacted'].apply(lambda x: random.choice(list(x)))\n",
        "        neg_items = interact['movie_interacted'].apply(lambda x: sample_neg(x))\n",
        "\n",
        "        users, pos_items, neg_items = users, np.array(pos_items), np.array(neg_items)\n",
        "\n",
        "        with tf.GradientTape() as tape:\n",
        "            # Call NGCF with user and item embeddings.\n",
        "            new_user_embeddings, new_item_embeddings = model(\n",
        "                model.user_embedding, model.item_embedding\n",
        "            )\n",
        "\n",
        "            # Embeddings after convolutions.\n",
        "            user_embeddings = tf.nn.embedding_lookup(new_user_embeddings, users)\n",
        "            pos_item_embeddings = tf.nn.embedding_lookup(new_item_embeddings, pos_items)\n",
        "            neg_item_embeddings = tf.nn.embedding_lookup(new_item_embeddings, neg_items)\n",
        "\n",
        "            # Initial embeddings before convolutions.\n",
        "            old_user_embeddings = tf.nn.embedding_lookup(\n",
        "                model.user_embedding, users\n",
        "            )\n",
        "            old_pos_item_embeddings = tf.nn.embedding_lookup(\n",
        "                model.item_embedding, pos_items\n",
        "            )\n",
        "            old_neg_item_embeddings = tf.nn.embedding_lookup(\n",
        "                model.item_embedding, neg_items\n",
        "            )\n",
        "\n",
        "            # Calculate loss.\n",
        "            pos_scores = tf.reduce_sum(\n",
        "                tf.multiply(user_embeddings, pos_item_embeddings), axis=1\n",
        "            )\n",
        "            neg_scores = tf.reduce_sum(\n",
        "                tf.multiply(user_embeddings, neg_item_embeddings), axis=1\n",
        "            )\n",
        "            regularizer = (\n",
        "                tf.nn.l2_loss(old_user_embeddings)\n",
        "                + tf.nn.l2_loss(old_pos_item_embeddings)\n",
        "                + tf.nn.l2_loss(old_neg_item_embeddings)\n",
        "            )\n",
        "            regularizer = regularizer / BATCH_SIZE\n",
        "            mf_loss = tf.reduce_mean(tf.nn.softplus(-(pos_scores - neg_scores)))\n",
        "            emb_loss = DECAY * regularizer\n",
        "            loss = mf_loss + emb_loss\n",
        "\n",
        "        # Retreive and apply gradients.\n",
        "        grads = tape.gradient(loss, model.trainable_weights)\n",
        "        optimizer.apply_gradients(zip(grads, model.trainable_weights))\n",
        "\n",
        "        bar.add(1, values=[('training loss', float(loss))])"
      ],
      "execution_count": 15,
      "outputs": [
        {
          "output_type": "stream",
          "text": [
            "Epoch 1/50\n",
            "74/74 [==============================] - 2s 28ms/step - training loss: 0.3898\n",
            "Epoch 2/50\n",
            "74/74 [==============================] - 2s 28ms/step - training loss: 0.2595\n",
            "Epoch 3/50\n",
            "74/74 [==============================] - 2s 28ms/step - training loss: 0.2281\n",
            "Epoch 4/50\n",
            "74/74 [==============================] - 2s 27ms/step - training loss: 0.1919\n",
            "Epoch 5/50\n",
            "74/74 [==============================] - 2s 27ms/step - training loss: 0.1856\n",
            "Epoch 6/50\n",
            "74/74 [==============================] - 2s 27ms/step - training loss: 0.1783\n",
            "Epoch 7/50\n",
            "74/74 [==============================] - 2s 27ms/step - training loss: 0.1706\n",
            "Epoch 8/50\n",
            "74/74 [==============================] - 2s 27ms/step - training loss: 0.1662\n",
            "Epoch 9/50\n",
            "74/74 [==============================] - 2s 28ms/step - training loss: 0.1588\n",
            "Epoch 10/50\n",
            "74/74 [==============================] - 2s 28ms/step - training loss: 0.1549\n",
            "Epoch 11/50\n",
            "74/74 [==============================] - 2s 28ms/step - training loss: 0.1486\n",
            "Epoch 12/50\n",
            "74/74 [==============================] - 2s 28ms/step - training loss: 0.1487\n",
            "Epoch 13/50\n",
            "74/74 [==============================] - 2s 28ms/step - training loss: 0.1453\n",
            "Epoch 14/50\n",
            "74/74 [==============================] - 2s 27ms/step - training loss: 0.1429\n",
            "Epoch 15/50\n",
            "74/74 [==============================] - 2s 27ms/step - training loss: 0.1399\n",
            "Epoch 16/50\n",
            "74/74 [==============================] - 2s 27ms/step - training loss: 0.1401\n",
            "Epoch 17/50\n",
            "74/74 [==============================] - 2s 28ms/step - training loss: 0.1332\n",
            "Epoch 18/50\n",
            "74/74 [==============================] - 2s 28ms/step - training loss: 0.1321\n",
            "Epoch 19/50\n",
            "74/74 [==============================] - 2s 27ms/step - training loss: 0.1339\n",
            "Epoch 20/50\n",
            "74/74 [==============================] - 2s 27ms/step - training loss: 0.1311\n",
            "Epoch 21/50\n",
            "74/74 [==============================] - 2s 27ms/step - training loss: 0.1308\n",
            "Epoch 22/50\n",
            "74/74 [==============================] - 2s 27ms/step - training loss: 0.1279\n",
            "Epoch 23/50\n",
            "74/74 [==============================] - 2s 27ms/step - training loss: 0.1261\n",
            "Epoch 24/50\n",
            "74/74 [==============================] - 2s 27ms/step - training loss: 0.1268\n",
            "Epoch 25/50\n",
            "74/74 [==============================] - 2s 28ms/step - training loss: 0.1249\n",
            "Epoch 26/50\n",
            "74/74 [==============================] - 2s 28ms/step - training loss: 0.1254\n",
            "Epoch 27/50\n",
            "74/74 [==============================] - 2s 28ms/step - training loss: 0.1192\n",
            "Epoch 28/50\n",
            "74/74 [==============================] - 2s 28ms/step - training loss: 0.1157\n",
            "Epoch 29/50\n",
            "74/74 [==============================] - 2s 28ms/step - training loss: 0.1160\n",
            "Epoch 30/50\n",
            "74/74 [==============================] - 2s 28ms/step - training loss: 0.1169\n",
            "Epoch 31/50\n",
            "74/74 [==============================] - 2s 28ms/step - training loss: 0.1146\n",
            "Epoch 32/50\n",
            "74/74 [==============================] - 2s 27ms/step - training loss: 0.1103\n",
            "Epoch 33/50\n",
            "74/74 [==============================] - 2s 28ms/step - training loss: 0.1089\n",
            "Epoch 34/50\n",
            "74/74 [==============================] - 2s 28ms/step - training loss: 0.1107\n",
            "Epoch 35/50\n",
            "74/74 [==============================] - 2s 27ms/step - training loss: 0.1072\n",
            "Epoch 36/50\n",
            "74/74 [==============================] - 2s 27ms/step - training loss: 0.1095\n",
            "Epoch 37/50\n",
            "74/74 [==============================] - 2s 28ms/step - training loss: 0.1067\n",
            "Epoch 38/50\n",
            "74/74 [==============================] - 2s 28ms/step - training loss: 0.1037\n",
            "Epoch 39/50\n",
            "74/74 [==============================] - 2s 28ms/step - training loss: 0.0998\n",
            "Epoch 40/50\n",
            "74/74 [==============================] - 2s 28ms/step - training loss: 0.1003\n",
            "Epoch 41/50\n",
            "74/74 [==============================] - 2s 28ms/step - training loss: 0.1013\n",
            "Epoch 42/50\n",
            "74/74 [==============================] - 2s 27ms/step - training loss: 0.1003\n",
            "Epoch 43/50\n",
            "74/74 [==============================] - 2s 27ms/step - training loss: 0.0976\n",
            "Epoch 44/50\n",
            "74/74 [==============================] - 2s 29ms/step - training loss: 0.0986\n",
            "Epoch 45/50\n",
            "74/74 [==============================] - 2s 29ms/step - training loss: 0.0958\n",
            "Epoch 46/50\n",
            "74/74 [==============================] - 2s 27ms/step - training loss: 0.0973\n",
            "Epoch 47/50\n",
            "74/74 [==============================] - 2s 28ms/step - training loss: 0.0966\n",
            "Epoch 48/50\n",
            "74/74 [==============================] - 2s 27ms/step - training loss: 0.0933\n",
            "Epoch 49/50\n",
            "74/74 [==============================] - 2s 28ms/step - training loss: 0.0956\n",
            "Epoch 50/50\n",
            "74/74 [==============================] - 2s 27ms/step - training loss: 0.0887\n",
            "CPU times: user 1min 41s, sys: 4.01 s, total: 1min 45s\n",
            "Wall time: 1min 42s\n"
          ],
          "name": "stdout"
        }
      ]
    },
    {
      "cell_type": "markdown",
      "metadata": {
        "id": "bKunS0Dinf6T"
      },
      "source": [
        "# Recommend"
      ]
    },
    {
      "cell_type": "code",
      "metadata": {
        "colab": {
          "base_uri": "https://localhost:8080/",
          "height": 520
        },
        "id": "1w7TDYVcNpGc",
        "outputId": "006e115f-4613-4b45-970c-10346b49382d"
      },
      "source": [
        "# Convert test user ids to the new ids\n",
        "users = np.array([user2id[x] for x in test['userId'].unique()])\n",
        "\n",
        "recommendations = model.recommend(users, k=10)\n",
        "recommendations = recommendations.replace({'userId': id2user, 'movieId': id2item})\n",
        "recommendations = recommendations.merge(\n",
        "    movie_titles, how='left', on='movieId'\n",
        ")[['userId', 'movieId', 'title', 'prediction']]\n",
        "recommendations.head(15)"
      ],
      "execution_count": 16,
      "outputs": [
        {
          "output_type": "execute_result",
          "data": {
            "text/html": [
              "<div>\n",
              "<style scoped>\n",
              "    .dataframe tbody tr th:only-of-type {\n",
              "        vertical-align: middle;\n",
              "    }\n",
              "\n",
              "    .dataframe tbody tr th {\n",
              "        vertical-align: top;\n",
              "    }\n",
              "\n",
              "    .dataframe thead th {\n",
              "        text-align: right;\n",
              "    }\n",
              "</style>\n",
              "<table border=\"1\" class=\"dataframe\">\n",
              "  <thead>\n",
              "    <tr style=\"text-align: right;\">\n",
              "      <th></th>\n",
              "      <th>userId</th>\n",
              "      <th>movieId</th>\n",
              "      <th>title</th>\n",
              "      <th>prediction</th>\n",
              "    </tr>\n",
              "  </thead>\n",
              "  <tbody>\n",
              "    <tr>\n",
              "      <th>0</th>\n",
              "      <td>1</td>\n",
              "      <td>9</td>\n",
              "      <td>Dead Man Walking (1995)</td>\n",
              "      <td>9.357056</td>\n",
              "    </tr>\n",
              "    <tr>\n",
              "      <th>1</th>\n",
              "      <td>1</td>\n",
              "      <td>475</td>\n",
              "      <td>Trainspotting (1996)</td>\n",
              "      <td>9.062075</td>\n",
              "    </tr>\n",
              "    <tr>\n",
              "      <th>2</th>\n",
              "      <td>1</td>\n",
              "      <td>276</td>\n",
              "      <td>Leaving Las Vegas (1995)</td>\n",
              "      <td>8.780977</td>\n",
              "    </tr>\n",
              "    <tr>\n",
              "      <th>3</th>\n",
              "      <td>1</td>\n",
              "      <td>172</td>\n",
              "      <td>Empire Strikes Back, The (1980)</td>\n",
              "      <td>8.716708</td>\n",
              "    </tr>\n",
              "    <tr>\n",
              "      <th>4</th>\n",
              "      <td>1</td>\n",
              "      <td>100</td>\n",
              "      <td>Fargo (1996)</td>\n",
              "      <td>8.636410</td>\n",
              "    </tr>\n",
              "    <tr>\n",
              "      <th>5</th>\n",
              "      <td>1</td>\n",
              "      <td>8</td>\n",
              "      <td>Babe (1995)</td>\n",
              "      <td>8.377656</td>\n",
              "    </tr>\n",
              "    <tr>\n",
              "      <th>6</th>\n",
              "      <td>1</td>\n",
              "      <td>14</td>\n",
              "      <td>Postino, Il (1994)</td>\n",
              "      <td>8.266917</td>\n",
              "    </tr>\n",
              "    <tr>\n",
              "      <th>7</th>\n",
              "      <td>1</td>\n",
              "      <td>273</td>\n",
              "      <td>Heat (1995)</td>\n",
              "      <td>8.151922</td>\n",
              "    </tr>\n",
              "    <tr>\n",
              "      <th>8</th>\n",
              "      <td>1</td>\n",
              "      <td>286</td>\n",
              "      <td>English Patient, The (1996)</td>\n",
              "      <td>8.119329</td>\n",
              "    </tr>\n",
              "    <tr>\n",
              "      <th>9</th>\n",
              "      <td>1</td>\n",
              "      <td>405</td>\n",
              "      <td>Mission: Impossible (1996)</td>\n",
              "      <td>8.079372</td>\n",
              "    </tr>\n",
              "    <tr>\n",
              "      <th>10</th>\n",
              "      <td>2</td>\n",
              "      <td>319</td>\n",
              "      <td>Everyone Says I Love You (1996)</td>\n",
              "      <td>13.922907</td>\n",
              "    </tr>\n",
              "    <tr>\n",
              "      <th>11</th>\n",
              "      <td>2</td>\n",
              "      <td>9</td>\n",
              "      <td>Dead Man Walking (1995)</td>\n",
              "      <td>13.342167</td>\n",
              "    </tr>\n",
              "    <tr>\n",
              "      <th>12</th>\n",
              "      <td>2</td>\n",
              "      <td>300</td>\n",
              "      <td>Air Force One (1997)</td>\n",
              "      <td>13.019221</td>\n",
              "    </tr>\n",
              "    <tr>\n",
              "      <th>13</th>\n",
              "      <td>2</td>\n",
              "      <td>255</td>\n",
              "      <td>My Best Friend's Wedding (1997)</td>\n",
              "      <td>12.924243</td>\n",
              "    </tr>\n",
              "    <tr>\n",
              "      <th>14</th>\n",
              "      <td>2</td>\n",
              "      <td>321</td>\n",
              "      <td>Mother (1996)</td>\n",
              "      <td>12.728060</td>\n",
              "    </tr>\n",
              "  </tbody>\n",
              "</table>\n",
              "</div>"
            ],
            "text/plain": [
              "    userId  movieId                            title  prediction\n",
              "0        1        9          Dead Man Walking (1995)    9.357056\n",
              "1        1      475             Trainspotting (1996)    9.062075\n",
              "2        1      276         Leaving Las Vegas (1995)    8.780977\n",
              "3        1      172  Empire Strikes Back, The (1980)    8.716708\n",
              "4        1      100                     Fargo (1996)    8.636410\n",
              "5        1        8                      Babe (1995)    8.377656\n",
              "6        1       14               Postino, Il (1994)    8.266917\n",
              "7        1      273                      Heat (1995)    8.151922\n",
              "8        1      286      English Patient, The (1996)    8.119329\n",
              "9        1      405       Mission: Impossible (1996)    8.079372\n",
              "10       2      319  Everyone Says I Love You (1996)   13.922907\n",
              "11       2        9          Dead Man Walking (1995)   13.342167\n",
              "12       2      300             Air Force One (1997)   13.019221\n",
              "13       2      255  My Best Friend's Wedding (1997)   12.924243\n",
              "14       2      321                    Mother (1996)   12.728060"
            ]
          },
          "metadata": {
            "tags": []
          },
          "execution_count": 16
        }
      ]
    },
    {
      "cell_type": "markdown",
      "metadata": {
        "id": "dyiRAbuymzUf"
      },
      "source": [
        "# Evaluation Metrics\n",
        "\n",
        "The performance of our model is evaluated using the test set, which consists of the exact same users in the training set but with movies the users have reviewed that the model has not seen before.\n",
        "\n",
        "A good model will recommend movies that the user has also reviewed in the test set."
      ]
    },
    {
      "cell_type": "markdown",
      "metadata": {
        "id": "zzNs2ZfMNwYu"
      },
      "source": [
        "## Precision@k\n",
        "Out of the movies that are recommended, what proportion is relevant. Relevant in this case is if the user has reviewed the movie.\n",
        "\n",
        "A precision@10 of about 0.37 means that about 37% of the recommendations from NGCF are relevant to the user. In other words, out of the 10 recommendations made, on average a user will have 4 movies that are actually relevant.\n",
        "\n",
        "## Recall@k\n",
        "\n",
        "Out of all the relevant movies (in the test set), how many are recommended.\n",
        "\n",
        "A recall@10 of about 0.20 means that abut 20% of the relevant movies were recommended by NGCF. By definition you can see how even if all the recommendations made were relevant, recall@k is capped by k. A higher k means that more relevant movies can be recommended.\n",
        "\n",
        "## Mean Average Precision (MAP)\n",
        "\n",
        "Calculate the average precision for each user and average all the average precisions over all users. Penalizes incorrect rankings of movies.\n",
        "\n",
        "## Normalized Discounted Cumulative Gain (NDGC)\n",
        "\n",
        "Looks at both relevant movies and the ranking order of the relevant movies.\n",
        "Normalized by the total number of users."
      ]
    },
    {
      "cell_type": "code",
      "metadata": {
        "id": "n2xQuVyp22Ld"
      },
      "source": [
        "# Create column with the predicted movie's rank for each user \n",
        "top_k = recommendations.copy()\n",
        "top_k['rank'] = recommendations.groupby('userId', sort=False).cumcount() + 1  # For each user, only include movies recommendations that are also in the test set"
      ],
      "execution_count": 17,
      "outputs": []
    },
    {
      "cell_type": "code",
      "metadata": {
        "id": "6aZDDF_525BH"
      },
      "source": [
        "precision_at_k = metrics.precision_at_k(top_k, test, 'userId', 'movieId', 'rank')\n",
        "recall_at_k = metrics.recall_at_k(top_k, test, 'userId', 'movieId', 'rank')\n",
        "mean_average_precision = metrics.mean_average_precision(top_k, test, 'userId', 'movieId', 'rank')\n",
        "ndcg = metrics.ndcg(top_k, test, 'userId', 'movieId', 'rank')"
      ],
      "execution_count": 18,
      "outputs": []
    },
    {
      "cell_type": "code",
      "metadata": {
        "colab": {
          "base_uri": "https://localhost:8080/"
        },
        "id": "FSIDZkok3A1w",
        "outputId": "eebbbb49-156e-467e-9930-f70262c6ca55"
      },
      "source": [
        "print(f'Precision: {precision_at_k:.6f}',\n",
        "      f'Recall: {recall_at_k:.6f}',\n",
        "      f'MAP: {mean_average_precision:.6f} ',\n",
        "      f'NDCG: {ndcg:.6f}', sep='\\n')"
      ],
      "execution_count": 19,
      "outputs": [
        {
          "output_type": "stream",
          "text": [
            "Precision: 0.363097\n",
            "Recall: 0.200228\n",
            "MAP: 0.120570 \n",
            "NDCG: 0.408308\n"
          ],
          "name": "stdout"
        }
      ]
    },
    {
      "cell_type": "markdown",
      "metadata": {
        "id": "GhPj_U4EbMF9"
      },
      "source": [
        "# Exploring movie embeddings\n",
        "\n",
        "In this section we examine how embeddings of movies relate to each other and if movies have similar movies near them in the embedding space. We will find the 6 closest movies to each movie. Remember that the closest movie should automatically be the same movie. Effectively we are finding the 5 closest films.\n",
        "\n",
        "Here we find the movies that are closest to the movie 'Starwars' (movieId = 50). The closest movies are space themed which makes complete sense, telling us that our movie embeddings are as intended. We also see this when looking at closest movies for the kids movie 'Lion King'."
      ]
    },
    {
      "cell_type": "code",
      "metadata": {
        "id": "Py8P-EYWcaKy"
      },
      "source": [
        "# Get the movie embeddings\n",
        "_, new_item_embed = model(model.user_embedding, model.item_embedding)"
      ],
      "execution_count": 20,
      "outputs": []
    },
    {
      "cell_type": "code",
      "metadata": {
        "colab": {
          "base_uri": "https://localhost:8080/",
          "height": 424
        },
        "id": "JydqdiuJbLWk",
        "outputId": "17d04845-6a7a-4aea-cb92-a37191cc13f2"
      },
      "source": [
        "k = 6\n",
        "nbrs = NearestNeighbors(n_neighbors=k).fit(new_item_embed)\n",
        "distances, indices = nbrs.kneighbors(new_item_embed)\n",
        "\n",
        "closest_movies = pd.DataFrame({\n",
        "    'movie': np.repeat(np.arange(indices.shape[0])[:, None], k),\n",
        "    'movieId': indices.flatten(),\n",
        "    'distance': distances.flatten()\n",
        "    }).replace({'movie': id2item,'movieId': id2item}).merge(movie_titles, how='left', on='movieId')\n",
        "closest_movies"
      ],
      "execution_count": 21,
      "outputs": [
        {
          "output_type": "execute_result",
          "data": {
            "text/html": [
              "<div>\n",
              "<style scoped>\n",
              "    .dataframe tbody tr th:only-of-type {\n",
              "        vertical-align: middle;\n",
              "    }\n",
              "\n",
              "    .dataframe tbody tr th {\n",
              "        vertical-align: top;\n",
              "    }\n",
              "\n",
              "    .dataframe thead th {\n",
              "        text-align: right;\n",
              "    }\n",
              "</style>\n",
              "<table border=\"1\" class=\"dataframe\">\n",
              "  <thead>\n",
              "    <tr style=\"text-align: right;\">\n",
              "      <th></th>\n",
              "      <th>movie</th>\n",
              "      <th>movieId</th>\n",
              "      <th>distance</th>\n",
              "      <th>title</th>\n",
              "    </tr>\n",
              "  </thead>\n",
              "  <tbody>\n",
              "    <tr>\n",
              "      <th>0</th>\n",
              "      <td>93</td>\n",
              "      <td>93</td>\n",
              "      <td>0.000000</td>\n",
              "      <td>Welcome to the Dollhouse (1995)</td>\n",
              "    </tr>\n",
              "    <tr>\n",
              "      <th>1</th>\n",
              "      <td>93</td>\n",
              "      <td>236</td>\n",
              "      <td>1.964814</td>\n",
              "      <td>Citizen Ruth (1996)</td>\n",
              "    </tr>\n",
              "    <tr>\n",
              "      <th>2</th>\n",
              "      <td>93</td>\n",
              "      <td>741</td>\n",
              "      <td>2.022466</td>\n",
              "      <td>Last Supper, The (1995)</td>\n",
              "    </tr>\n",
              "    <tr>\n",
              "      <th>3</th>\n",
              "      <td>93</td>\n",
              "      <td>764</td>\n",
              "      <td>2.178416</td>\n",
              "      <td>If Lucy Fell (1996)</td>\n",
              "    </tr>\n",
              "    <tr>\n",
              "      <th>4</th>\n",
              "      <td>93</td>\n",
              "      <td>150</td>\n",
              "      <td>2.260391</td>\n",
              "      <td>Swingers (1996)</td>\n",
              "    </tr>\n",
              "    <tr>\n",
              "      <th>...</th>\n",
              "      <td>...</td>\n",
              "      <td>...</td>\n",
              "      <td>...</td>\n",
              "      <td>...</td>\n",
              "    </tr>\n",
              "    <tr>\n",
              "      <th>10087</th>\n",
              "      <td>1677</td>\n",
              "      <td>1583</td>\n",
              "      <td>0.150391</td>\n",
              "      <td>Invitation, The (Zaproszenie) (1986)</td>\n",
              "    </tr>\n",
              "    <tr>\n",
              "      <th>10088</th>\n",
              "      <td>1677</td>\n",
              "      <td>1634</td>\n",
              "      <td>0.161290</td>\n",
              "      <td>Etz Hadomim Tafus (Under the Domin Tree) (1994)</td>\n",
              "    </tr>\n",
              "    <tr>\n",
              "      <th>10089</th>\n",
              "      <td>1677</td>\n",
              "      <td>1625</td>\n",
              "      <td>0.162276</td>\n",
              "      <td>Nightwatch (1997)</td>\n",
              "    </tr>\n",
              "    <tr>\n",
              "      <th>10090</th>\n",
              "      <td>1677</td>\n",
              "      <td>1080</td>\n",
              "      <td>0.165951</td>\n",
              "      <td>Celestial Clockwork (1994)</td>\n",
              "    </tr>\n",
              "    <tr>\n",
              "      <th>10091</th>\n",
              "      <td>1677</td>\n",
              "      <td>1669</td>\n",
              "      <td>0.167883</td>\n",
              "      <td>MURDER and murder (1996)</td>\n",
              "    </tr>\n",
              "  </tbody>\n",
              "</table>\n",
              "<p>10092 rows × 4 columns</p>\n",
              "</div>"
            ],
            "text/plain": [
              "       movie  ...                                            title\n",
              "0         93  ...                  Welcome to the Dollhouse (1995)\n",
              "1         93  ...                              Citizen Ruth (1996)\n",
              "2         93  ...                          Last Supper, The (1995)\n",
              "3         93  ...                              If Lucy Fell (1996)\n",
              "4         93  ...                                  Swingers (1996)\n",
              "...      ...  ...                                              ...\n",
              "10087   1677  ...             Invitation, The (Zaproszenie) (1986)\n",
              "10088   1677  ...  Etz Hadomim Tafus (Under the Domin Tree) (1994)\n",
              "10089   1677  ...                                Nightwatch (1997)\n",
              "10090   1677  ...                       Celestial Clockwork (1994)\n",
              "10091   1677  ...                         MURDER and murder (1996)\n",
              "\n",
              "[10092 rows x 4 columns]"
            ]
          },
          "metadata": {
            "tags": []
          },
          "execution_count": 21
        }
      ]
    },
    {
      "cell_type": "code",
      "metadata": {
        "colab": {
          "base_uri": "https://localhost:8080/",
          "height": 238
        },
        "id": "lRlD63O5t-hM",
        "outputId": "f39948a0-6a53-4c8e-9aa1-74ad8cfe83db"
      },
      "source": [
        "id = 50\n",
        "closest_movies[closest_movies.movie == id]"
      ],
      "execution_count": 22,
      "outputs": [
        {
          "output_type": "execute_result",
          "data": {
            "text/html": [
              "<div>\n",
              "<style scoped>\n",
              "    .dataframe tbody tr th:only-of-type {\n",
              "        vertical-align: middle;\n",
              "    }\n",
              "\n",
              "    .dataframe tbody tr th {\n",
              "        vertical-align: top;\n",
              "    }\n",
              "\n",
              "    .dataframe thead th {\n",
              "        text-align: right;\n",
              "    }\n",
              "</style>\n",
              "<table border=\"1\" class=\"dataframe\">\n",
              "  <thead>\n",
              "    <tr style=\"text-align: right;\">\n",
              "      <th></th>\n",
              "      <th>movie</th>\n",
              "      <th>movieId</th>\n",
              "      <th>distance</th>\n",
              "      <th>title</th>\n",
              "    </tr>\n",
              "  </thead>\n",
              "  <tbody>\n",
              "    <tr>\n",
              "      <th>408</th>\n",
              "      <td>50</td>\n",
              "      <td>50</td>\n",
              "      <td>0.000000</td>\n",
              "      <td>Star Wars (1977)</td>\n",
              "    </tr>\n",
              "    <tr>\n",
              "      <th>409</th>\n",
              "      <td>50</td>\n",
              "      <td>181</td>\n",
              "      <td>1.706018</td>\n",
              "      <td>Return of the Jedi (1983)</td>\n",
              "    </tr>\n",
              "    <tr>\n",
              "      <th>410</th>\n",
              "      <td>50</td>\n",
              "      <td>1</td>\n",
              "      <td>2.415084</td>\n",
              "      <td>Toy Story (1995)</td>\n",
              "    </tr>\n",
              "    <tr>\n",
              "      <th>411</th>\n",
              "      <td>50</td>\n",
              "      <td>121</td>\n",
              "      <td>2.709324</td>\n",
              "      <td>Independence Day (ID4) (1996)</td>\n",
              "    </tr>\n",
              "    <tr>\n",
              "      <th>412</th>\n",
              "      <td>50</td>\n",
              "      <td>222</td>\n",
              "      <td>2.758729</td>\n",
              "      <td>Star Trek: First Contact (1996)</td>\n",
              "    </tr>\n",
              "    <tr>\n",
              "      <th>413</th>\n",
              "      <td>50</td>\n",
              "      <td>127</td>\n",
              "      <td>2.809224</td>\n",
              "      <td>Godfather, The (1972)</td>\n",
              "    </tr>\n",
              "  </tbody>\n",
              "</table>\n",
              "</div>"
            ],
            "text/plain": [
              "     movie  movieId  distance                            title\n",
              "408     50       50  0.000000                 Star Wars (1977)\n",
              "409     50      181  1.706018        Return of the Jedi (1983)\n",
              "410     50        1  2.415084                 Toy Story (1995)\n",
              "411     50      121  2.709324    Independence Day (ID4) (1996)\n",
              "412     50      222  2.758729  Star Trek: First Contact (1996)\n",
              "413     50      127  2.809224            Godfather, The (1972)"
            ]
          },
          "metadata": {
            "tags": []
          },
          "execution_count": 22
        }
      ]
    },
    {
      "cell_type": "code",
      "metadata": {
        "colab": {
          "base_uri": "https://localhost:8080/",
          "height": 238
        },
        "id": "Szf2y0PM9seF",
        "outputId": "64041d24-a7a8-452a-ee48-82f4a4a3e7b4"
      },
      "source": [
        "id = 71\n",
        "closest_movies[closest_movies.movie == id]"
      ],
      "execution_count": 23,
      "outputs": [
        {
          "output_type": "execute_result",
          "data": {
            "text/html": [
              "<div>\n",
              "<style scoped>\n",
              "    .dataframe tbody tr th:only-of-type {\n",
              "        vertical-align: middle;\n",
              "    }\n",
              "\n",
              "    .dataframe tbody tr th {\n",
              "        vertical-align: top;\n",
              "    }\n",
              "\n",
              "    .dataframe thead th {\n",
              "        text-align: right;\n",
              "    }\n",
              "</style>\n",
              "<table border=\"1\" class=\"dataframe\">\n",
              "  <thead>\n",
              "    <tr style=\"text-align: right;\">\n",
              "      <th></th>\n",
              "      <th>movie</th>\n",
              "      <th>movieId</th>\n",
              "      <th>distance</th>\n",
              "      <th>title</th>\n",
              "    </tr>\n",
              "  </thead>\n",
              "  <tbody>\n",
              "    <tr>\n",
              "      <th>672</th>\n",
              "      <td>71</td>\n",
              "      <td>71</td>\n",
              "      <td>0.000000</td>\n",
              "      <td>Lion King, The (1994)</td>\n",
              "    </tr>\n",
              "    <tr>\n",
              "      <th>673</th>\n",
              "      <td>71</td>\n",
              "      <td>588</td>\n",
              "      <td>1.393285</td>\n",
              "      <td>Beauty and the Beast (1991)</td>\n",
              "    </tr>\n",
              "    <tr>\n",
              "      <th>674</th>\n",
              "      <td>71</td>\n",
              "      <td>95</td>\n",
              "      <td>1.618131</td>\n",
              "      <td>Aladdin (1992)</td>\n",
              "    </tr>\n",
              "    <tr>\n",
              "      <th>675</th>\n",
              "      <td>71</td>\n",
              "      <td>418</td>\n",
              "      <td>1.854025</td>\n",
              "      <td>Cinderella (1950)</td>\n",
              "    </tr>\n",
              "    <tr>\n",
              "      <th>676</th>\n",
              "      <td>71</td>\n",
              "      <td>419</td>\n",
              "      <td>1.862379</td>\n",
              "      <td>Mary Poppins (1964)</td>\n",
              "    </tr>\n",
              "    <tr>\n",
              "      <th>677</th>\n",
              "      <td>71</td>\n",
              "      <td>501</td>\n",
              "      <td>1.905056</td>\n",
              "      <td>Dumbo (1941)</td>\n",
              "    </tr>\n",
              "  </tbody>\n",
              "</table>\n",
              "</div>"
            ],
            "text/plain": [
              "     movie  movieId  distance                        title\n",
              "672     71       71  0.000000        Lion King, The (1994)\n",
              "673     71      588  1.393285  Beauty and the Beast (1991)\n",
              "674     71       95  1.618131               Aladdin (1992)\n",
              "675     71      418  1.854025            Cinderella (1950)\n",
              "676     71      419  1.862379          Mary Poppins (1964)\n",
              "677     71      501  1.905056                 Dumbo (1941)"
            ]
          },
          "metadata": {
            "tags": []
          },
          "execution_count": 23
        }
      ]
    }
  ]
}