{
  "nbformat": 4,
  "nbformat_minor": 0,
  "metadata": {
    "colab": {
      "name": "LightGCN.ipynb",
      "provenance": [],
      "collapsed_sections": [],
      "authorship_tag": "ABX9TyNkUCsMzv7GgNqIU2fYbq/Q",
      "include_colab_link": true
    },
    "kernelspec": {
      "name": "python3",
      "display_name": "Python 3"
    },
    "language_info": {
      "name": "python"
    },
    "accelerator": "GPU"
  },
  "cells": [
    {
      "cell_type": "markdown",
      "metadata": {
        "id": "view-in-github",
        "colab_type": "text"
      },
      "source": [
        "<a href=\"https://colab.research.google.com/github/nathann3/better_than_netflix_movie_recommender/blob/dev/notebooks/LightGCN.ipynb\" target=\"_parent\"><img src=\"https://colab.research.google.com/assets/colab-badge.svg\" alt=\"Open In Colab\"/></a>"
      ]
    },
    {
      "cell_type": "markdown",
      "metadata": {
        "id": "MEJksYfWCl99"
      },
      "source": [
        "# Light Graph Convolution Network (LightGCN) <br> for Recommending Movies\n",
        "\n",
        "This is a TensorFlow implementation of LightGCN with a custom training loop.\n",
        "\n",
        "The LightGCN is adapted from Neural Graph Collaborative Filtering (NGCF) — a state-of-the-art GCN-based recommender model. As you can expect from its name, LightGCN is a simplified version of a typical GCN, where feature transformation and nonlinear activation is dropped in favor of keeping only the esstential compent - neighborhood aggregation.\n"
      ]
    },
    {
      "cell_type": "markdown",
      "metadata": {
        "id": "n42fxwfxCkQx"
      },
      "source": [
        "# Imports"
      ]
    },
    {
      "cell_type": "code",
      "metadata": {
        "id": "Wa6r1nI9NjcW"
      },
      "source": [
        "import math\n",
        "import numpy as np\n",
        "import os\n",
        "import pandas as pd\n",
        "import random\n",
        "import requests\n",
        "import scipy.sparse as sp\n",
        "import tensorflow as tf\n",
        "\n",
        "from sklearn.model_selection import train_test_split\n",
        "from tensorflow.keras.utils import Progbar\n",
        "from tqdm import tqdm\n",
        "from zipfile import ZipFile"
      ],
      "execution_count": 1,
      "outputs": []
    },
    {
      "cell_type": "markdown",
      "metadata": {
        "id": "13BYfGeSzYnz"
      },
      "source": [
        "# Prepare data\n",
        "\n",
        "This LightGCN implementation takes an adjacency matrix in a sparse tensor format as input.\n",
        "\n",
        "In preparation of the data for LightGCN, we must:\n",
        "\n",
        "\n",
        "*   Download the data\n",
        "*   Stratified train test split\n",
        "*   Create a normalized adjacency matrix\n",
        "*   Convert to tensor\n",
        "\n"
      ]
    },
    {
      "cell_type": "markdown",
      "metadata": {
        "id": "a9knMkZ3QJd4"
      },
      "source": [
        "## Load data\n",
        "\n",
        "The data we use is the benchmark MovieLens 100K Dataset, with 100k ratings, 1000 users, and 1700 movies."
      ]
    },
    {
      "cell_type": "code",
      "metadata": {
        "colab": {
          "base_uri": "https://localhost:8080/",
          "height": 400
        },
        "id": "OnndOdoGUFmN",
        "outputId": "e1686d6e-10d5-480a-fa6e-87f00cab0854"
      },
      "source": [
        "url = 'http://files.grouplens.org/datasets/movielens/ml-100k/u.data'\n",
        "fp = os.path.join('data', 'ml-100k.data')\n",
        "r = requests.get(url, stream=True)\n",
        "block_size = 1024\n",
        "total_size = int(r.headers.get('content-length', 0))\n",
        "num_iterables = math.ceil(total_size / block_size)\n",
        "\n",
        "# Download if not already downloaded.\n",
        "if not os.path.exists(fp):\n",
        "    with open(fp, \"wb\") as file:\n",
        "        for data in tqdm(\n",
        "            r.iter_content(block_size), total=num_iterables, unit=\"KB\", unit_scale=True\n",
        "        ):\n",
        "            file.write(data)\n",
        "\n",
        "raw_data = pd.read_csv(fp, sep='\\t', names=['userId', 'movieId', 'rating', 'timestamp'])\n",
        "print(f'Shape: {raw_data.shape}')\n",
        "raw_data.sample(10, random_state=123)"
      ],
      "execution_count": 2,
      "outputs": [
        {
          "output_type": "stream",
          "text": [
            "100%|██████████| 1.93k/1.93k [00:00<00:00, 5.18kKB/s]\n"
          ],
          "name": "stderr"
        },
        {
          "output_type": "stream",
          "text": [
            "Shape: (100000, 4)\n"
          ],
          "name": "stdout"
        },
        {
          "output_type": "execute_result",
          "data": {
            "text/html": [
              "<div>\n",
              "<style scoped>\n",
              "    .dataframe tbody tr th:only-of-type {\n",
              "        vertical-align: middle;\n",
              "    }\n",
              "\n",
              "    .dataframe tbody tr th {\n",
              "        vertical-align: top;\n",
              "    }\n",
              "\n",
              "    .dataframe thead th {\n",
              "        text-align: right;\n",
              "    }\n",
              "</style>\n",
              "<table border=\"1\" class=\"dataframe\">\n",
              "  <thead>\n",
              "    <tr style=\"text-align: right;\">\n",
              "      <th></th>\n",
              "      <th>userId</th>\n",
              "      <th>movieId</th>\n",
              "      <th>rating</th>\n",
              "      <th>timestamp</th>\n",
              "    </tr>\n",
              "  </thead>\n",
              "  <tbody>\n",
              "    <tr>\n",
              "      <th>42083</th>\n",
              "      <td>600</td>\n",
              "      <td>651</td>\n",
              "      <td>4</td>\n",
              "      <td>888451492</td>\n",
              "    </tr>\n",
              "    <tr>\n",
              "      <th>71825</th>\n",
              "      <td>607</td>\n",
              "      <td>494</td>\n",
              "      <td>5</td>\n",
              "      <td>883879556</td>\n",
              "    </tr>\n",
              "    <tr>\n",
              "      <th>99535</th>\n",
              "      <td>875</td>\n",
              "      <td>1103</td>\n",
              "      <td>5</td>\n",
              "      <td>876465144</td>\n",
              "    </tr>\n",
              "    <tr>\n",
              "      <th>47879</th>\n",
              "      <td>648</td>\n",
              "      <td>238</td>\n",
              "      <td>3</td>\n",
              "      <td>882213535</td>\n",
              "    </tr>\n",
              "    <tr>\n",
              "      <th>36734</th>\n",
              "      <td>113</td>\n",
              "      <td>273</td>\n",
              "      <td>4</td>\n",
              "      <td>875935609</td>\n",
              "    </tr>\n",
              "    <tr>\n",
              "      <th>48636</th>\n",
              "      <td>536</td>\n",
              "      <td>213</td>\n",
              "      <td>5</td>\n",
              "      <td>882360704</td>\n",
              "    </tr>\n",
              "    <tr>\n",
              "      <th>59566</th>\n",
              "      <td>684</td>\n",
              "      <td>395</td>\n",
              "      <td>2</td>\n",
              "      <td>878762243</td>\n",
              "    </tr>\n",
              "    <tr>\n",
              "      <th>44826</th>\n",
              "      <td>608</td>\n",
              "      <td>423</td>\n",
              "      <td>4</td>\n",
              "      <td>880406727</td>\n",
              "    </tr>\n",
              "    <tr>\n",
              "      <th>51584</th>\n",
              "      <td>697</td>\n",
              "      <td>628</td>\n",
              "      <td>4</td>\n",
              "      <td>882622016</td>\n",
              "    </tr>\n",
              "    <tr>\n",
              "      <th>4368</th>\n",
              "      <td>130</td>\n",
              "      <td>930</td>\n",
              "      <td>3</td>\n",
              "      <td>876251072</td>\n",
              "    </tr>\n",
              "  </tbody>\n",
              "</table>\n",
              "</div>"
            ],
            "text/plain": [
              "       userId  movieId  rating  timestamp\n",
              "42083     600      651       4  888451492\n",
              "71825     607      494       5  883879556\n",
              "99535     875     1103       5  876465144\n",
              "47879     648      238       3  882213535\n",
              "36734     113      273       4  875935609\n",
              "48636     536      213       5  882360704\n",
              "59566     684      395       2  878762243\n",
              "44826     608      423       4  880406727\n",
              "51584     697      628       4  882622016\n",
              "4368      130      930       3  876251072"
            ]
          },
          "metadata": {
            "tags": []
          },
          "execution_count": 2
        }
      ]
    },
    {
      "cell_type": "code",
      "metadata": {
        "colab": {
          "base_uri": "https://localhost:8080/",
          "height": 400
        },
        "id": "tMVA56anM1QH",
        "outputId": "00fc84c1-e0f7-4599-8681-c773876a29c4"
      },
      "source": [
        "# Download movie titles.\n",
        "url = 'https://files.grouplens.org/datasets/movielens/ml-100k/u.item'\n",
        "fp = os.path.join('data', 'ml-100k.item')\n",
        "r = requests.get(url, stream=True)\n",
        "block_size = 1024\n",
        "total_size = int(r.headers.get('content-length', 0))\n",
        "num_iterables = math.ceil(total_size / block_size)\n",
        "\n",
        "# Download if not already downloaded.\n",
        "if not os.path.exists(fp):\n",
        "    with open(fp, 'wb') as file:\n",
        "        for data in tqdm(\n",
        "            r.iter_content(block_size), total=num_iterables, unit='KB', unit_scale=True\n",
        "        ):\n",
        "            file.write(data)\n",
        "movie_titles = pd.read_csv(fp, sep='|', names=['movieId', 'title'], usecols = range(2), encoding='iso-8859-1')\n",
        "print(f'Shape: {movie_titles.shape}')\n",
        "movie_titles.sample(10, random_state=123)"
      ],
      "execution_count": 3,
      "outputs": [
        {
          "output_type": "stream",
          "text": [
            "100%|██████████| 231/231 [00:00<00:00, 1.14kKB/s]"
          ],
          "name": "stderr"
        },
        {
          "output_type": "stream",
          "text": [
            "Shape: (1682, 2)\n"
          ],
          "name": "stdout"
        },
        {
          "output_type": "stream",
          "text": [
            "\n"
          ],
          "name": "stderr"
        },
        {
          "output_type": "execute_result",
          "data": {
            "text/html": [
              "<div>\n",
              "<style scoped>\n",
              "    .dataframe tbody tr th:only-of-type {\n",
              "        vertical-align: middle;\n",
              "    }\n",
              "\n",
              "    .dataframe tbody tr th {\n",
              "        vertical-align: top;\n",
              "    }\n",
              "\n",
              "    .dataframe thead th {\n",
              "        text-align: right;\n",
              "    }\n",
              "</style>\n",
              "<table border=\"1\" class=\"dataframe\">\n",
              "  <thead>\n",
              "    <tr style=\"text-align: right;\">\n",
              "      <th></th>\n",
              "      <th>movieId</th>\n",
              "      <th>title</th>\n",
              "    </tr>\n",
              "  </thead>\n",
              "  <tbody>\n",
              "    <tr>\n",
              "      <th>304</th>\n",
              "      <td>305</td>\n",
              "      <td>Ice Storm, The (1997)</td>\n",
              "    </tr>\n",
              "    <tr>\n",
              "      <th>450</th>\n",
              "      <td>451</td>\n",
              "      <td>Grease (1978)</td>\n",
              "    </tr>\n",
              "    <tr>\n",
              "      <th>691</th>\n",
              "      <td>692</td>\n",
              "      <td>American President, The (1995)</td>\n",
              "    </tr>\n",
              "    <tr>\n",
              "      <th>1408</th>\n",
              "      <td>1409</td>\n",
              "      <td>Swan Princess, The (1994)</td>\n",
              "    </tr>\n",
              "    <tr>\n",
              "      <th>1075</th>\n",
              "      <td>1076</td>\n",
              "      <td>Pagemaster, The (1994)</td>\n",
              "    </tr>\n",
              "    <tr>\n",
              "      <th>103</th>\n",
              "      <td>104</td>\n",
              "      <td>Theodore Rex (1995)</td>\n",
              "    </tr>\n",
              "    <tr>\n",
              "      <th>167</th>\n",
              "      <td>168</td>\n",
              "      <td>Monty Python and the Holy Grail (1974)</td>\n",
              "    </tr>\n",
              "    <tr>\n",
              "      <th>1460</th>\n",
              "      <td>1461</td>\n",
              "      <td>Here Comes Cookie (1935)</td>\n",
              "    </tr>\n",
              "    <tr>\n",
              "      <th>1189</th>\n",
              "      <td>1190</td>\n",
              "      <td>That Old Feeling (1997)</td>\n",
              "    </tr>\n",
              "    <tr>\n",
              "      <th>1438</th>\n",
              "      <td>1439</td>\n",
              "      <td>Jason's Lyric (1994)</td>\n",
              "    </tr>\n",
              "  </tbody>\n",
              "</table>\n",
              "</div>"
            ],
            "text/plain": [
              "      movieId                                   title\n",
              "304       305                   Ice Storm, The (1997)\n",
              "450       451                           Grease (1978)\n",
              "691       692          American President, The (1995)\n",
              "1408     1409               Swan Princess, The (1994)\n",
              "1075     1076                  Pagemaster, The (1994)\n",
              "103       104                     Theodore Rex (1995)\n",
              "167       168  Monty Python and the Holy Grail (1974)\n",
              "1460     1461                Here Comes Cookie (1935)\n",
              "1189     1190                 That Old Feeling (1997)\n",
              "1438     1439                    Jason's Lyric (1994)"
            ]
          },
          "metadata": {
            "tags": []
          },
          "execution_count": 3
        }
      ]
    },
    {
      "cell_type": "markdown",
      "metadata": {
        "id": "HpImryCnB9MT"
      },
      "source": [
        "## Train test split\n",
        "\n",
        "We split the data using a stratified split so the users in the training set are also the same users in the test set. LightGCN is not able to generate recommendations for users not yet seen in the training set.\n",
        "\n",
        "Here we will have a training size of 75%"
      ]
    },
    {
      "cell_type": "code",
      "metadata": {
        "colab": {
          "base_uri": "https://localhost:8080/"
        },
        "id": "tz_HIzLEby5C",
        "outputId": "90225a38-c42c-4658-fc8e-8b8c9e74325c"
      },
      "source": [
        "# Split each user's reviews by % for training.\n",
        "splits = []\n",
        "train_size  = 0.75\n",
        "for _, group in raw_data.groupby('userId'):\n",
        "    group = group.sample(frac=1, random_state=123)\n",
        "    group_splits = np.split(group, [round(train_size * len(group))])\n",
        "\n",
        "    # Label the train and test sets.\n",
        "    for i in range(2):\n",
        "        group_splits[i][\"split_index\"] = i\n",
        "        splits.append(group_splits[i])\n",
        "\n",
        "# Concatenate splits for all the groups together.\n",
        "splits_all = pd.concat(splits)\n",
        "\n",
        "# Take train and test split using split_index.\n",
        "train = splits_all[splits_all[\"split_index\"] == 0].drop(\"split_index\", axis=1)\n",
        "test = splits_all[splits_all[\"split_index\"] == 1].drop(\"split_index\", axis=1)\n",
        "\n",
        "print(f'Train Shape: {train.shape}')\n",
        "print(f'Test Shape: {test.shape}')\n",
        "print(f'Do they have the same users?: {set(train.userId) == set(test.userId)}')"
      ],
      "execution_count": 4,
      "outputs": [
        {
          "output_type": "stream",
          "text": [
            "Train Shape: (74992, 4)\n",
            "Test Shape: (25008, 4)\n",
            "Do they have the same users?: True\n"
          ],
          "name": "stdout"
        }
      ]
    },
    {
      "cell_type": "markdown",
      "metadata": {
        "id": "tW5K4Ts6ziae"
      },
      "source": [
        "## Reindex\n",
        "Reset the index of users and movies from 0-n for both the training and test data. This is to allow better tracking of users and movies. Dictionaries are created so we can easily translate back and forth from the old index to the new index.\n",
        "\n",
        "We would also normally remove users with no ratings, but in this case all entries have a user and a rating between 1-5.\n",
        "\n"
      ]
    },
    {
      "cell_type": "code",
      "metadata": {
        "colab": {
          "base_uri": "https://localhost:8080/"
        },
        "id": "Ww5LA_XTDxYk",
        "outputId": "50e1e1cb-f030-4cce-86c1-f521b00577b8"
      },
      "source": [
        "combined = train.append(test)\n",
        "\n",
        "n_users = combined['userId'].nunique()\n",
        "print('Number of users:', n_users)\n",
        "\n",
        "n_movies = combined['movieId'].nunique()\n",
        "print('Number of movies:', n_movies)"
      ],
      "execution_count": 5,
      "outputs": [
        {
          "output_type": "stream",
          "text": [
            "Number of users: 943\n",
            "Number of movies: 1682\n"
          ],
          "name": "stdout"
        }
      ]
    },
    {
      "cell_type": "code",
      "metadata": {
        "id": "v8NnG3RC8utZ"
      },
      "source": [
        "# Create DataFrame with reset index of 0-n_movies.\n",
        "movie_new = combined[['movieId']].drop_duplicates()\n",
        "movie_new['movieId_new'] = np.arange(len(movie_new))\n",
        "\n",
        "train_reindex = pd.merge(train, movie_new, on='movieId', how='left')\n",
        "# Reset index to 0-n_users.\n",
        "train_reindex['userId_new'] = train_reindex['userId'] - 1  \n",
        "train_reindex = train_reindex[['userId_new', 'movieId_new', 'rating']]\n",
        "\n",
        "test_reindex = pd.merge(test, movie_new, on='movieId', how='left')\n",
        "# Reset index to 0-n_users.\n",
        "test_reindex['userId_new'] = test_reindex['userId'] - 1\n",
        "test_reindex = test_reindex[['userId_new', 'movieId_new', 'rating']]\n",
        "\n",
        "# Create dictionaries so we can convert to and from indexes\n",
        "item2id = dict(zip(movie_new['movieId'], movie_new['movieId_new']))\n",
        "id2item = dict(zip(movie_new['movieId_new'], movie_new['movieId']))\n",
        "user2id = dict(zip(train['userId'], train_reindex['userId_new']))\n",
        "id2user = dict(zip(train_reindex['userId_new'], train['userId']))"
      ],
      "execution_count": 6,
      "outputs": []
    },
    {
      "cell_type": "code",
      "metadata": {
        "id": "SGuvcaHl9r2y"
      },
      "source": [
        "# Keep track of which movies each user has reviewed.\n",
        "# To be used later in training the LightGCN.\n",
        "interacted = (\n",
        "    train_reindex.groupby(\"userId_new\")[\"movieId_new\"]\n",
        "    .apply(set)\n",
        "    .reset_index()\n",
        "    .rename(columns={\"movieId_new\": \"movie_interacted\"})\n",
        ")"
      ],
      "execution_count": 7,
      "outputs": []
    },
    {
      "cell_type": "markdown",
      "metadata": {
        "id": "IcNQ8-IpgQ1Y"
      },
      "source": [
        "## Adjacency matrix\n",
        "\n",
        "The adjacency matrix is a data structure the represents a graph by encoding the connections and between nodes. In our case, nodes are both users and movies. Rows and columns consist of ALL the nodes and for every connection (reviewed movie) there is the value 1.\n",
        "\n",
        "To first create the adjacency matrix we first create a user-item graph where similar to the adjacency matrix, connected users and movies are represented as 1 in a sparse array. Unlike the adjacency matrix, a user-item graph only has users for the columns/rows and items as the other, where as the adjacency matrix has both users and items concatenated as rows and columns.\n",
        "\n",
        "\n",
        "In this case, because the graph is undirected (meaning the connections between nodes do not have a specified direction)\n",
        "the adjacency matrix is symetric. We use this to our advantage through transposing the user-item graph to create the adjacency matrix.\n",
        "\n",
        "Our adjacency matrix will not include self-connections where each node is connected to itself."
      ]
    },
    {
      "cell_type": "markdown",
      "metadata": {
        "id": "VKWsqQ8wLQ3G"
      },
      "source": [
        "### Create adjacency matrix"
      ]
    },
    {
      "cell_type": "code",
      "metadata": {
        "colab": {
          "base_uri": "https://localhost:8080/"
        },
        "id": "7OHiFzdrkplj",
        "outputId": "0264da4d-4052-48cd-f116-1a0025da02e8"
      },
      "source": [
        "# Create user-item graph (sparse matix where users are rows and movies are columns.\n",
        "# 1 if a user reviewed that movie, 0 if they didn't).\n",
        "R = sp.dok_matrix((n_users, n_movies), dtype=np.float32)\n",
        "R[train_reindex['userId_new'], train_reindex['movieId_new']] = 1\n",
        "\n",
        "# Create the adjaceny matrix with the user-item graph.\n",
        "adj_mat = sp.dok_matrix((n_users + n_movies, n_users + n_movies), dtype=np.float32)\n",
        "\n",
        "# List of lists.\n",
        "adj_mat.tolil()\n",
        "R = R.tolil()\n",
        "\n",
        "# Put together adjacency matrix. Movies and users are nodes/vertices.\n",
        "# 1 if the movie and user are connected.\n",
        "adj_mat[:n_users, n_users:] = R\n",
        "adj_mat[n_users:, :n_users] = R.T\n",
        "\n",
        "adj_mat"
      ],
      "execution_count": 8,
      "outputs": [
        {
          "output_type": "execute_result",
          "data": {
            "text/plain": [
              "<2625x2625 sparse matrix of type '<class 'numpy.float32'>'\n",
              "\twith 149984 stored elements in Dictionary Of Keys format>"
            ]
          },
          "metadata": {
            "tags": []
          },
          "execution_count": 8
        }
      ]
    },
    {
      "cell_type": "markdown",
      "metadata": {
        "id": "tqpYiCIg6szq"
      },
      "source": [
        "### Normalize adjacency matrix\n",
        "This helps numerically stabilize values when repeating graph convolution operations, avoiding the scale of the embeddings increasing or decreasing.\n",
        "\n",
        "$\\tilde{A} = D^{-\\frac{1}{2}}AD^{-\\frac{1}{2}}$\n",
        "\n",
        "$D$ is the degree/diagonal matrix where it is zero everywhere but its diagonal. The diagonal has the value of the neighborhood size of each node (how many other nodes that node connects to)\n",
        "\n",
        "\n",
        "$D^{-\\frac{1}{2}}$ on the left side scales $A$ by the source node, while $D^{-\\frac{1}{2}} right side scales by the neighborhood size of the destination node rather than the source node.\n",
        "\n",
        "\n"
      ]
    },
    {
      "cell_type": "code",
      "metadata": {
        "id": "uQycbSu56w2_"
      },
      "source": [
        "# Calculate degree matrix D (for every row count the number of nonzero entries)\n",
        "D_values = np.array(adj_mat.sum(1))\n",
        "\n",
        "# Square root and inverse.\n",
        "D_inv_values = np.power(D_values  + 1e-9, -0.5).flatten()\n",
        "D_inv_values[np.isinf(D_inv_values)] = 0.0\n",
        "\n",
        " # Create sparse matrix with the values of D^(-0.5) are the diagonals.\n",
        "D_inv_sq_root = sp.diags(D_inv_values)\n",
        "\n",
        "# Eval (D^-0.5 * A * D^-0.5).\n",
        "norm_adj_mat = D_inv_sq_root.dot(adj_mat).dot(D_inv_sq_root)"
      ],
      "execution_count": 9,
      "outputs": []
    },
    {
      "cell_type": "markdown",
      "metadata": {
        "id": "aXI7aZID6tu2"
      },
      "source": [
        "### Convert to tensor"
      ]
    },
    {
      "cell_type": "code",
      "metadata": {
        "colab": {
          "base_uri": "https://localhost:8080/"
        },
        "id": "Ez7DJXJ66q9y",
        "outputId": "467907d2-bcc5-481a-f578-824059161df8"
      },
      "source": [
        "# to COOrdinate format first ((row, column), data)\n",
        "coo = norm_adj_mat.tocoo().astype(np.float32)\n",
        "\n",
        "# create an index that will tell SparseTensor where the non-zero points are\n",
        "indices = np.mat([coo.row, coo.col]).transpose()\n",
        "\n",
        "# covert to sparse tensor\n",
        "A_tilde = tf.SparseTensor(indices, coo.data, coo.shape)\n",
        "A_tilde"
      ],
      "execution_count": 10,
      "outputs": [
        {
          "output_type": "execute_result",
          "data": {
            "text/plain": [
              "<tensorflow.python.framework.sparse_tensor.SparseTensor at 0x7fcb899d3e10>"
            ]
          },
          "metadata": {
            "tags": []
          },
          "execution_count": 10
        }
      ]
    },
    {
      "cell_type": "markdown",
      "metadata": {
        "id": "LTiAa5Yt3ZoX"
      },
      "source": [
        "# LightGCN\n",
        "\n",
        "LightGCN keeps neighbor aggregation, while removing self-connections, feature transformation, and nonlinear activation, simplifying as well as improving performance.\n",
        "\n",
        "Neighbor aggregation is done through graph convolutions to learn embeddings that represent nodes. The size of the embeddings can be changed to whatever number. In this notebook we set the embedding dimension to 64.\n",
        "\n",
        "In matrix form, graph convolution can be thought of a matrix multiplication. In the implementation we create a graph convoultion layer that performs just this, allowing us to stack as many graph convolutions we want. We have the number of layers as 3 in this notebook.\n"
      ]
    },
    {
      "cell_type": "code",
      "metadata": {
        "id": "zYEkpdFd-fri"
      },
      "source": [
        "class GraphConv(tf.keras.layers.Layer):\n",
        "    def __init__(self, adj_mat):\n",
        "        super(GraphConv, self).__init__()\n",
        "        self.adj_mat = adj_mat\n",
        "\n",
        "    def call(self, ego_embeddings):\n",
        "        return tf.sparse.sparse_dense_matmul(self.adj_mat, ego_embeddings)"
      ],
      "execution_count": 11,
      "outputs": []
    },
    {
      "cell_type": "code",
      "metadata": {
        "id": "zz05Iw3_7Hlj",
        "cellView": "code"
      },
      "source": [
        "class LightGCN(tf.keras.Model):\n",
        "    def __init__(self, adj_mat, n_users, n_items, n_layers=3, emb_dim=64, decay=0.0001):\n",
        "        super(LightGCN, self).__init__()\n",
        "        self.adj_mat = adj_mat\n",
        "        self.n_users = n_users\n",
        "        self.n_items = n_items\n",
        "        self.n_layers = n_layers\n",
        "        self.emb_dim = emb_dim\n",
        "        self.decay = decay\n",
        "\n",
        "        # Initialize user and item embeddings.\n",
        "        initializer = tf.keras.initializers.GlorotNormal()\n",
        "        self.user_embedding = tf.Variable(\n",
        "            initializer([self.n_users, self.emb_dim]), name='user_embedding'\n",
        "        )\n",
        "        self.item_embedding = tf.Variable(\n",
        "            initializer([self.n_items, self.emb_dim]), name='item_embedding'\n",
        "        )\n",
        "\n",
        "        # Stack light graph convolutional layers.\n",
        "        self.gcn = [GraphConv(adj_mat) for layer in range(n_layers)]\n",
        "\n",
        "    def call(self, user_emb, item_emb):\n",
        "        output_embeddings = tf.concat([user_emb, item_emb], axis=0)\n",
        "        all_embeddings = [output_embeddings]\n",
        "\n",
        "        # Graph convolutions.\n",
        "        for i in range(0, self.n_layers):\n",
        "            output_embeddings = self.gcn[i](output_embeddings)\n",
        "            all_embeddings += [output_embeddings]\n",
        "\n",
        "        # Compute the mean of all layers\n",
        "        all_embeddings = tf.stack(all_embeddings, axis=1)\n",
        "        all_embeddings = tf.reduce_mean(all_embeddings, axis=1, keepdims=False)\n",
        "\n",
        "        # Split into users and items embeddings\n",
        "        new_user_embeddings, new_item_embeddings = tf.split(\n",
        "            all_embeddings, [self.n_users, self.n_items], axis=0\n",
        "        )\n",
        "\n",
        "        return new_user_embeddings, new_item_embeddings\n",
        "\n",
        "    def recommend(self, users, k):\n",
        "        # Calculate the scores.\n",
        "        new_user_embed, new_item_embed = model(self.user_embedding, self.item_embedding)\n",
        "        user_embed = tf.nn.embedding_lookup(new_user_embed, users)\n",
        "        pos_items = range(self.n_items)\n",
        "        pos_item_embed= tf.nn.embedding_lookup(new_item_embed, pos_items)\n",
        "        test_scores = []  # delete maybe\n",
        "        scores = tf.matmul(user_embed, pos_item_embed, transpose_a=False, transpose_b=True)\n",
        "        test_scores.append(np.array(scores))  # delete maybe\n",
        "        # test_scores = np.array(test_scores)  # uncomment\n",
        "        test_scores = np.concatenate(test_scores, axis=0)\n",
        "\n",
        "        # Remove movies already seen.\n",
        "        test_scores += R.tocsr()[users, :] * -np.inf\n",
        "\n",
        "        # Get top movies.\n",
        "        test_user_idx = np.arange(test_scores.shape[0])[:, None]\n",
        "        top_items = np.argpartition(test_scores, -k, axis=1)[:, -k:]\n",
        "        top_scores = test_scores[test_user_idx, top_items]\n",
        "        sort_ind = np.argsort(-top_scores)\n",
        "        top_items = top_items[test_user_idx, sort_ind]\n",
        "        top_scores = top_scores[test_user_idx, sort_ind]\n",
        "        top_items, top_scores = np.array(top_items), np.array(top_scores)\n",
        "\n",
        "        # Create Dataframe with recommended movies.\n",
        "        topk_scores = pd.DataFrame(\n",
        "            {\n",
        "                \"userId\": np.repeat(\n",
        "                    test[\"userId\"].drop_duplicates().values, top_items.shape[1]\n",
        "                ),\n",
        "                \"movieId\": [id2item[item] for item in top_items.flatten()],\n",
        "                \"prediction\": top_scores.flatten(),\n",
        "            }\n",
        "        )\n",
        "\n",
        "        return topk_scores"
      ],
      "execution_count": 12,
      "outputs": []
    },
    {
      "cell_type": "markdown",
      "metadata": {
        "id": "U7K33fkMjnxA"
      },
      "source": [
        "## Custom training\n",
        "\n",
        "For training, we batch a number of users from the training set and sample a single positive item (movie that has been reviewed) and a single negative item (movie that has not been reviewed) for each user."
      ]
    },
    {
      "cell_type": "code",
      "metadata": {
        "colab": {
          "base_uri": "https://localhost:8080/"
        },
        "id": "b2qgq7i93b18",
        "outputId": "61b756fc-9c97-4c6a-fe4a-46f9fea59d41"
      },
      "source": [
        "N_LAYERS = 3\n",
        "EMBED_DIM = 64\n",
        "DECAY = 0.0001\n",
        "EPOCHS = 50\n",
        "BATCH_SIZE = 1024\n",
        "LEARNING_RATE = 5e-3\n",
        "\n",
        "# We expect this # of parameters in our model.\n",
        "print(f'Parameters: {EMBED_DIM * (n_users + n_movies)}')"
      ],
      "execution_count": 13,
      "outputs": [
        {
          "output_type": "stream",
          "text": [
            "Parameters: 168000\n"
          ],
          "name": "stdout"
        }
      ]
    },
    {
      "cell_type": "code",
      "metadata": {
        "id": "aUKzD4D8GN-7"
      },
      "source": [
        "# Initialize model.\n",
        "optimizer = tf.keras.optimizers.Adam(learning_rate=LEARNING_RATE)\n",
        "model = LightGCN(A_tilde,\n",
        "                 n_users = n_users,\n",
        "                 n_items = n_movies,\n",
        "                 n_layers = N_LAYERS,\n",
        "                 emb_dim = EMBED_DIM,\n",
        "                 decay = DECAY)"
      ],
      "execution_count": 14,
      "outputs": []
    },
    {
      "cell_type": "code",
      "metadata": {
        "colab": {
          "base_uri": "https://localhost:8080/"
        },
        "id": "xOwDT8edOQMY",
        "outputId": "7d4568a4-a1db-4d7c-c7fc-dd6c3ee706ef"
      },
      "source": [
        "# Custom training loop from scratch.\n",
        "for epoch in range(1, EPOCHS + 1):\n",
        "    print('Epoch %d/%d' % (epoch, EPOCHS))\n",
        "    n_batch = train_reindex.shape[0] // BATCH_SIZE + 1\n",
        "    bar = Progbar(n_batch, stateful_metrics='training loss')\n",
        "    for idx in range(1, n_batch + 1):\n",
        "        # Sample batch_size number of users with positive and negative items.\n",
        "        indices = range(n_users)\n",
        "        if n_users < BATCH_SIZE:\n",
        "            users = np.array([random.choice(indices) for _ in range(BATCH_SIZE)])\n",
        "        else:\n",
        "            users = np.array(random.sample(indices, BATCH_SIZE))\n",
        "\n",
        "        def sample_neg(x):\n",
        "            while True:\n",
        "                neg_id = random.randint(0, n_movies - 1)\n",
        "                if neg_id not in x:\n",
        "                    return neg_id\n",
        "\n",
        "        # Sample a single movie for each user that the user did and did not review.\n",
        "        interact = interacted.iloc[users]\n",
        "        pos_items = interact['movie_interacted'].apply(lambda x: random.choice(list(x)))\n",
        "        neg_items = interact['movie_interacted'].apply(lambda x: sample_neg(x))\n",
        "\n",
        "        users, pos_items, neg_items = users, np.array(pos_items), np.array(neg_items)\n",
        "\n",
        "        with tf.GradientTape() as tape:\n",
        "            # Call LightGCN with user and item embeddings.\n",
        "            new_user_embeddings, new_item_embeddings = model(\n",
        "                model.user_embedding, model.item_embedding\n",
        "            )\n",
        "\n",
        "            # Embeddings after convolutions.\n",
        "            user_embeddings = tf.nn.embedding_lookup(new_user_embeddings, users)\n",
        "            pos_item_embeddings = tf.nn.embedding_lookup(new_item_embeddings, pos_items)\n",
        "            neg_item_embeddings = tf.nn.embedding_lookup(new_item_embeddings, neg_items)\n",
        "\n",
        "            # Initial embeddings before convolutions.\n",
        "            old_user_embeddings = tf.nn.embedding_lookup(\n",
        "                model.user_embedding, users\n",
        "            )\n",
        "            old_pos_item_embeddings = tf.nn.embedding_lookup(\n",
        "                model.item_embedding, pos_items\n",
        "            )\n",
        "            old_neg_item_embeddings = tf.nn.embedding_lookup(\n",
        "                model.item_embedding, neg_items\n",
        "            )\n",
        "\n",
        "            # Calculate loss.\n",
        "            pos_scores = tf.reduce_sum(\n",
        "                tf.multiply(user_embeddings, pos_item_embeddings), axis=1\n",
        "            )\n",
        "            neg_scores = tf.reduce_sum(\n",
        "                tf.multiply(user_embeddings, neg_item_embeddings), axis=1\n",
        "            )\n",
        "            regularizer = (\n",
        "                tf.nn.l2_loss(old_user_embeddings)\n",
        "                + tf.nn.l2_loss(old_pos_item_embeddings)\n",
        "                + tf.nn.l2_loss(old_neg_item_embeddings)\n",
        "            )\n",
        "            regularizer = regularizer / BATCH_SIZE\n",
        "            mf_loss = tf.reduce_mean(tf.nn.softplus(-(pos_scores - neg_scores)))\n",
        "            emb_loss = DECAY * regularizer\n",
        "            loss = mf_loss + emb_loss\n",
        "\n",
        "        # Retreive and apply gradients.\n",
        "        grads = tape.gradient(loss, model.trainable_weights)\n",
        "        optimizer.apply_gradients(zip(grads, model.trainable_weights))\n",
        "\n",
        "        bar.add(1, values=[('training loss', float(loss))])"
      ],
      "execution_count": 15,
      "outputs": [
        {
          "output_type": "stream",
          "text": [
            "Epoch 1/50\n",
            "74/74 [==============================] - 3s 24ms/step - training loss: 0.4960\n",
            "Epoch 2/50\n",
            "74/74 [==============================] - 2s 23ms/step - training loss: 0.2862\n",
            "Epoch 3/50\n",
            "74/74 [==============================] - 2s 23ms/step - training loss: 0.2500\n",
            "Epoch 4/50\n",
            "74/74 [==============================] - 2s 23ms/step - training loss: 0.2348\n",
            "Epoch 5/50\n",
            "74/74 [==============================] - 2s 23ms/step - training loss: 0.2291\n",
            "Epoch 6/50\n",
            "74/74 [==============================] - 2s 23ms/step - training loss: 0.2203\n",
            "Epoch 7/50\n",
            "74/74 [==============================] - 2s 23ms/step - training loss: 0.2102\n",
            "Epoch 8/50\n",
            "74/74 [==============================] - 2s 23ms/step - training loss: 0.1986\n",
            "Epoch 9/50\n",
            "74/74 [==============================] - 2s 23ms/step - training loss: 0.1892\n",
            "Epoch 10/50\n",
            "74/74 [==============================] - 2s 23ms/step - training loss: 0.1797\n",
            "Epoch 11/50\n",
            "74/74 [==============================] - 2s 22ms/step - training loss: 0.1733\n",
            "Epoch 12/50\n",
            "74/74 [==============================] - 2s 23ms/step - training loss: 0.1686\n",
            "Epoch 13/50\n",
            "74/74 [==============================] - 2s 23ms/step - training loss: 0.1673\n",
            "Epoch 14/50\n",
            "74/74 [==============================] - 2s 23ms/step - training loss: 0.1662\n",
            "Epoch 15/50\n",
            "74/74 [==============================] - 2s 24ms/step - training loss: 0.1637\n",
            "Epoch 16/50\n",
            "74/74 [==============================] - 2s 25ms/step - training loss: 0.1614\n",
            "Epoch 17/50\n",
            "74/74 [==============================] - 2s 24ms/step - training loss: 0.1556\n",
            "Epoch 18/50\n",
            "74/74 [==============================] - 2s 24ms/step - training loss: 0.1577\n",
            "Epoch 19/50\n",
            "74/74 [==============================] - 2s 25ms/step - training loss: 0.1536\n",
            "Epoch 20/50\n",
            "74/74 [==============================] - 2s 25ms/step - training loss: 0.1518\n",
            "Epoch 21/50\n",
            "74/74 [==============================] - 2s 25ms/step - training loss: 0.1501\n",
            "Epoch 22/50\n",
            "74/74 [==============================] - 2s 25ms/step - training loss: 0.1463\n",
            "Epoch 23/50\n",
            "74/74 [==============================] - 2s 24ms/step - training loss: 0.1427\n",
            "Epoch 24/50\n",
            "74/74 [==============================] - 2s 25ms/step - training loss: 0.1436\n",
            "Epoch 25/50\n",
            "74/74 [==============================] - 2s 25ms/step - training loss: 0.1396\n",
            "Epoch 26/50\n",
            "74/74 [==============================] - 2s 25ms/step - training loss: 0.1361\n",
            "Epoch 27/50\n",
            "74/74 [==============================] - 2s 25ms/step - training loss: 0.1348\n",
            "Epoch 28/50\n",
            "74/74 [==============================] - 2s 24ms/step - training loss: 0.1316\n",
            "Epoch 29/50\n",
            "74/74 [==============================] - 2s 23ms/step - training loss: 0.1326\n",
            "Epoch 30/50\n",
            "74/74 [==============================] - 2s 23ms/step - training loss: 0.1277\n",
            "Epoch 31/50\n",
            "74/74 [==============================] - 2s 23ms/step - training loss: 0.1263\n",
            "Epoch 32/50\n",
            "74/74 [==============================] - 2s 23ms/step - training loss: 0.1249\n",
            "Epoch 33/50\n",
            "74/74 [==============================] - 2s 23ms/step - training loss: 0.1262\n",
            "Epoch 34/50\n",
            "74/74 [==============================] - 2s 23ms/step - training loss: 0.1220\n",
            "Epoch 35/50\n",
            "74/74 [==============================] - 2s 23ms/step - training loss: 0.1219\n",
            "Epoch 36/50\n",
            "74/74 [==============================] - 2s 23ms/step - training loss: 0.1188\n",
            "Epoch 37/50\n",
            "74/74 [==============================] - 2s 23ms/step - training loss: 0.1162\n",
            "Epoch 38/50\n",
            "74/74 [==============================] - 2s 23ms/step - training loss: 0.1164\n",
            "Epoch 39/50\n",
            "74/74 [==============================] - 2s 23ms/step - training loss: 0.1126\n",
            "Epoch 40/50\n",
            "74/74 [==============================] - 2s 23ms/step - training loss: 0.1112\n",
            "Epoch 41/50\n",
            "74/74 [==============================] - 2s 23ms/step - training loss: 0.1124\n",
            "Epoch 42/50\n",
            "74/74 [==============================] - 2s 23ms/step - training loss: 0.1094\n",
            "Epoch 43/50\n",
            "74/74 [==============================] - 2s 23ms/step - training loss: 0.1093\n",
            "Epoch 44/50\n",
            "74/74 [==============================] - 2s 23ms/step - training loss: 0.1068\n",
            "Epoch 45/50\n",
            "74/74 [==============================] - 2s 23ms/step - training loss: 0.1053\n",
            "Epoch 46/50\n",
            "74/74 [==============================] - 2s 23ms/step - training loss: 0.1018\n",
            "Epoch 47/50\n",
            "74/74 [==============================] - 2s 23ms/step - training loss: 0.1012\n",
            "Epoch 48/50\n",
            "74/74 [==============================] - 2s 23ms/step - training loss: 0.1011\n",
            "Epoch 49/50\n",
            "74/74 [==============================] - 2s 23ms/step - training loss: 0.0993\n",
            "Epoch 50/50\n",
            "74/74 [==============================] - 2s 23ms/step - training loss: 0.0992\n"
          ],
          "name": "stdout"
        }
      ]
    },
    {
      "cell_type": "markdown",
      "metadata": {
        "id": "bKunS0Dinf6T"
      },
      "source": [
        "# Recommend"
      ]
    },
    {
      "cell_type": "code",
      "metadata": {
        "colab": {
          "base_uri": "https://localhost:8080/",
          "height": 520
        },
        "id": "1w7TDYVcNpGc",
        "outputId": "8d0e6cb6-3d2f-4157-802a-7779d60db88e"
      },
      "source": [
        "# Convert test user ids to the new ids\n",
        "users = np.array([user2id[x] for x in test['userId'].unique()])\n",
        "\n",
        "recommendations = model.recommend(users, k=10)\n",
        "recommendations = recommendations.merge(\n",
        "    movie_titles.replace({'movieId': item2id}), how='left', on='movieId'\n",
        ")[['userId', 'movieId', 'title', 'prediction']]\n",
        "recommendations.head(15)"
      ],
      "execution_count": 16,
      "outputs": [
        {
          "output_type": "execute_result",
          "data": {
            "text/html": [
              "<div>\n",
              "<style scoped>\n",
              "    .dataframe tbody tr th:only-of-type {\n",
              "        vertical-align: middle;\n",
              "    }\n",
              "\n",
              "    .dataframe tbody tr th {\n",
              "        vertical-align: top;\n",
              "    }\n",
              "\n",
              "    .dataframe thead th {\n",
              "        text-align: right;\n",
              "    }\n",
              "</style>\n",
              "<table border=\"1\" class=\"dataframe\">\n",
              "  <thead>\n",
              "    <tr style=\"text-align: right;\">\n",
              "      <th></th>\n",
              "      <th>userId</th>\n",
              "      <th>movieId</th>\n",
              "      <th>title</th>\n",
              "      <th>prediction</th>\n",
              "    </tr>\n",
              "  </thead>\n",
              "  <tbody>\n",
              "    <tr>\n",
              "      <th>0</th>\n",
              "      <td>1</td>\n",
              "      <td>100</td>\n",
              "      <td>Sgt. Bilko (1996)</td>\n",
              "      <td>5.156142</td>\n",
              "    </tr>\n",
              "    <tr>\n",
              "      <th>1</th>\n",
              "      <td>1</td>\n",
              "      <td>172</td>\n",
              "      <td>Starship Troopers (1997)</td>\n",
              "      <td>4.929258</td>\n",
              "    </tr>\n",
              "    <tr>\n",
              "      <th>2</th>\n",
              "      <td>1</td>\n",
              "      <td>475</td>\n",
              "      <td>Rob Roy (1995)</td>\n",
              "      <td>4.798719</td>\n",
              "    </tr>\n",
              "    <tr>\n",
              "      <th>3</th>\n",
              "      <td>1</td>\n",
              "      <td>91</td>\n",
              "      <td>Diabolique (1996)</td>\n",
              "      <td>4.785120</td>\n",
              "    </tr>\n",
              "    <tr>\n",
              "      <th>4</th>\n",
              "      <td>1</td>\n",
              "      <td>173</td>\n",
              "      <td>Doom Generation, The (1995)</td>\n",
              "      <td>4.713263</td>\n",
              "    </tr>\n",
              "    <tr>\n",
              "      <th>5</th>\n",
              "      <td>1</td>\n",
              "      <td>652</td>\n",
              "      <td>Heavenly Creatures (1994)</td>\n",
              "      <td>4.654722</td>\n",
              "    </tr>\n",
              "    <tr>\n",
              "      <th>6</th>\n",
              "      <td>1</td>\n",
              "      <td>82</td>\n",
              "      <td>Net, The (1995)</td>\n",
              "      <td>4.625496</td>\n",
              "    </tr>\n",
              "    <tr>\n",
              "      <th>7</th>\n",
              "      <td>1</td>\n",
              "      <td>24</td>\n",
              "      <td>Weekend at Bernie's (1989)</td>\n",
              "      <td>4.583333</td>\n",
              "    </tr>\n",
              "    <tr>\n",
              "      <th>8</th>\n",
              "      <td>1</td>\n",
              "      <td>8</td>\n",
              "      <td>Heavy Metal (1981)</td>\n",
              "      <td>4.568333</td>\n",
              "    </tr>\n",
              "    <tr>\n",
              "      <th>9</th>\n",
              "      <td>1</td>\n",
              "      <td>191</td>\n",
              "      <td>Psycho (1960)</td>\n",
              "      <td>4.507062</td>\n",
              "    </tr>\n",
              "    <tr>\n",
              "      <th>10</th>\n",
              "      <td>2</td>\n",
              "      <td>300</td>\n",
              "      <td>Nutty Professor, The (1996)</td>\n",
              "      <td>7.984299</td>\n",
              "    </tr>\n",
              "    <tr>\n",
              "      <th>11</th>\n",
              "      <td>2</td>\n",
              "      <td>313</td>\n",
              "      <td>Star Trek: Generations (1994)</td>\n",
              "      <td>7.859179</td>\n",
              "    </tr>\n",
              "    <tr>\n",
              "      <th>12</th>\n",
              "      <td>2</td>\n",
              "      <td>124</td>\n",
              "      <td>GoldenEye (1995)</td>\n",
              "      <td>7.658443</td>\n",
              "    </tr>\n",
              "    <tr>\n",
              "      <th>13</th>\n",
              "      <td>2</td>\n",
              "      <td>255</td>\n",
              "      <td>Conspiracy Theory (1997)</td>\n",
              "      <td>7.606176</td>\n",
              "    </tr>\n",
              "    <tr>\n",
              "      <th>14</th>\n",
              "      <td>2</td>\n",
              "      <td>750</td>\n",
              "      <td>Young Poisoner's Handbook, The (1995)</td>\n",
              "      <td>7.526913</td>\n",
              "    </tr>\n",
              "  </tbody>\n",
              "</table>\n",
              "</div>"
            ],
            "text/plain": [
              "    userId  movieId                                  title  prediction\n",
              "0        1      100                      Sgt. Bilko (1996)    5.156142\n",
              "1        1      172               Starship Troopers (1997)    4.929258\n",
              "2        1      475                         Rob Roy (1995)    4.798719\n",
              "3        1       91                      Diabolique (1996)    4.785120\n",
              "4        1      173            Doom Generation, The (1995)    4.713263\n",
              "5        1      652              Heavenly Creatures (1994)    4.654722\n",
              "6        1       82                        Net, The (1995)    4.625496\n",
              "7        1       24             Weekend at Bernie's (1989)    4.583333\n",
              "8        1        8                     Heavy Metal (1981)    4.568333\n",
              "9        1      191                          Psycho (1960)    4.507062\n",
              "10       2      300            Nutty Professor, The (1996)    7.984299\n",
              "11       2      313          Star Trek: Generations (1994)    7.859179\n",
              "12       2      124                       GoldenEye (1995)    7.658443\n",
              "13       2      255               Conspiracy Theory (1997)    7.606176\n",
              "14       2      750  Young Poisoner's Handbook, The (1995)    7.526913"
            ]
          },
          "metadata": {
            "tags": []
          },
          "execution_count": 16
        }
      ]
    },
    {
      "cell_type": "markdown",
      "metadata": {
        "id": "dyiRAbuymzUf"
      },
      "source": [
        "# Evaluation Metrics\n",
        "\n",
        "The performance of our model is evaluated using the test set, which consists of the exact same users in the training set but with movies the users have reviewed that the model has not seen before.\n",
        "\n",
        "A good model will recommend movies that the user has also reviewed in the test set."
      ]
    },
    {
      "cell_type": "markdown",
      "metadata": {
        "id": "VdqL2Y_Zk13p"
      },
      "source": [
        "## Prep for evaluation metrics"
      ]
    },
    {
      "cell_type": "code",
      "metadata": {
        "id": "Zzv1abx-XJ8D"
      },
      "source": [
        "# Create column with the predicted movie's rank for each user \n",
        "top_k = recommendations.copy()\n",
        "top_k['rank'] = recommendations.groupby('userId', sort=False).cumcount() + 1  # For each user, only include movies recommendations that are also in the test set\n",
        "\n",
        "# Movies that a user has not reviewed will not be included\n",
        "df_relevant = pd.merge(top_k, test, on=['userId', 'movieId'])[['userId', 'movieId', 'rank']]"
      ],
      "execution_count": 17,
      "outputs": []
    },
    {
      "cell_type": "markdown",
      "metadata": {
        "id": "zzNs2ZfMNwYu"
      },
      "source": [
        "## Precision@k\n",
        "Out of the movies that are recommended, what proportion is relevant. Relevant in this case is if the user has reviewed the movie.\n",
        "\n",
        "A precision@10 of about 0.40 means that about 40% of the recommendations from LightGCN are relevant to the user. In other words, out of the 10 recommendations made, on average a user will have 4 movies that are actually relevant."
      ]
    },
    {
      "cell_type": "code",
      "metadata": {
        "id": "f_P3JRT1ZFUS",
        "colab": {
          "base_uri": "https://localhost:8080/"
        },
        "outputId": "5d327b27-59ed-45a0-ec5b-8cce9083bff2"
      },
      "source": [
        "# Out of the # of movies a user has reviewed in the test set, how many are actually recommended\n",
        "df_relevant_count = df_relevant.groupby('userId', as_index=False)['userId'].agg({'relevant': 'count'})\n",
        "test_count = test.groupby('userId', as_index=False)['userId'].agg({'actual': 'count'})\n",
        "relevant_ratio = pd.merge(df_relevant_count, test_count, on='userId')\n",
        "\n",
        "# Calculate precision @ k\n",
        "precision_at_k = ((relevant_ratio['relevant'] / 10) / len(test['userId'].unique())).sum()\n",
        "precision_at_k"
      ],
      "execution_count": 18,
      "outputs": [
        {
          "output_type": "execute_result",
          "data": {
            "text/plain": [
              "0.4050901378579003"
            ]
          },
          "metadata": {
            "tags": []
          },
          "execution_count": 18
        }
      ]
    },
    {
      "cell_type": "markdown",
      "metadata": {
        "id": "6WIjhFbJNghG"
      },
      "source": [
        "## Recall@k\n",
        "\n",
        "Out of all the relevant movies (in the test set), how many are recommended.\n",
        "\n",
        "A recall@10 of about 0.20 means that abut 20% of the relevant movies were recommended by LightGCN. By definition you can see how even if all the recommendations made were relevant, recall@k is capped by k. A higher k means that more relevant movies can be recommended."
      ]
    },
    {
      "cell_type": "code",
      "metadata": {
        "colab": {
          "base_uri": "https://localhost:8080/"
        },
        "id": "0KRSQ4nxMb56",
        "outputId": "ef9e97fa-9643-4dc0-8fa7-0164f3a792ec"
      },
      "source": [
        "recall_at_k = ((relevant_ratio['relevant'] / relevant_ratio['actual']) / len(test['userId'].unique())).sum()\n",
        "recall_at_k"
      ],
      "execution_count": 19,
      "outputs": [
        {
          "output_type": "execute_result",
          "data": {
            "text/plain": [
              "0.21722424228484682"
            ]
          },
          "metadata": {
            "tags": []
          },
          "execution_count": 19
        }
      ]
    },
    {
      "cell_type": "markdown",
      "metadata": {
        "id": "hikpCc9KHuYi"
      },
      "source": [
        "## Mean Average Precision (MAP)\n",
        "\n",
        "Calculate the average precision for each user and average all the average precisions over all users. Penalizes incorrect rankings of movies."
      ]
    },
    {
      "cell_type": "code",
      "metadata": {
        "colab": {
          "base_uri": "https://localhost:8080/"
        },
        "id": "op9xILlzNvGw",
        "outputId": "62b5048a-e70c-4aa4-9e02-4e917820ecf1"
      },
      "source": [
        "# Calculate precision@k for each recommended movie with their corresponding rank.\n",
        "relevant_ordered = df_relevant.copy()\n",
        "relevant_ordered['precision@k'] = (relevant_ordered.groupby('userId').cumcount() + 1 )/ relevant_ordered['rank']\n",
        "\n",
        "# Calculate average precision for each user.\n",
        "relevant_ordered = relevant_ordered.groupby('userId').agg({'precision@k': 'sum'}).reset_index()\n",
        "merged = pd.merge(relevant_ordered, relevant_ratio,  on='userId')\n",
        "merged['avg_precision'] = merged['precision@k'] / merged['actual']\n",
        "\n",
        "# Calculate mean average precision\n",
        "map = (merged['avg_precision'].sum() / len(test['userId'].unique()))\n",
        "map"
      ],
      "execution_count": 20,
      "outputs": [
        {
          "output_type": "execute_result",
          "data": {
            "text/plain": [
              "0.14086142131177112"
            ]
          },
          "metadata": {
            "tags": []
          },
          "execution_count": 20
        }
      ]
    },
    {
      "cell_type": "markdown",
      "metadata": {
        "id": "FkOQGMU-i0Ze"
      },
      "source": [
        "## Normalized Discounted Cumulative Gain (NDGC)\n",
        "\n",
        "Looks at both relevant movies and the ranking order of the relevant movies.\n",
        "Normalized by the total number of users."
      ]
    },
    {
      "cell_type": "code",
      "metadata": {
        "colab": {
          "base_uri": "https://localhost:8080/"
        },
        "id": "bAEXXsZtjRRj",
        "outputId": "43c5a5b4-f3c6-4434-af28-b246c5c8b1c7"
      },
      "source": [
        "dcg = df_relevant.copy()\n",
        "dcg['dcg'] = 1 / np.log1p(dcg['rank'])\n",
        "dcg = dcg.groupby('userId', as_index=False, sort=False).agg({'dcg': 'sum'})\n",
        "ndcg = pd.merge(dcg, relevant_ratio, on='userId')\n",
        "ndcg['idcg'] = ndcg['actual'].apply(lambda x: sum(1/ np.log1p(range(1, min(x, 10) + 1))))\n",
        "ndcg = (ndcg['dcg'] / ndcg['idcg']).sum() / len(test['userId'].unique())\n",
        "ndcg"
      ],
      "execution_count": 21,
      "outputs": [
        {
          "output_type": "execute_result",
          "data": {
            "text/plain": [
              "0.4638975390865544"
            ]
          },
          "metadata": {
            "tags": []
          },
          "execution_count": 21
        }
      ]
    },
    {
      "cell_type": "markdown",
      "metadata": {
        "id": "4cS2hzWvnBP9"
      },
      "source": [
        "## Results"
      ]
    },
    {
      "cell_type": "code",
      "metadata": {
        "colab": {
          "base_uri": "https://localhost:8080/"
        },
        "id": "N0dv7v8akCOb",
        "outputId": "190198d0-05c9-48cb-a734-540dfcd8b42a"
      },
      "source": [
        "print(f'Precision: {precision_at_k:.6f}',\n",
        "      f'Recall: {recall_at_k:.6f}',\n",
        "      f'MAP: {map:.6f} ',\n",
        "      f'NDCG: {ndcg:.6f}', sep='\\n')"
      ],
      "execution_count": 22,
      "outputs": [
        {
          "output_type": "stream",
          "text": [
            "Precision: 0.405090\n",
            "Recall: 0.217224\n",
            "MAP: 0.140861 \n",
            "NDCG: 0.463898\n"
          ],
          "name": "stdout"
        }
      ]
    }
  ]
}