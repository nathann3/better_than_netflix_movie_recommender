{
 "cells": [
  {
   "cell_type": "markdown",
   "metadata": {
    "id": "MEJksYfWCl99"
   },
   "source": [
    "# Light Graph Convolution Network (LightGCN) <br> for Recommending Movies\n",
    "\n",
    "This is a TensorFlow implementation of LightGCN with a custom training loop.\n",
    "\n",
    "The LightGCN is adapted from Neural Graph Collaborative Filtering (NGCF) — a state-of-the-art GCN-based recommender model. As you can expect from its name, LightGCN is a simplified version of a typical GCN, where feature transformation and nonlinear activation is dropped in favor of keeping only the esstential compent - neighborhood aggregation.\n"
   ]
  },
  {
   "cell_type": "markdown",
   "metadata": {
    "id": "n42fxwfxCkQx"
   },
   "source": [
    "# Imports"
   ]
  },
  {
   "cell_type": "code",
   "execution_count": 1,
   "metadata": {
    "id": "Wa6r1nI9NjcW"
   },
   "outputs": [],
   "source": [
    "import math\n",
    "import numpy as np\n",
    "import os\n",
    "import pandas as pd\n",
    "import random\n",
    "import requests\n",
    "import scipy.sparse as sp\n",
    "import tensorflow as tf\n",
    "\n",
    "from sklearn.model_selection import train_test_split\n",
    "from sklearn.neighbors import NearestNeighbors\n",
    "from tensorflow.keras.utils import Progbar\n",
    "from tqdm import tqdm"
   ]
  },
  {
   "cell_type": "markdown",
   "metadata": {
    "id": "13BYfGeSzYnz"
   },
   "source": [
    "# Prepare data\n",
    "\n",
    "This LightGCN implementation takes an adjacency matrix in a sparse tensor format as input.\n",
    "\n",
    "In preparation of the data for LightGCN, we must:\n",
    "\n",
    "\n",
    "*   Download the data\n",
    "*   Stratified train test split\n",
    "*   Create a normalized adjacency matrix\n",
    "*   Convert to tensor\n",
    "\n"
   ]
  },
  {
   "cell_type": "markdown",
   "metadata": {
    "id": "a9knMkZ3QJd4"
   },
   "source": [
    "## Load data\n",
    "\n",
    "The data we use is the benchmark MovieLens 100K Dataset, with 100k ratings, 1000 users, and 1700 movies."
   ]
  },
  {
   "cell_type": "code",
   "execution_count": 2,
   "metadata": {
    "colab": {
     "base_uri": "https://localhost:8080/",
     "height": 400
    },
    "id": "OnndOdoGUFmN",
    "outputId": "6be316c8-f095-447c-bb23-ed53086522c6"
   },
   "outputs": [
    {
     "name": "stderr",
     "output_type": "stream",
     "text": [
      "100%|██████████| 1.93k/1.93k [00:00<00:00, 4.84kKB/s]\n"
     ]
    },
    {
     "name": "stdout",
     "output_type": "stream",
     "text": [
      "Shape: (100000, 4)\n"
     ]
    },
    {
     "data": {
      "text/html": [
       "<div>\n",
       "<style scoped>\n",
       "    .dataframe tbody tr th:only-of-type {\n",
       "        vertical-align: middle;\n",
       "    }\n",
       "\n",
       "    .dataframe tbody tr th {\n",
       "        vertical-align: top;\n",
       "    }\n",
       "\n",
       "    .dataframe thead th {\n",
       "        text-align: right;\n",
       "    }\n",
       "</style>\n",
       "<table border=\"1\" class=\"dataframe\">\n",
       "  <thead>\n",
       "    <tr style=\"text-align: right;\">\n",
       "      <th></th>\n",
       "      <th>userId</th>\n",
       "      <th>movieId</th>\n",
       "      <th>rating</th>\n",
       "      <th>timestamp</th>\n",
       "    </tr>\n",
       "  </thead>\n",
       "  <tbody>\n",
       "    <tr>\n",
       "      <th>42083</th>\n",
       "      <td>600</td>\n",
       "      <td>651</td>\n",
       "      <td>4</td>\n",
       "      <td>888451492</td>\n",
       "    </tr>\n",
       "    <tr>\n",
       "      <th>71825</th>\n",
       "      <td>607</td>\n",
       "      <td>494</td>\n",
       "      <td>5</td>\n",
       "      <td>883879556</td>\n",
       "    </tr>\n",
       "    <tr>\n",
       "      <th>99535</th>\n",
       "      <td>875</td>\n",
       "      <td>1103</td>\n",
       "      <td>5</td>\n",
       "      <td>876465144</td>\n",
       "    </tr>\n",
       "    <tr>\n",
       "      <th>47879</th>\n",
       "      <td>648</td>\n",
       "      <td>238</td>\n",
       "      <td>3</td>\n",
       "      <td>882213535</td>\n",
       "    </tr>\n",
       "    <tr>\n",
       "      <th>36734</th>\n",
       "      <td>113</td>\n",
       "      <td>273</td>\n",
       "      <td>4</td>\n",
       "      <td>875935609</td>\n",
       "    </tr>\n",
       "    <tr>\n",
       "      <th>48636</th>\n",
       "      <td>536</td>\n",
       "      <td>213</td>\n",
       "      <td>5</td>\n",
       "      <td>882360704</td>\n",
       "    </tr>\n",
       "    <tr>\n",
       "      <th>59566</th>\n",
       "      <td>684</td>\n",
       "      <td>395</td>\n",
       "      <td>2</td>\n",
       "      <td>878762243</td>\n",
       "    </tr>\n",
       "    <tr>\n",
       "      <th>44826</th>\n",
       "      <td>608</td>\n",
       "      <td>423</td>\n",
       "      <td>4</td>\n",
       "      <td>880406727</td>\n",
       "    </tr>\n",
       "    <tr>\n",
       "      <th>51584</th>\n",
       "      <td>697</td>\n",
       "      <td>628</td>\n",
       "      <td>4</td>\n",
       "      <td>882622016</td>\n",
       "    </tr>\n",
       "    <tr>\n",
       "      <th>4368</th>\n",
       "      <td>130</td>\n",
       "      <td>930</td>\n",
       "      <td>3</td>\n",
       "      <td>876251072</td>\n",
       "    </tr>\n",
       "  </tbody>\n",
       "</table>\n",
       "</div>"
      ],
      "text/plain": [
       "       userId  movieId  rating  timestamp\n",
       "42083     600      651       4  888451492\n",
       "71825     607      494       5  883879556\n",
       "99535     875     1103       5  876465144\n",
       "47879     648      238       3  882213535\n",
       "36734     113      273       4  875935609\n",
       "48636     536      213       5  882360704\n",
       "59566     684      395       2  878762243\n",
       "44826     608      423       4  880406727\n",
       "51584     697      628       4  882622016\n",
       "4368      130      930       3  876251072"
      ]
     },
     "execution_count": 2,
     "metadata": {
      "tags": []
     },
     "output_type": "execute_result"
    }
   ],
   "source": [
    "url = 'http://files.grouplens.org/datasets/movielens/ml-100k/u.data'\n",
    "fp = os.path.join('..', 'data', 'ml-100k.data')\n",
    "r = requests.get(url, stream=True)\n",
    "block_size = 1024\n",
    "total_size = int(r.headers.get('content-length', 0))\n",
    "num_iterables = math.ceil(total_size / block_size)\n",
    "\n",
    "# Download if not already downloaded.\n",
    "if not os.path.exists(fp):\n",
    "    dir, name = os.path.split(fp)\n",
    "    os.makedirs(dir)\n",
    "    with open(fp, \"wb\") as file:\n",
    "        for data in tqdm(\n",
    "            r.iter_content(block_size), total=num_iterables, unit=\"KB\", unit_scale=True\n",
    "        ):\n",
    "            file.write(data)\n",
    "\n",
    "raw_data = pd.read_csv(fp, sep='\\t', names=['userId', 'movieId', 'rating', 'timestamp'])\n",
    "print(f'Shape: {raw_data.shape}')\n",
    "raw_data.sample(10, random_state=123)"
   ]
  },
  {
   "cell_type": "code",
   "execution_count": 3,
   "metadata": {
    "colab": {
     "base_uri": "https://localhost:8080/",
     "height": 400
    },
    "id": "tMVA56anM1QH",
    "outputId": "d7b4f996-ba8c-4e37-d21a-bc2dfae03659"
   },
   "outputs": [
    {
     "name": "stderr",
     "output_type": "stream",
     "text": [
      "100%|██████████| 231/231 [00:00<00:00, 1.01kKB/s]"
     ]
    },
    {
     "name": "stdout",
     "output_type": "stream",
     "text": [
      "Shape: (1682, 2)\n"
     ]
    },
    {
     "name": "stderr",
     "output_type": "stream",
     "text": [
      "\n"
     ]
    },
    {
     "data": {
      "text/html": [
       "<div>\n",
       "<style scoped>\n",
       "    .dataframe tbody tr th:only-of-type {\n",
       "        vertical-align: middle;\n",
       "    }\n",
       "\n",
       "    .dataframe tbody tr th {\n",
       "        vertical-align: top;\n",
       "    }\n",
       "\n",
       "    .dataframe thead th {\n",
       "        text-align: right;\n",
       "    }\n",
       "</style>\n",
       "<table border=\"1\" class=\"dataframe\">\n",
       "  <thead>\n",
       "    <tr style=\"text-align: right;\">\n",
       "      <th></th>\n",
       "      <th>movieId</th>\n",
       "      <th>title</th>\n",
       "    </tr>\n",
       "  </thead>\n",
       "  <tbody>\n",
       "    <tr>\n",
       "      <th>304</th>\n",
       "      <td>305</td>\n",
       "      <td>Ice Storm, The (1997)</td>\n",
       "    </tr>\n",
       "    <tr>\n",
       "      <th>450</th>\n",
       "      <td>451</td>\n",
       "      <td>Grease (1978)</td>\n",
       "    </tr>\n",
       "    <tr>\n",
       "      <th>691</th>\n",
       "      <td>692</td>\n",
       "      <td>American President, The (1995)</td>\n",
       "    </tr>\n",
       "    <tr>\n",
       "      <th>1408</th>\n",
       "      <td>1409</td>\n",
       "      <td>Swan Princess, The (1994)</td>\n",
       "    </tr>\n",
       "    <tr>\n",
       "      <th>1075</th>\n",
       "      <td>1076</td>\n",
       "      <td>Pagemaster, The (1994)</td>\n",
       "    </tr>\n",
       "    <tr>\n",
       "      <th>103</th>\n",
       "      <td>104</td>\n",
       "      <td>Theodore Rex (1995)</td>\n",
       "    </tr>\n",
       "    <tr>\n",
       "      <th>167</th>\n",
       "      <td>168</td>\n",
       "      <td>Monty Python and the Holy Grail (1974)</td>\n",
       "    </tr>\n",
       "    <tr>\n",
       "      <th>1460</th>\n",
       "      <td>1461</td>\n",
       "      <td>Here Comes Cookie (1935)</td>\n",
       "    </tr>\n",
       "    <tr>\n",
       "      <th>1189</th>\n",
       "      <td>1190</td>\n",
       "      <td>That Old Feeling (1997)</td>\n",
       "    </tr>\n",
       "    <tr>\n",
       "      <th>1438</th>\n",
       "      <td>1439</td>\n",
       "      <td>Jason's Lyric (1994)</td>\n",
       "    </tr>\n",
       "  </tbody>\n",
       "</table>\n",
       "</div>"
      ],
      "text/plain": [
       "      movieId                                   title\n",
       "304       305                   Ice Storm, The (1997)\n",
       "450       451                           Grease (1978)\n",
       "691       692          American President, The (1995)\n",
       "1408     1409               Swan Princess, The (1994)\n",
       "1075     1076                  Pagemaster, The (1994)\n",
       "103       104                     Theodore Rex (1995)\n",
       "167       168  Monty Python and the Holy Grail (1974)\n",
       "1460     1461                Here Comes Cookie (1935)\n",
       "1189     1190                 That Old Feeling (1997)\n",
       "1438     1439                    Jason's Lyric (1994)"
      ]
     },
     "execution_count": 3,
     "metadata": {
      "tags": []
     },
     "output_type": "execute_result"
    }
   ],
   "source": [
    "# Download movie titles.\n",
    "url = 'https://files.grouplens.org/datasets/movielens/ml-100k/u.item'\n",
    "fp = os.path.join('..', 'data', 'ml-100k.item')\n",
    "r = requests.get(url, stream=True)\n",
    "block_size = 1024\n",
    "total_size = int(r.headers.get('content-length', 0))\n",
    "num_iterables = math.ceil(total_size / block_size)\n",
    "\n",
    "# Download if not already downloaded.\n",
    "if not os.path.exists(fp):\n",
    "    with open(fp, 'wb') as file:\n",
    "        for data in tqdm(\n",
    "            r.iter_content(block_size), total=num_iterables, unit='KB', unit_scale=True\n",
    "        ):\n",
    "            file.write(data)\n",
    "\n",
    "movie_titles = pd.read_csv(fp, sep='|', names=['movieId', 'title'], usecols = range(2), encoding='iso-8859-1')\n",
    "print(f'Shape: {movie_titles.shape}')\n",
    "movie_titles.sample(10, random_state=123)"
   ]
  },
  {
   "cell_type": "markdown",
   "metadata": {
    "id": "HpImryCnB9MT"
   },
   "source": [
    "## Train test split\n",
    "\n",
    "We split the data using a stratified split so the users in the training set are also the same users in the test set. LightGCN is not able to generate recommendations for users not yet seen in the training set.\n",
    "\n",
    "Here we will have a training size of 75%"
   ]
  },
  {
   "cell_type": "code",
   "execution_count": 4,
   "metadata": {
    "colab": {
     "base_uri": "https://localhost:8080/"
    },
    "id": "tz_HIzLEby5C",
    "outputId": "227315c4-8965-4c1f-dbbb-773bc90453a4"
   },
   "outputs": [
    {
     "name": "stdout",
     "output_type": "stream",
     "text": [
      "Train Shape: (74992, 4)\n",
      "Test Shape: (25008, 4)\n",
      "Do they have the same users?: True\n"
     ]
    }
   ],
   "source": [
    "# Split each user's reviews by % for training.\n",
    "splits = []\n",
    "train_size  = 0.75\n",
    "for _, group in raw_data.groupby('userId'):\n",
    "    group = group.sample(frac=1, random_state=123)\n",
    "    group_splits = np.split(group, [round(train_size * len(group))])\n",
    "\n",
    "    # Label the train and test sets.\n",
    "    for i in range(2):\n",
    "        group_splits[i][\"split_index\"] = i\n",
    "        splits.append(group_splits[i])\n",
    "\n",
    "# Concatenate splits for all the groups together.\n",
    "splits_all = pd.concat(splits)\n",
    "\n",
    "# Take train and test split using split_index.\n",
    "train = splits_all[splits_all[\"split_index\"] == 0].drop(\"split_index\", axis=1)\n",
    "test = splits_all[splits_all[\"split_index\"] == 1].drop(\"split_index\", axis=1)\n",
    "\n",
    "print(f'Train Shape: {train.shape}')\n",
    "print(f'Test Shape: {test.shape}')\n",
    "print(f'Do they have the same users?: {set(train.userId) == set(test.userId)}')"
   ]
  },
  {
   "cell_type": "markdown",
   "metadata": {
    "id": "tW5K4Ts6ziae"
   },
   "source": [
    "## Reindex\n",
    "Reset the index of users and movies from 0-n for both the training and test data. This is to allow better tracking of users and movies. Dictionaries are created so we can easily translate back and forth from the old index to the new index.\n",
    "\n",
    "We would also normally remove users with no ratings, but in this case all entries have a user and a rating between 1-5.\n",
    "\n"
   ]
  },
  {
   "cell_type": "code",
   "execution_count": 5,
   "metadata": {
    "colab": {
     "base_uri": "https://localhost:8080/"
    },
    "id": "Ww5LA_XTDxYk",
    "outputId": "8517a949-fbb9-45c9-cbc2-07b8e4a8752c"
   },
   "outputs": [
    {
     "name": "stdout",
     "output_type": "stream",
     "text": [
      "Number of users: 943\n",
      "Number of movies: 1682\n"
     ]
    }
   ],
   "source": [
    "combined = train.append(test)\n",
    "\n",
    "n_users = combined['userId'].nunique()\n",
    "print('Number of users:', n_users)\n",
    "\n",
    "n_movies = combined['movieId'].nunique()\n",
    "print('Number of movies:', n_movies)"
   ]
  },
  {
   "cell_type": "code",
   "execution_count": 6,
   "metadata": {
    "id": "v8NnG3RC8utZ"
   },
   "outputs": [],
   "source": [
    "# Create DataFrame with reset index of 0-n_movies.\n",
    "movie_new = combined[['movieId']].drop_duplicates()\n",
    "movie_new['movieId_new'] = np.arange(len(movie_new))\n",
    "\n",
    "train_reindex = pd.merge(train, movie_new, on='movieId', how='left')\n",
    "# Reset index to 0-n_users.\n",
    "train_reindex['userId_new'] = train_reindex['userId'] - 1  \n",
    "train_reindex = train_reindex[['userId_new', 'movieId_new', 'rating']]\n",
    "\n",
    "test_reindex = pd.merge(test, movie_new, on='movieId', how='left')\n",
    "# Reset index to 0-n_users.\n",
    "test_reindex['userId_new'] = test_reindex['userId'] - 1\n",
    "test_reindex = test_reindex[['userId_new', 'movieId_new', 'rating']]\n",
    "\n",
    "# Create dictionaries so we can convert to and from indexes\n",
    "item2id = dict(zip(movie_new['movieId'], movie_new['movieId_new']))\n",
    "id2item = dict(zip(movie_new['movieId_new'], movie_new['movieId']))\n",
    "user2id = dict(zip(train['userId'], train_reindex['userId_new']))\n",
    "id2user = dict(zip(train_reindex['userId_new'], train['userId']))"
   ]
  },
  {
   "cell_type": "code",
   "execution_count": 7,
   "metadata": {
    "id": "SGuvcaHl9r2y"
   },
   "outputs": [],
   "source": [
    "# Keep track of which movies each user has reviewed.\n",
    "# To be used later in training the LightGCN.\n",
    "interacted = (\n",
    "    train_reindex.groupby(\"userId_new\")[\"movieId_new\"]\n",
    "    .apply(set)\n",
    "    .reset_index()\n",
    "    .rename(columns={\"movieId_new\": \"movie_interacted\"})\n",
    ")"
   ]
  },
  {
   "cell_type": "markdown",
   "metadata": {
    "id": "IcNQ8-IpgQ1Y"
   },
   "source": [
    "## Adjacency matrix\n",
    "\n",
    "The adjacency matrix is a data structure the represents a graph by encoding the connections and between nodes. In our case, nodes are both users and movies. Rows and columns consist of ALL the nodes and for every connection (reviewed movie) there is the value 1.\n",
    "\n",
    "To first create the adjacency matrix we first create a user-item graph where similar to the adjacency matrix, connected users and movies are represented as 1 in a sparse array. Unlike the adjacency matrix, a user-item graph only has users for the columns/rows and items as the other, where as the adjacency matrix has both users and items concatenated as rows and columns.\n",
    "\n",
    "\n",
    "In this case, because the graph is undirected (meaning the connections between nodes do not have a specified direction)\n",
    "the adjacency matrix is symetric. We use this to our advantage through transposing the user-item graph to create the adjacency matrix.\n",
    "\n",
    "Our adjacency matrix will not include self-connections where each node is connected to itself."
   ]
  },
  {
   "cell_type": "markdown",
   "metadata": {
    "id": "VKWsqQ8wLQ3G"
   },
   "source": [
    "### Create adjacency matrix"
   ]
  },
  {
   "cell_type": "code",
   "execution_count": 8,
   "metadata": {
    "colab": {
     "base_uri": "https://localhost:8080/"
    },
    "id": "7OHiFzdrkplj",
    "outputId": "21deb0f7-5a78-4c66-e581-cf63307991fc"
   },
   "outputs": [
    {
     "data": {
      "text/plain": [
       "<2625x2625 sparse matrix of type '<class 'numpy.float32'>'\n",
       "\twith 149984 stored elements in Dictionary Of Keys format>"
      ]
     },
     "execution_count": 8,
     "metadata": {
      "tags": []
     },
     "output_type": "execute_result"
    }
   ],
   "source": [
    "# Create user-item graph (sparse matix where users are rows and movies are columns.\n",
    "# 1 if a user reviewed that movie, 0 if they didn't).\n",
    "R = sp.dok_matrix((n_users, n_movies), dtype=np.float32)\n",
    "R[train_reindex['userId_new'], train_reindex['movieId_new']] = 1\n",
    "\n",
    "# Create the adjaceny matrix with the user-item graph.\n",
    "adj_mat = sp.dok_matrix((n_users + n_movies, n_users + n_movies), dtype=np.float32)\n",
    "\n",
    "# List of lists.\n",
    "adj_mat.tolil()\n",
    "R = R.tolil()\n",
    "\n",
    "# Put together adjacency matrix. Movies and users are nodes/vertices.\n",
    "# 1 if the movie and user are connected.\n",
    "adj_mat[:n_users, n_users:] = R\n",
    "adj_mat[n_users:, :n_users] = R.T\n",
    "\n",
    "adj_mat"
   ]
  },
  {
   "cell_type": "markdown",
   "metadata": {
    "id": "tqpYiCIg6szq"
   },
   "source": [
    "### Normalize adjacency matrix\n",
    "This helps numerically stabilize values when repeating graph convolution operations, avoiding the scale of the embeddings increasing or decreasing.\n",
    "\n",
    "$\\tilde{A} = D^{-\\frac{1}{2}}AD^{-\\frac{1}{2}}$\n",
    "\n",
    "$D$ is the degree/diagonal matrix where it is zero everywhere but its diagonal. The diagonal has the value of the neighborhood size of each node (how many other nodes that node connects to)\n",
    "\n",
    "\n",
    "$D^{-\\frac{1}{2}}$ on the left side scales $A$ by the source node, while $D^{-\\frac{1}{2}}$ right side scales by the neighborhood size of the destination node rather than the source node.\n",
    "\n",
    "\n"
   ]
  },
  {
   "cell_type": "code",
   "execution_count": 9,
   "metadata": {
    "id": "uQycbSu56w2_"
   },
   "outputs": [],
   "source": [
    "# Calculate degree matrix D (for every row count the number of nonzero entries)\n",
    "D_values = np.array(adj_mat.sum(1))\n",
    "\n",
    "# Square root and inverse.\n",
    "D_inv_values = np.power(D_values  + 1e-9, -0.5).flatten()\n",
    "D_inv_values[np.isinf(D_inv_values)] = 0.0\n",
    "\n",
    " # Create sparse matrix with the values of D^(-0.5) are the diagonals.\n",
    "D_inv_sq_root = sp.diags(D_inv_values)\n",
    "\n",
    "# Eval (D^-0.5 * A * D^-0.5).\n",
    "norm_adj_mat = D_inv_sq_root.dot(adj_mat).dot(D_inv_sq_root)"
   ]
  },
  {
   "cell_type": "markdown",
   "metadata": {
    "id": "aXI7aZID6tu2"
   },
   "source": [
    "### Convert to tensor"
   ]
  },
  {
   "cell_type": "code",
   "execution_count": 10,
   "metadata": {
    "colab": {
     "base_uri": "https://localhost:8080/"
    },
    "id": "Ez7DJXJ66q9y",
    "outputId": "17e0e67b-ba9b-481a-d3fc-6a8078fd6109"
   },
   "outputs": [
    {
     "data": {
      "text/plain": [
       "<tensorflow.python.framework.sparse_tensor.SparseTensor at 0x7f92a4efe910>"
      ]
     },
     "execution_count": 10,
     "metadata": {
      "tags": []
     },
     "output_type": "execute_result"
    }
   ],
   "source": [
    "# to COOrdinate format first ((row, column), data)\n",
    "coo = norm_adj_mat.tocoo().astype(np.float32)\n",
    "\n",
    "# create an index that will tell SparseTensor where the non-zero points are\n",
    "indices = np.mat([coo.row, coo.col]).transpose()\n",
    "\n",
    "# covert to sparse tensor\n",
    "A_tilde = tf.SparseTensor(indices, coo.data, coo.shape)\n",
    "A_tilde"
   ]
  },
  {
   "cell_type": "markdown",
   "metadata": {
    "id": "LTiAa5Yt3ZoX"
   },
   "source": [
    "# LightGCN\n",
    "\n",
    "LightGCN keeps neighbor aggregation, while removing self-connections, feature transformation, and nonlinear activation, simplifying as well as improving performance.\n",
    "\n",
    "Neighbor aggregation is done through graph convolutions to learn embeddings that represent nodes. The size of the embeddings can be changed to whatever number. In this notebook we set the embedding dimension to 64.\n",
    "\n",
    "In matrix form, graph convolution can be thought of a matrix multiplication. In the implementation we create a graph convoultion layer that performs just this, allowing us to stack as many graph convolutions we want. We have the number of layers as 3 in this notebook.\n"
   ]
  },
  {
   "cell_type": "code",
   "execution_count": 11,
   "metadata": {
    "id": "zYEkpdFd-fri"
   },
   "outputs": [],
   "source": [
    "class GraphConv(tf.keras.layers.Layer):\n",
    "    def __init__(self, adj_mat):\n",
    "        super(GraphConv, self).__init__()\n",
    "        self.adj_mat = adj_mat\n",
    "\n",
    "    def call(self, ego_embeddings):\n",
    "        return tf.sparse.sparse_dense_matmul(self.adj_mat, ego_embeddings)"
   ]
  },
  {
   "cell_type": "code",
   "execution_count": 12,
   "metadata": {
    "cellView": "code",
    "id": "zz05Iw3_7Hlj"
   },
   "outputs": [],
   "source": [
    "class LightGCN(tf.keras.Model):\n",
    "    def __init__(self, adj_mat, n_users, n_items, n_layers=3, emb_dim=64, decay=0.0001):\n",
    "        super(LightGCN, self).__init__()\n",
    "        self.adj_mat = adj_mat\n",
    "        self.n_users = n_users\n",
    "        self.n_items = n_items\n",
    "        self.n_layers = n_layers\n",
    "        self.emb_dim = emb_dim\n",
    "        self.decay = decay\n",
    "\n",
    "        # Initialize user and item embeddings.\n",
    "        initializer = tf.keras.initializers.GlorotNormal()\n",
    "        self.user_embedding = tf.Variable(\n",
    "            initializer([self.n_users, self.emb_dim]), name='user_embedding'\n",
    "        )\n",
    "        self.item_embedding = tf.Variable(\n",
    "            initializer([self.n_items, self.emb_dim]), name='item_embedding'\n",
    "        )\n",
    "\n",
    "        # Stack light graph convolutional layers.\n",
    "        self.gcn = [GraphConv(adj_mat) for layer in range(n_layers)]\n",
    "\n",
    "    def call(self, user_emb, item_emb):\n",
    "        output_embeddings = tf.concat([user_emb, item_emb], axis=0)\n",
    "        all_embeddings = [output_embeddings]\n",
    "\n",
    "        # Graph convolutions.\n",
    "        for i in range(0, self.n_layers):\n",
    "            output_embeddings = self.gcn[i](output_embeddings)\n",
    "            all_embeddings += [output_embeddings]\n",
    "\n",
    "        # Compute the mean of all layers\n",
    "        all_embeddings = tf.stack(all_embeddings, axis=1)\n",
    "        all_embeddings = tf.reduce_mean(all_embeddings, axis=1, keepdims=False)\n",
    "\n",
    "        # Split into users and items embeddings\n",
    "        new_user_embeddings, new_item_embeddings = tf.split(\n",
    "            all_embeddings, [self.n_users, self.n_items], axis=0\n",
    "        )\n",
    "\n",
    "        return new_user_embeddings, new_item_embeddings\n",
    "\n",
    "    def recommend(self, users, k):\n",
    "        # Calculate the scores.\n",
    "        new_user_embed, new_item_embed = model(self.user_embedding, self.item_embedding)\n",
    "        user_embed = tf.nn.embedding_lookup(new_user_embed, users)\n",
    "        test_scores = tf.matmul(user_embed, new_item_embed, transpose_a=False, transpose_b=True)\n",
    "        test_scores = np.array(test_scores)\n",
    "\n",
    "        # Remove movies already seen.\n",
    "        test_scores += R.tocsr()[users, :] * -np.inf\n",
    "\n",
    "        # Get top movies.\n",
    "        test_user_idx = np.arange(test_scores.shape[0])[:, None]\n",
    "        top_items = np.argpartition(test_scores, -k, axis=1)[:, -k:]\n",
    "        top_scores = test_scores[test_user_idx, top_items]\n",
    "        sort_ind = np.argsort(-top_scores)\n",
    "        top_items = top_items[test_user_idx, sort_ind]\n",
    "        top_scores = top_scores[test_user_idx, sort_ind]\n",
    "        top_items, top_scores = np.array(top_items), np.array(top_scores)\n",
    "\n",
    "        # Create Dataframe with recommended movies.\n",
    "        topk_scores = pd.DataFrame(\n",
    "            {\n",
    "                'userId': np.repeat(users, top_items.shape[1]),\n",
    "                'movieId': top_items.flatten(),\n",
    "                'prediction': top_scores.flatten(),\n",
    "            }\n",
    "        )\n",
    "\n",
    "        return topk_scores"
   ]
  },
  {
   "cell_type": "markdown",
   "metadata": {
    "id": "U7K33fkMjnxA"
   },
   "source": [
    "## Custom training\n",
    "\n",
    "For training, we batch a number of users from the training set and sample a single positive item (movie that has been reviewed) and a single negative item (movie that has not been reviewed) for each user."
   ]
  },
  {
   "cell_type": "code",
   "execution_count": 13,
   "metadata": {
    "colab": {
     "base_uri": "https://localhost:8080/"
    },
    "id": "b2qgq7i93b18",
    "outputId": "4aa23981-e1f8-484e-8850-7b38072fca73"
   },
   "outputs": [
    {
     "name": "stdout",
     "output_type": "stream",
     "text": [
      "Parameters: 168000\n"
     ]
    }
   ],
   "source": [
    "N_LAYERS = 10\n",
    "EMBED_DIM = 64\n",
    "DECAY = 0.0001\n",
    "EPOCHS = 200\n",
    "BATCH_SIZE = 1024\n",
    "LEARNING_RATE = 1e-2\n",
    "\n",
    "# We expect this # of parameters in our model.\n",
    "print(f'Parameters: {EMBED_DIM * (n_users + n_movies)}')"
   ]
  },
  {
   "cell_type": "code",
   "execution_count": 14,
   "metadata": {
    "id": "aUKzD4D8GN-7"
   },
   "outputs": [],
   "source": [
    "# Initialize model.\n",
    "optimizer = tf.keras.optimizers.Adam(learning_rate=LEARNING_RATE)\n",
    "model = LightGCN(A_tilde,\n",
    "                 n_users = n_users,\n",
    "                 n_items = n_movies,\n",
    "                 n_layers = N_LAYERS,\n",
    "                 emb_dim = EMBED_DIM,\n",
    "                 decay = DECAY)"
   ]
  },
  {
   "cell_type": "code",
   "execution_count": 15,
   "metadata": {
    "colab": {
     "base_uri": "https://localhost:8080/"
    },
    "id": "xOwDT8edOQMY",
    "outputId": "2cc0982a-108b-4cfd-e38c-22e67f2c6619"
   },
   "outputs": [
    {
     "name": "stdout",
     "output_type": "stream",
     "text": [
      "Epoch 1/200\n",
      "74/74 [==============================] - 4s 36ms/step - training loss: 0.4353\n",
      "Epoch 2/200\n",
      "74/74 [==============================] - 3s 36ms/step - training loss: 0.3344\n",
      "Epoch 3/200\n",
      "74/74 [==============================] - 3s 36ms/step - training loss: 0.3242\n",
      "Epoch 4/200\n",
      "74/74 [==============================] - 3s 36ms/step - training loss: 0.2995\n",
      "Epoch 5/200\n",
      "74/74 [==============================] - 3s 36ms/step - training loss: 0.2620\n",
      "Epoch 6/200\n",
      "74/74 [==============================] - 3s 36ms/step - training loss: 0.2511\n",
      "Epoch 7/200\n",
      "74/74 [==============================] - 3s 36ms/step - training loss: 0.2438\n",
      "Epoch 8/200\n",
      "74/74 [==============================] - 3s 35ms/step - training loss: 0.2398\n",
      "Epoch 9/200\n",
      "74/74 [==============================] - 3s 35ms/step - training loss: 0.2324\n",
      "Epoch 10/200\n",
      "74/74 [==============================] - 3s 34ms/step - training loss: 0.2326\n",
      "Epoch 11/200\n",
      "74/74 [==============================] - 3s 34ms/step - training loss: 0.2286\n",
      "Epoch 12/200\n",
      "74/74 [==============================] - 3s 35ms/step - training loss: 0.2290\n",
      "Epoch 13/200\n",
      "74/74 [==============================] - 3s 37ms/step - training loss: 0.2252\n",
      "Epoch 14/200\n",
      "74/74 [==============================] - 3s 36ms/step - training loss: 0.2214\n",
      "Epoch 15/200\n",
      "74/74 [==============================] - 3s 36ms/step - training loss: 0.2149\n",
      "Epoch 16/200\n",
      "74/74 [==============================] - 3s 36ms/step - training loss: 0.2074\n",
      "Epoch 17/200\n",
      "74/74 [==============================] - 3s 36ms/step - training loss: 0.2004\n",
      "Epoch 18/200\n",
      "74/74 [==============================] - 3s 35ms/step - training loss: 0.1973\n",
      "Epoch 19/200\n",
      "74/74 [==============================] - 3s 36ms/step - training loss: 0.1898\n",
      "Epoch 20/200\n",
      "74/74 [==============================] - 3s 36ms/step - training loss: 0.1839\n",
      "Epoch 21/200\n",
      "74/74 [==============================] - 3s 35ms/step - training loss: 0.1835\n",
      "Epoch 22/200\n",
      "74/74 [==============================] - 3s 34ms/step - training loss: 0.1810\n",
      "Epoch 23/200\n",
      "74/74 [==============================] - 3s 34ms/step - training loss: 0.1814\n",
      "Epoch 24/200\n",
      "74/74 [==============================] - 3s 35ms/step - training loss: 0.1760\n",
      "Epoch 25/200\n",
      "74/74 [==============================] - 3s 34ms/step - training loss: 0.1759\n",
      "Epoch 26/200\n",
      "74/74 [==============================] - 3s 35ms/step - training loss: 0.1757\n",
      "Epoch 27/200\n",
      "74/74 [==============================] - 3s 35ms/step - training loss: 0.1748\n",
      "Epoch 28/200\n",
      "74/74 [==============================] - 3s 37ms/step - training loss: 0.1756\n",
      "Epoch 29/200\n",
      "74/74 [==============================] - 3s 35ms/step - training loss: 0.1758\n",
      "Epoch 30/200\n",
      "74/74 [==============================] - 3s 34ms/step - training loss: 0.1740\n",
      "Epoch 31/200\n",
      "74/74 [==============================] - 3s 35ms/step - training loss: 0.1716\n",
      "Epoch 32/200\n",
      "74/74 [==============================] - 3s 35ms/step - training loss: 0.1713\n",
      "Epoch 33/200\n",
      "74/74 [==============================] - 3s 35ms/step - training loss: 0.1724\n",
      "Epoch 34/200\n",
      "74/74 [==============================] - 3s 35ms/step - training loss: 0.1700\n",
      "Epoch 35/200\n",
      "74/74 [==============================] - 3s 35ms/step - training loss: 0.1697\n",
      "Epoch 36/200\n",
      "74/74 [==============================] - 3s 34ms/step - training loss: 0.1681\n",
      "Epoch 37/200\n",
      "74/74 [==============================] - 3s 37ms/step - training loss: 0.1681\n",
      "Epoch 38/200\n",
      "74/74 [==============================] - 3s 36ms/step - training loss: 0.1682\n",
      "Epoch 39/200\n",
      "74/74 [==============================] - 3s 36ms/step - training loss: 0.1656\n",
      "Epoch 40/200\n",
      "74/74 [==============================] - 3s 36ms/step - training loss: 0.1613\n",
      "Epoch 41/200\n",
      "74/74 [==============================] - 3s 36ms/step - training loss: 0.1677\n",
      "Epoch 42/200\n",
      "74/74 [==============================] - 3s 36ms/step - training loss: 0.1641\n",
      "Epoch 43/200\n",
      "74/74 [==============================] - 3s 36ms/step - training loss: 0.1628\n",
      "Epoch 44/200\n",
      "74/74 [==============================] - 3s 37ms/step - training loss: 0.1592\n",
      "Epoch 45/200\n",
      "74/74 [==============================] - 3s 36ms/step - training loss: 0.1612\n",
      "Epoch 46/200\n",
      "74/74 [==============================] - 3s 36ms/step - training loss: 0.1588\n",
      "Epoch 47/200\n",
      "74/74 [==============================] - 3s 36ms/step - training loss: 0.1560\n",
      "Epoch 48/200\n",
      "74/74 [==============================] - 3s 35ms/step - training loss: 0.1580\n",
      "Epoch 49/200\n",
      "74/74 [==============================] - 3s 35ms/step - training loss: 0.1539\n",
      "Epoch 50/200\n",
      "74/74 [==============================] - 3s 35ms/step - training loss: 0.1548\n",
      "Epoch 51/200\n",
      "74/74 [==============================] - 3s 34ms/step - training loss: 0.1587\n",
      "Epoch 52/200\n",
      "74/74 [==============================] - 3s 35ms/step - training loss: 0.1554\n",
      "Epoch 53/200\n",
      "74/74 [==============================] - 3s 35ms/step - training loss: 0.1560\n",
      "Epoch 54/200\n",
      "74/74 [==============================] - 3s 35ms/step - training loss: 0.1557\n",
      "Epoch 55/200\n",
      "74/74 [==============================] - 3s 35ms/step - training loss: 0.1534\n",
      "Epoch 56/200\n",
      "74/74 [==============================] - 3s 35ms/step - training loss: 0.1521\n",
      "Epoch 57/200\n",
      "74/74 [==============================] - 3s 35ms/step - training loss: 0.1530\n",
      "Epoch 58/200\n",
      "74/74 [==============================] - 3s 35ms/step - training loss: 0.1520\n",
      "Epoch 59/200\n",
      "74/74 [==============================] - 3s 35ms/step - training loss: 0.1519\n",
      "Epoch 60/200\n",
      "74/74 [==============================] - 3s 35ms/step - training loss: 0.1551\n",
      "Epoch 61/200\n",
      "74/74 [==============================] - 3s 36ms/step - training loss: 0.1521\n",
      "Epoch 62/200\n",
      "74/74 [==============================] - 3s 36ms/step - training loss: 0.1492\n",
      "Epoch 63/200\n",
      "74/74 [==============================] - 3s 36ms/step - training loss: 0.1486\n",
      "Epoch 64/200\n",
      "74/74 [==============================] - 3s 36ms/step - training loss: 0.1499\n",
      "Epoch 65/200\n",
      "74/74 [==============================] - 3s 36ms/step - training loss: 0.1483\n",
      "Epoch 66/200\n",
      "74/74 [==============================] - 3s 36ms/step - training loss: 0.1473\n",
      "Epoch 67/200\n",
      "74/74 [==============================] - 3s 35ms/step - training loss: 0.1478\n",
      "Epoch 68/200\n",
      "74/74 [==============================] - 3s 35ms/step - training loss: 0.1470\n",
      "Epoch 69/200\n",
      "74/74 [==============================] - 3s 36ms/step - training loss: 0.1474\n",
      "Epoch 70/200\n",
      "74/74 [==============================] - 3s 35ms/step - training loss: 0.1466\n",
      "Epoch 71/200\n",
      "74/74 [==============================] - 3s 35ms/step - training loss: 0.1463\n",
      "Epoch 72/200\n",
      "74/74 [==============================] - 3s 35ms/step - training loss: 0.1470\n",
      "Epoch 73/200\n",
      "74/74 [==============================] - 3s 34ms/step - training loss: 0.1472\n",
      "Epoch 74/200\n",
      "74/74 [==============================] - 3s 34ms/step - training loss: 0.1459\n",
      "Epoch 75/200\n",
      "74/74 [==============================] - 3s 35ms/step - training loss: 0.1460\n",
      "Epoch 76/200\n",
      "74/74 [==============================] - 3s 34ms/step - training loss: 0.1430\n",
      "Epoch 77/200\n",
      "74/74 [==============================] - 3s 34ms/step - training loss: 0.1452\n",
      "Epoch 78/200\n",
      "74/74 [==============================] - 3s 35ms/step - training loss: 0.1438\n",
      "Epoch 79/200\n",
      "74/74 [==============================] - 3s 34ms/step - training loss: 0.1459\n",
      "Epoch 80/200\n",
      "74/74 [==============================] - 3s 34ms/step - training loss: 0.1418\n",
      "Epoch 81/200\n",
      "74/74 [==============================] - 3s 34ms/step - training loss: 0.1417\n",
      "Epoch 82/200\n",
      "74/74 [==============================] - 3s 34ms/step - training loss: 0.1442\n",
      "Epoch 83/200\n",
      "74/74 [==============================] - 3s 34ms/step - training loss: 0.1419\n",
      "Epoch 84/200\n",
      "74/74 [==============================] - 3s 34ms/step - training loss: 0.1413\n",
      "Epoch 85/200\n",
      "74/74 [==============================] - 3s 34ms/step - training loss: 0.1409\n",
      "Epoch 86/200\n",
      "74/74 [==============================] - 3s 35ms/step - training loss: 0.1400\n",
      "Epoch 87/200\n",
      "74/74 [==============================] - 3s 34ms/step - training loss: 0.1422\n",
      "Epoch 88/200\n",
      "74/74 [==============================] - 3s 35ms/step - training loss: 0.1427\n",
      "Epoch 89/200\n",
      "74/74 [==============================] - 3s 36ms/step - training loss: 0.1420\n",
      "Epoch 90/200\n",
      "74/74 [==============================] - 3s 36ms/step - training loss: 0.1403\n",
      "Epoch 91/200\n",
      "74/74 [==============================] - 3s 36ms/step - training loss: 0.1396\n",
      "Epoch 92/200\n",
      "74/74 [==============================] - 3s 36ms/step - training loss: 0.1385\n",
      "Epoch 93/200\n",
      "74/74 [==============================] - 3s 36ms/step - training loss: 0.1381\n",
      "Epoch 94/200\n",
      "74/74 [==============================] - 3s 36ms/step - training loss: 0.1388\n",
      "Epoch 95/200\n",
      "74/74 [==============================] - 3s 36ms/step - training loss: 0.1382\n",
      "Epoch 96/200\n",
      "74/74 [==============================] - 3s 36ms/step - training loss: 0.1378\n",
      "Epoch 97/200\n",
      "74/74 [==============================] - 3s 35ms/step - training loss: 0.1349\n",
      "Epoch 98/200\n",
      "74/74 [==============================] - 3s 35ms/step - training loss: 0.1356\n",
      "Epoch 99/200\n",
      "74/74 [==============================] - 3s 34ms/step - training loss: 0.1349\n",
      "Epoch 100/200\n",
      "74/74 [==============================] - 3s 34ms/step - training loss: 0.1369\n",
      "Epoch 101/200\n",
      "74/74 [==============================] - 3s 34ms/step - training loss: 0.1354\n",
      "Epoch 102/200\n",
      "74/74 [==============================] - 3s 34ms/step - training loss: 0.1345\n",
      "Epoch 103/200\n",
      "74/74 [==============================] - 3s 34ms/step - training loss: 0.1364\n",
      "Epoch 104/200\n",
      "74/74 [==============================] - 3s 34ms/step - training loss: 0.1346\n",
      "Epoch 105/200\n",
      "74/74 [==============================] - 3s 35ms/step - training loss: 0.1351\n",
      "Epoch 106/200\n",
      "74/74 [==============================] - 3s 34ms/step - training loss: 0.1336\n",
      "Epoch 107/200\n",
      "74/74 [==============================] - 3s 34ms/step - training loss: 0.1348\n",
      "Epoch 108/200\n",
      "74/74 [==============================] - 3s 34ms/step - training loss: 0.1352\n",
      "Epoch 109/200\n",
      "74/74 [==============================] - 3s 34ms/step - training loss: 0.1342\n",
      "Epoch 110/200\n",
      "74/74 [==============================] - 3s 34ms/step - training loss: 0.1316\n",
      "Epoch 111/200\n",
      "74/74 [==============================] - 3s 34ms/step - training loss: 0.1331\n",
      "Epoch 112/200\n",
      "74/74 [==============================] - 3s 34ms/step - training loss: 0.1337\n",
      "Epoch 113/200\n",
      "74/74 [==============================] - 3s 35ms/step - training loss: 0.1320\n",
      "Epoch 114/200\n",
      "74/74 [==============================] - 3s 36ms/step - training loss: 0.1311\n",
      "Epoch 115/200\n",
      "74/74 [==============================] - 3s 36ms/step - training loss: 0.1344\n",
      "Epoch 116/200\n",
      "74/74 [==============================] - 3s 36ms/step - training loss: 0.1331\n",
      "Epoch 117/200\n",
      "74/74 [==============================] - 3s 36ms/step - training loss: 0.1313\n",
      "Epoch 118/200\n",
      "74/74 [==============================] - 3s 36ms/step - training loss: 0.1314\n",
      "Epoch 119/200\n",
      "74/74 [==============================] - 3s 36ms/step - training loss: 0.1302\n",
      "Epoch 120/200\n",
      "74/74 [==============================] - 3s 36ms/step - training loss: 0.1291\n",
      "Epoch 121/200\n",
      "74/74 [==============================] - 3s 36ms/step - training loss: 0.1309\n",
      "Epoch 122/200\n",
      "74/74 [==============================] - 3s 36ms/step - training loss: 0.1305\n",
      "Epoch 123/200\n",
      "74/74 [==============================] - 3s 34ms/step - training loss: 0.1335\n",
      "Epoch 124/200\n",
      "74/74 [==============================] - 3s 34ms/step - training loss: 0.1312\n",
      "Epoch 125/200\n",
      "74/74 [==============================] - 3s 34ms/step - training loss: 0.1311\n",
      "Epoch 126/200\n",
      "74/74 [==============================] - 3s 35ms/step - training loss: 0.1296\n",
      "Epoch 127/200\n",
      "74/74 [==============================] - 3s 36ms/step - training loss: 0.1292\n",
      "Epoch 128/200\n",
      "74/74 [==============================] - 3s 36ms/step - training loss: 0.1285\n",
      "Epoch 129/200\n",
      "74/74 [==============================] - 3s 36ms/step - training loss: 0.1292\n",
      "Epoch 130/200\n",
      "74/74 [==============================] - 3s 36ms/step - training loss: 0.1299\n",
      "Epoch 131/200\n",
      "74/74 [==============================] - 3s 35ms/step - training loss: 0.1289\n",
      "Epoch 132/200\n",
      "74/74 [==============================] - 3s 36ms/step - training loss: 0.1309\n",
      "Epoch 133/200\n",
      "74/74 [==============================] - 3s 36ms/step - training loss: 0.1287\n",
      "Epoch 134/200\n",
      "74/74 [==============================] - 3s 36ms/step - training loss: 0.1306\n",
      "Epoch 135/200\n",
      "74/74 [==============================] - 3s 35ms/step - training loss: 0.1295\n",
      "Epoch 136/200\n",
      "74/74 [==============================] - 3s 35ms/step - training loss: 0.1270\n",
      "Epoch 137/200\n",
      "74/74 [==============================] - 3s 35ms/step - training loss: 0.1285\n",
      "Epoch 138/200\n",
      "74/74 [==============================] - 3s 34ms/step - training loss: 0.1279\n",
      "Epoch 139/200\n",
      "74/74 [==============================] - 3s 34ms/step - training loss: 0.1291\n",
      "Epoch 140/200\n",
      "74/74 [==============================] - 3s 34ms/step - training loss: 0.1280\n",
      "Epoch 141/200\n",
      "74/74 [==============================] - 3s 35ms/step - training loss: 0.1269\n",
      "Epoch 142/200\n",
      "74/74 [==============================] - 3s 35ms/step - training loss: 0.1277\n",
      "Epoch 143/200\n",
      "74/74 [==============================] - 3s 34ms/step - training loss: 0.1252\n",
      "Epoch 144/200\n",
      "74/74 [==============================] - 3s 35ms/step - training loss: 0.1257\n",
      "Epoch 145/200\n",
      "74/74 [==============================] - 3s 35ms/step - training loss: 0.1260\n",
      "Epoch 146/200\n",
      "74/74 [==============================] - 3s 34ms/step - training loss: 0.1270\n",
      "Epoch 147/200\n",
      "74/74 [==============================] - 3s 34ms/step - training loss: 0.1263\n",
      "Epoch 148/200\n",
      "74/74 [==============================] - 3s 35ms/step - training loss: 0.1257\n",
      "Epoch 149/200\n",
      "74/74 [==============================] - 3s 34ms/step - training loss: 0.1261\n",
      "Epoch 150/200\n",
      "74/74 [==============================] - 3s 35ms/step - training loss: 0.1256\n",
      "Epoch 151/200\n",
      "74/74 [==============================] - 3s 34ms/step - training loss: 0.1240\n",
      "Epoch 152/200\n",
      "74/74 [==============================] - 3s 36ms/step - training loss: 0.1247\n",
      "Epoch 153/200\n",
      "74/74 [==============================] - 3s 36ms/step - training loss: 0.1273\n",
      "Epoch 154/200\n",
      "74/74 [==============================] - 3s 36ms/step - training loss: 0.1245\n",
      "Epoch 155/200\n",
      "74/74 [==============================] - 3s 36ms/step - training loss: 0.1259\n",
      "Epoch 156/200\n",
      "74/74 [==============================] - 3s 36ms/step - training loss: 0.1250\n",
      "Epoch 157/200\n",
      "74/74 [==============================] - 3s 36ms/step - training loss: 0.1235\n",
      "Epoch 158/200\n",
      "74/74 [==============================] - 3s 36ms/step - training loss: 0.1234\n",
      "Epoch 159/200\n",
      "74/74 [==============================] - 3s 36ms/step - training loss: 0.1243\n",
      "Epoch 160/200\n",
      "74/74 [==============================] - 3s 36ms/step - training loss: 0.1236\n",
      "Epoch 161/200\n",
      "74/74 [==============================] - 3s 36ms/step - training loss: 0.1239\n",
      "Epoch 162/200\n",
      "74/74 [==============================] - 3s 35ms/step - training loss: 0.1246\n",
      "Epoch 163/200\n",
      "74/74 [==============================] - 3s 35ms/step - training loss: 0.1246\n",
      "Epoch 164/200\n",
      "74/74 [==============================] - 3s 35ms/step - training loss: 0.1232\n",
      "Epoch 165/200\n",
      "74/74 [==============================] - 3s 35ms/step - training loss: 0.1235\n",
      "Epoch 166/200\n",
      "74/74 [==============================] - 3s 35ms/step - training loss: 0.1248\n",
      "Epoch 167/200\n",
      "74/74 [==============================] - 3s 35ms/step - training loss: 0.1239\n",
      "Epoch 168/200\n",
      "74/74 [==============================] - 3s 34ms/step - training loss: 0.1245\n",
      "Epoch 169/200\n",
      "74/74 [==============================] - 3s 34ms/step - training loss: 0.1237\n",
      "Epoch 170/200\n",
      "74/74 [==============================] - 3s 34ms/step - training loss: 0.1243\n",
      "Epoch 171/200\n",
      "74/74 [==============================] - 3s 34ms/step - training loss: 0.1244\n",
      "Epoch 172/200\n",
      "74/74 [==============================] - 3s 35ms/step - training loss: 0.1223\n",
      "Epoch 173/200\n",
      "74/74 [==============================] - 3s 35ms/step - training loss: 0.1247\n",
      "Epoch 174/200\n",
      "74/74 [==============================] - 3s 34ms/step - training loss: 0.1238\n",
      "Epoch 175/200\n",
      "74/74 [==============================] - 3s 35ms/step - training loss: 0.1206\n",
      "Epoch 176/200\n",
      "74/74 [==============================] - 3s 34ms/step - training loss: 0.1223\n",
      "Epoch 177/200\n",
      "74/74 [==============================] - 3s 35ms/step - training loss: 0.1241\n",
      "Epoch 178/200\n",
      "74/74 [==============================] - 3s 36ms/step - training loss: 0.1250\n",
      "Epoch 179/200\n",
      "74/74 [==============================] - 3s 36ms/step - training loss: 0.1229\n",
      "Epoch 180/200\n",
      "74/74 [==============================] - 3s 36ms/step - training loss: 0.1218\n",
      "Epoch 181/200\n",
      "74/74 [==============================] - 3s 36ms/step - training loss: 0.1230\n",
      "Epoch 182/200\n",
      "74/74 [==============================] - 3s 36ms/step - training loss: 0.1210\n",
      "Epoch 183/200\n",
      "74/74 [==============================] - 3s 37ms/step - training loss: 0.1222\n",
      "Epoch 184/200\n",
      "74/74 [==============================] - 3s 37ms/step - training loss: 0.1221\n",
      "Epoch 185/200\n",
      "74/74 [==============================] - 3s 36ms/step - training loss: 0.1214\n",
      "Epoch 186/200\n",
      "74/74 [==============================] - 3s 36ms/step - training loss: 0.1208\n",
      "Epoch 187/200\n",
      "74/74 [==============================] - 3s 35ms/step - training loss: 0.1225\n",
      "Epoch 188/200\n",
      "74/74 [==============================] - 3s 34ms/step - training loss: 0.1208\n",
      "Epoch 189/200\n",
      "74/74 [==============================] - 3s 35ms/step - training loss: 0.1226\n",
      "Epoch 190/200\n",
      "74/74 [==============================] - 3s 35ms/step - training loss: 0.1213\n",
      "Epoch 191/200\n",
      "74/74 [==============================] - 3s 34ms/step - training loss: 0.1228\n",
      "Epoch 192/200\n",
      "74/74 [==============================] - 3s 35ms/step - training loss: 0.1220\n",
      "Epoch 193/200\n",
      "74/74 [==============================] - 3s 35ms/step - training loss: 0.1223\n",
      "Epoch 194/200\n",
      "74/74 [==============================] - 3s 34ms/step - training loss: 0.1201\n",
      "Epoch 195/200\n",
      "74/74 [==============================] - 3s 35ms/step - training loss: 0.1199\n",
      "Epoch 196/200\n",
      "74/74 [==============================] - 3s 34ms/step - training loss: 0.1224\n",
      "Epoch 197/200\n",
      "74/74 [==============================] - 3s 34ms/step - training loss: 0.1198\n",
      "Epoch 198/200\n",
      "74/74 [==============================] - 3s 35ms/step - training loss: 0.1214\n",
      "Epoch 199/200\n",
      "74/74 [==============================] - 3s 34ms/step - training loss: 0.1207\n",
      "Epoch 200/200\n",
      "74/74 [==============================] - 3s 35ms/step - training loss: 0.1199\n",
      "CPU times: user 7min 45s, sys: 24.4 s, total: 8min 9s\n",
      "Wall time: 8min 41s\n"
     ]
    }
   ],
   "source": [
    "%%time\n",
    "# Custom training loop from scratch.\n",
    "for epoch in range(1, EPOCHS + 1):\n",
    "    print('Epoch %d/%d' % (epoch, EPOCHS))\n",
    "    n_batch = train_reindex.shape[0] // BATCH_SIZE + 1\n",
    "    bar = Progbar(n_batch, stateful_metrics='training loss')\n",
    "    for idx in range(1, n_batch + 1):\n",
    "        # Sample batch_size number of users with positive and negative items.\n",
    "        indices = range(n_users)\n",
    "        if n_users < BATCH_SIZE:\n",
    "            users = np.array([random.choice(indices) for _ in range(BATCH_SIZE)])\n",
    "        else:\n",
    "            users = np.array(random.sample(indices, BATCH_SIZE))\n",
    "\n",
    "        def sample_neg(x):\n",
    "            while True:\n",
    "                neg_id = random.randint(0, n_movies - 1)\n",
    "                if neg_id not in x:\n",
    "                    return neg_id\n",
    "\n",
    "        # Sample a single movie for each user that the user did and did not review.\n",
    "        interact = interacted.iloc[users]\n",
    "        pos_items = interact['movie_interacted'].apply(lambda x: random.choice(list(x)))\n",
    "        neg_items = interact['movie_interacted'].apply(lambda x: sample_neg(x))\n",
    "\n",
    "        users, pos_items, neg_items = users, np.array(pos_items), np.array(neg_items)\n",
    "\n",
    "        with tf.GradientTape() as tape:\n",
    "            # Call LightGCN with user and item embeddings.\n",
    "            new_user_embeddings, new_item_embeddings = model(\n",
    "                model.user_embedding, model.item_embedding\n",
    "            )\n",
    "\n",
    "            # Embeddings after convolutions.\n",
    "            user_embeddings = tf.nn.embedding_lookup(new_user_embeddings, users)\n",
    "            pos_item_embeddings = tf.nn.embedding_lookup(new_item_embeddings, pos_items)\n",
    "            neg_item_embeddings = tf.nn.embedding_lookup(new_item_embeddings, neg_items)\n",
    "\n",
    "            # Initial embeddings before convolutions.\n",
    "            old_user_embeddings = tf.nn.embedding_lookup(\n",
    "                model.user_embedding, users\n",
    "            )\n",
    "            old_pos_item_embeddings = tf.nn.embedding_lookup(\n",
    "                model.item_embedding, pos_items\n",
    "            )\n",
    "            old_neg_item_embeddings = tf.nn.embedding_lookup(\n",
    "                model.item_embedding, neg_items\n",
    "            )\n",
    "\n",
    "            # Calculate loss.\n",
    "            pos_scores = tf.reduce_sum(\n",
    "                tf.multiply(user_embeddings, pos_item_embeddings), axis=1\n",
    "            )\n",
    "            neg_scores = tf.reduce_sum(\n",
    "                tf.multiply(user_embeddings, neg_item_embeddings), axis=1\n",
    "            )\n",
    "            regularizer = (\n",
    "                tf.nn.l2_loss(old_user_embeddings)\n",
    "                + tf.nn.l2_loss(old_pos_item_embeddings)\n",
    "                + tf.nn.l2_loss(old_neg_item_embeddings)\n",
    "            )\n",
    "            regularizer = regularizer / BATCH_SIZE\n",
    "            mf_loss = tf.reduce_mean(tf.nn.softplus(-(pos_scores - neg_scores)))\n",
    "            emb_loss = DECAY * regularizer\n",
    "            loss = mf_loss + emb_loss\n",
    "\n",
    "        # Retreive and apply gradients.\n",
    "        grads = tape.gradient(loss, model.trainable_weights)\n",
    "        optimizer.apply_gradients(zip(grads, model.trainable_weights))\n",
    "\n",
    "        bar.add(1, values=[('training loss', float(loss))])"
   ]
  },
  {
   "cell_type": "markdown",
   "metadata": {
    "id": "bKunS0Dinf6T"
   },
   "source": [
    "# Recommend"
   ]
  },
  {
   "cell_type": "code",
   "execution_count": 16,
   "metadata": {
    "colab": {
     "base_uri": "https://localhost:8080/",
     "height": 520
    },
    "id": "1w7TDYVcNpGc",
    "outputId": "598cd75c-dd8f-416c-b63c-a586dddfd830"
   },
   "outputs": [
    {
     "data": {
      "text/html": [
       "<div>\n",
       "<style scoped>\n",
       "    .dataframe tbody tr th:only-of-type {\n",
       "        vertical-align: middle;\n",
       "    }\n",
       "\n",
       "    .dataframe tbody tr th {\n",
       "        vertical-align: top;\n",
       "    }\n",
       "\n",
       "    .dataframe thead th {\n",
       "        text-align: right;\n",
       "    }\n",
       "</style>\n",
       "<table border=\"1\" class=\"dataframe\">\n",
       "  <thead>\n",
       "    <tr style=\"text-align: right;\">\n",
       "      <th></th>\n",
       "      <th>userId</th>\n",
       "      <th>movieId</th>\n",
       "      <th>title</th>\n",
       "      <th>prediction</th>\n",
       "    </tr>\n",
       "  </thead>\n",
       "  <tbody>\n",
       "    <tr>\n",
       "      <th>0</th>\n",
       "      <td>1</td>\n",
       "      <td>100</td>\n",
       "      <td>Fargo (1996)</td>\n",
       "      <td>6.768871</td>\n",
       "    </tr>\n",
       "    <tr>\n",
       "      <th>1</th>\n",
       "      <td>1</td>\n",
       "      <td>9</td>\n",
       "      <td>Dead Man Walking (1995)</td>\n",
       "      <td>6.671842</td>\n",
       "    </tr>\n",
       "    <tr>\n",
       "      <th>2</th>\n",
       "      <td>1</td>\n",
       "      <td>582</td>\n",
       "      <td>Piano, The (1993)</td>\n",
       "      <td>6.192954</td>\n",
       "    </tr>\n",
       "    <tr>\n",
       "      <th>3</th>\n",
       "      <td>1</td>\n",
       "      <td>172</td>\n",
       "      <td>Empire Strikes Back, The (1980)</td>\n",
       "      <td>6.134629</td>\n",
       "    </tr>\n",
       "    <tr>\n",
       "      <th>4</th>\n",
       "      <td>1</td>\n",
       "      <td>286</td>\n",
       "      <td>English Patient, The (1996)</td>\n",
       "      <td>6.065663</td>\n",
       "    </tr>\n",
       "    <tr>\n",
       "      <th>5</th>\n",
       "      <td>1</td>\n",
       "      <td>82</td>\n",
       "      <td>Jurassic Park (1993)</td>\n",
       "      <td>6.010856</td>\n",
       "    </tr>\n",
       "    <tr>\n",
       "      <th>6</th>\n",
       "      <td>1</td>\n",
       "      <td>403</td>\n",
       "      <td>Batman (1989)</td>\n",
       "      <td>5.863326</td>\n",
       "    </tr>\n",
       "    <tr>\n",
       "      <th>7</th>\n",
       "      <td>1</td>\n",
       "      <td>64</td>\n",
       "      <td>Shawshank Redemption, The (1994)</td>\n",
       "      <td>5.849539</td>\n",
       "    </tr>\n",
       "    <tr>\n",
       "      <th>8</th>\n",
       "      <td>1</td>\n",
       "      <td>531</td>\n",
       "      <td>Shine (1996)</td>\n",
       "      <td>5.829234</td>\n",
       "    </tr>\n",
       "    <tr>\n",
       "      <th>9</th>\n",
       "      <td>1</td>\n",
       "      <td>455</td>\n",
       "      <td>Jackie Chan's First Strike (1996)</td>\n",
       "      <td>5.711132</td>\n",
       "    </tr>\n",
       "    <tr>\n",
       "      <th>10</th>\n",
       "      <td>2</td>\n",
       "      <td>300</td>\n",
       "      <td>Air Force One (1997)</td>\n",
       "      <td>8.350816</td>\n",
       "    </tr>\n",
       "    <tr>\n",
       "      <th>11</th>\n",
       "      <td>2</td>\n",
       "      <td>313</td>\n",
       "      <td>Titanic (1997)</td>\n",
       "      <td>7.614297</td>\n",
       "    </tr>\n",
       "    <tr>\n",
       "      <th>12</th>\n",
       "      <td>2</td>\n",
       "      <td>9</td>\n",
       "      <td>Dead Man Walking (1995)</td>\n",
       "      <td>6.944772</td>\n",
       "    </tr>\n",
       "    <tr>\n",
       "      <th>13</th>\n",
       "      <td>2</td>\n",
       "      <td>255</td>\n",
       "      <td>My Best Friend's Wedding (1997)</td>\n",
       "      <td>6.884958</td>\n",
       "    </tr>\n",
       "    <tr>\n",
       "      <th>14</th>\n",
       "      <td>2</td>\n",
       "      <td>748</td>\n",
       "      <td>Saint, The (1997)</td>\n",
       "      <td>6.768323</td>\n",
       "    </tr>\n",
       "  </tbody>\n",
       "</table>\n",
       "</div>"
      ],
      "text/plain": [
       "    userId  movieId                              title  prediction\n",
       "0        1      100                       Fargo (1996)    6.768871\n",
       "1        1        9            Dead Man Walking (1995)    6.671842\n",
       "2        1      582                  Piano, The (1993)    6.192954\n",
       "3        1      172    Empire Strikes Back, The (1980)    6.134629\n",
       "4        1      286        English Patient, The (1996)    6.065663\n",
       "5        1       82               Jurassic Park (1993)    6.010856\n",
       "6        1      403                      Batman (1989)    5.863326\n",
       "7        1       64   Shawshank Redemption, The (1994)    5.849539\n",
       "8        1      531                       Shine (1996)    5.829234\n",
       "9        1      455  Jackie Chan's First Strike (1996)    5.711132\n",
       "10       2      300               Air Force One (1997)    8.350816\n",
       "11       2      313                     Titanic (1997)    7.614297\n",
       "12       2        9            Dead Man Walking (1995)    6.944772\n",
       "13       2      255    My Best Friend's Wedding (1997)    6.884958\n",
       "14       2      748                  Saint, The (1997)    6.768323"
      ]
     },
     "execution_count": 16,
     "metadata": {
      "tags": []
     },
     "output_type": "execute_result"
    }
   ],
   "source": [
    "# Convert test user ids to the new ids\n",
    "users = np.array([user2id[x] for x in test['userId'].unique()])\n",
    "\n",
    "recommendations = model.recommend(users, k=10)\n",
    "recommendations = recommendations.replace({'userId': id2user, 'movieId': id2item})\n",
    "recommendations = recommendations.merge(\n",
    "    movie_titles, how='left', on='movieId'\n",
    ")[['userId', 'movieId', 'title', 'prediction']]\n",
    "recommendations.head(15)"
   ]
  },
  {
   "cell_type": "markdown",
   "metadata": {
    "id": "dyiRAbuymzUf"
   },
   "source": [
    "# Evaluation Metrics\n",
    "\n",
    "The performance of our model is evaluated using the test set, which consists of the exact same users in the training set but with movies the users have reviewed that the model has not seen before.\n",
    "\n",
    "A good model will recommend movies that the user has also reviewed in the test set."
   ]
  },
  {
   "cell_type": "markdown",
   "metadata": {
    "id": "VdqL2Y_Zk13p"
   },
   "source": [
    "## Prep for evaluation metrics"
   ]
  },
  {
   "cell_type": "code",
   "execution_count": 17,
   "metadata": {
    "id": "Zzv1abx-XJ8D"
   },
   "outputs": [],
   "source": [
    "# Create column with the predicted movie's rank for each user \n",
    "top_k = recommendations.copy()\n",
    "top_k['rank'] = recommendations.groupby('userId', sort=False).cumcount() + 1  # For each user, only include movies recommendations that are also in the test set\n",
    "\n",
    "# Movies that a user has not reviewed will not be included\n",
    "df_relevant = pd.merge(top_k, test, on=['userId', 'movieId'])[['userId', 'movieId', 'rank']]"
   ]
  },
  {
   "cell_type": "markdown",
   "metadata": {
    "id": "zzNs2ZfMNwYu"
   },
   "source": [
    "## Precision@k\n",
    "Out of the movies that are recommended, what proportion is relevant. Relevant in this case is if the user has reviewed the movie.\n",
    "\n",
    "A precision@10 of about 0.40 means that about 40% of the recommendations from LightGCN are relevant to the user. In other words, out of the 10 recommendations made, on average a user will have 4 movies that are actually relevant."
   ]
  },
  {
   "cell_type": "code",
   "execution_count": 18,
   "metadata": {
    "colab": {
     "base_uri": "https://localhost:8080/"
    },
    "id": "f_P3JRT1ZFUS",
    "outputId": "b9190ed7-43bc-41cb-f749-0cd8c67195dd"
   },
   "outputs": [
    {
     "data": {
      "text/plain": [
       "0.4195121951219512"
      ]
     },
     "execution_count": 18,
     "metadata": {
      "tags": []
     },
     "output_type": "execute_result"
    }
   ],
   "source": [
    "# Out of the # of movies a user has reviewed in the test set, how many are actually recommended\n",
    "df_relevant_count = df_relevant.groupby('userId', as_index=False)['userId'].agg({'relevant': 'count'})\n",
    "test_count = test.groupby('userId', as_index=False)['userId'].agg({'actual': 'count'})\n",
    "relevant_ratio = pd.merge(df_relevant_count, test_count, on='userId')\n",
    "\n",
    "# Calculate precision @ k\n",
    "precision_at_k = ((relevant_ratio['relevant'] / 10) / len(test['userId'].unique())).sum()\n",
    "precision_at_k"
   ]
  },
  {
   "cell_type": "markdown",
   "metadata": {
    "id": "6WIjhFbJNghG"
   },
   "source": [
    "## Recall@k\n",
    "\n",
    "Out of all the relevant movies (in the test set), how many are recommended.\n",
    "\n",
    "A recall@10 of about 0.20 means that abut 20% of the relevant movies were recommended by LightGCN. By definition you can see how even if all the recommendations made were relevant, recall@k is capped by k. A higher k means that more relevant movies can be recommended."
   ]
  },
  {
   "cell_type": "code",
   "execution_count": 19,
   "metadata": {
    "colab": {
     "base_uri": "https://localhost:8080/"
    },
    "id": "0KRSQ4nxMb56",
    "outputId": "b30b5c45-8ff5-41db-9280-a26da3a60390"
   },
   "outputs": [
    {
     "data": {
      "text/plain": [
       "0.22567607414631063"
      ]
     },
     "execution_count": 19,
     "metadata": {
      "tags": []
     },
     "output_type": "execute_result"
    }
   ],
   "source": [
    "recall_at_k = ((relevant_ratio['relevant'] / relevant_ratio['actual']) / len(test['userId'].unique())).sum()\n",
    "recall_at_k"
   ]
  },
  {
   "cell_type": "markdown",
   "metadata": {
    "id": "hikpCc9KHuYi"
   },
   "source": [
    "## Mean Average Precision (MAP)\n",
    "\n",
    "Calculate the average precision for each user and average all the average precisions over all users. Penalizes incorrect rankings of movies."
   ]
  },
  {
   "cell_type": "code",
   "execution_count": 20,
   "metadata": {
    "colab": {
     "base_uri": "https://localhost:8080/"
    },
    "id": "op9xILlzNvGw",
    "outputId": "c4589e09-11e0-4855-d427-ee4491545677"
   },
   "outputs": [
    {
     "data": {
      "text/plain": [
       "0.1483353139412261"
      ]
     },
     "execution_count": 20,
     "metadata": {
      "tags": []
     },
     "output_type": "execute_result"
    }
   ],
   "source": [
    "# Calculate precision@k for each recommended movie with their corresponding rank.\n",
    "relevant_ordered = df_relevant.copy()\n",
    "relevant_ordered['precision@k'] = (relevant_ordered.groupby('userId').cumcount() + 1 )/ relevant_ordered['rank']\n",
    "\n",
    "# Calculate average precision for each user.\n",
    "relevant_ordered = relevant_ordered.groupby('userId').agg({'precision@k': 'sum'}).reset_index()\n",
    "merged = pd.merge(relevant_ordered, relevant_ratio,  on='userId')\n",
    "merged['avg_precision'] = merged['precision@k'] / merged['actual']\n",
    "\n",
    "# Calculate mean average precision\n",
    "map = (merged['avg_precision'].sum() / len(test['userId'].unique()))\n",
    "map"
   ]
  },
  {
   "cell_type": "markdown",
   "metadata": {
    "id": "FkOQGMU-i0Ze"
   },
   "source": [
    "## Normalized Discounted Cumulative Gain (NDGC)\n",
    "\n",
    "Looks at both relevant movies and the ranking order of the relevant movies.\n",
    "Normalized by the total number of users."
   ]
  },
  {
   "cell_type": "code",
   "execution_count": 21,
   "metadata": {
    "colab": {
     "base_uri": "https://localhost:8080/"
    },
    "id": "bAEXXsZtjRRj",
    "outputId": "09e926a2-53ff-4f06-8fd1-0a67751e3045"
   },
   "outputs": [
    {
     "data": {
      "text/plain": [
       "0.47945146765740626"
      ]
     },
     "execution_count": 21,
     "metadata": {
      "tags": []
     },
     "output_type": "execute_result"
    }
   ],
   "source": [
    "dcg = df_relevant.copy()\n",
    "dcg['dcg'] = 1 / np.log1p(dcg['rank'])\n",
    "dcg = dcg.groupby('userId', as_index=False, sort=False).agg({'dcg': 'sum'})\n",
    "ndcg = pd.merge(dcg, relevant_ratio, on='userId')\n",
    "ndcg['idcg'] = ndcg['actual'].apply(lambda x: sum(1/ np.log1p(range(1, min(x, 10) + 1))))\n",
    "ndcg = (ndcg['dcg'] / ndcg['idcg']).sum() / len(test['userId'].unique())\n",
    "ndcg"
   ]
  },
  {
   "cell_type": "markdown",
   "metadata": {
    "id": "4cS2hzWvnBP9"
   },
   "source": [
    "## Results"
   ]
  },
  {
   "cell_type": "code",
   "execution_count": 22,
   "metadata": {
    "colab": {
     "base_uri": "https://localhost:8080/"
    },
    "id": "N0dv7v8akCOb",
    "outputId": "b334e99e-edac-433c-a33c-3174628f1919"
   },
   "outputs": [
    {
     "name": "stdout",
     "output_type": "stream",
     "text": [
      "Precision: 0.419512\n",
      "Recall: 0.225676\n",
      "MAP: 0.148335 \n",
      "NDCG: 0.479451\n"
     ]
    }
   ],
   "source": [
    "print(f'Precision: {precision_at_k:.6f}',\n",
    "      f'Recall: {recall_at_k:.6f}',\n",
    "      f'MAP: {map:.6f} ',\n",
    "      f'NDCG: {ndcg:.6f}', sep='\\n')"
   ]
  },
  {
   "cell_type": "markdown",
   "metadata": {
    "id": "GhPj_U4EbMF9"
   },
   "source": [
    "# Exploring movie embeddings\n",
    "\n",
    "In this section we examine how embeddings of movies relate to each other and if movies have similar movies near them in the embedding space. We will find the 6 closest movies to each movie. Remember that the closest movie should automatically be the same movie. Effectively we are finding the 5 closest films.\n",
    "\n",
    "Here we find the movies that are closest to the movie 'Starwars' (movieId = 50). The closest movies are space themed which makes complete sense, telling us that our movie embeddings are as intended. We also see this when looking at closest movies for the kids movie 'Lion King'."
   ]
  },
  {
   "cell_type": "code",
   "execution_count": 23,
   "metadata": {
    "id": "Py8P-EYWcaKy"
   },
   "outputs": [],
   "source": [
    "# Get the movie embeddings\n",
    "_, new_item_embed = model(model.user_embedding, model.item_embedding)"
   ]
  },
  {
   "cell_type": "code",
   "execution_count": 24,
   "metadata": {
    "colab": {
     "base_uri": "https://localhost:8080/",
     "height": 424
    },
    "id": "JydqdiuJbLWk",
    "outputId": "309d32a2-3358-4695-e710-7933a5129a78"
   },
   "outputs": [
    {
     "data": {
      "text/html": [
       "<div>\n",
       "<style scoped>\n",
       "    .dataframe tbody tr th:only-of-type {\n",
       "        vertical-align: middle;\n",
       "    }\n",
       "\n",
       "    .dataframe tbody tr th {\n",
       "        vertical-align: top;\n",
       "    }\n",
       "\n",
       "    .dataframe thead th {\n",
       "        text-align: right;\n",
       "    }\n",
       "</style>\n",
       "<table border=\"1\" class=\"dataframe\">\n",
       "  <thead>\n",
       "    <tr style=\"text-align: right;\">\n",
       "      <th></th>\n",
       "      <th>movie</th>\n",
       "      <th>movieId</th>\n",
       "      <th>distance</th>\n",
       "      <th>title</th>\n",
       "    </tr>\n",
       "  </thead>\n",
       "  <tbody>\n",
       "    <tr>\n",
       "      <th>0</th>\n",
       "      <td>93</td>\n",
       "      <td>93</td>\n",
       "      <td>0.000000</td>\n",
       "      <td>Welcome to the Dollhouse (1995)</td>\n",
       "    </tr>\n",
       "    <tr>\n",
       "      <th>1</th>\n",
       "      <td>93</td>\n",
       "      <td>813</td>\n",
       "      <td>1.700525</td>\n",
       "      <td>Celluloid Closet, The (1995)</td>\n",
       "    </tr>\n",
       "    <tr>\n",
       "      <th>2</th>\n",
       "      <td>93</td>\n",
       "      <td>13</td>\n",
       "      <td>1.987832</td>\n",
       "      <td>Mighty Aphrodite (1995)</td>\n",
       "    </tr>\n",
       "    <tr>\n",
       "      <th>3</th>\n",
       "      <td>93</td>\n",
       "      <td>1007</td>\n",
       "      <td>1.994400</td>\n",
       "      <td>Waiting for Guffman (1996)</td>\n",
       "    </tr>\n",
       "    <tr>\n",
       "      <th>4</th>\n",
       "      <td>93</td>\n",
       "      <td>741</td>\n",
       "      <td>2.025646</td>\n",
       "      <td>Last Supper, The (1995)</td>\n",
       "    </tr>\n",
       "    <tr>\n",
       "      <th>...</th>\n",
       "      <td>...</td>\n",
       "      <td>...</td>\n",
       "      <td>...</td>\n",
       "      <td>...</td>\n",
       "    </tr>\n",
       "    <tr>\n",
       "      <th>10087</th>\n",
       "      <td>1677</td>\n",
       "      <td>1572</td>\n",
       "      <td>0.082932</td>\n",
       "      <td>Wend Kuuni (God's Gift) (1982)</td>\n",
       "    </tr>\n",
       "    <tr>\n",
       "      <th>10088</th>\n",
       "      <td>1677</td>\n",
       "      <td>1582</td>\n",
       "      <td>0.084973</td>\n",
       "      <td>T-Men (1947)</td>\n",
       "    </tr>\n",
       "    <tr>\n",
       "      <th>10089</th>\n",
       "      <td>1677</td>\n",
       "      <td>1585</td>\n",
       "      <td>0.088685</td>\n",
       "      <td>American Dream (1990)</td>\n",
       "    </tr>\n",
       "    <tr>\n",
       "      <th>10090</th>\n",
       "      <td>1677</td>\n",
       "      <td>1080</td>\n",
       "      <td>0.097188</td>\n",
       "      <td>Celestial Clockwork (1994)</td>\n",
       "    </tr>\n",
       "    <tr>\n",
       "      <th>10091</th>\n",
       "      <td>1677</td>\n",
       "      <td>1634</td>\n",
       "      <td>0.105359</td>\n",
       "      <td>Etz Hadomim Tafus (Under the Domin Tree) (1994)</td>\n",
       "    </tr>\n",
       "  </tbody>\n",
       "</table>\n",
       "<p>10092 rows × 4 columns</p>\n",
       "</div>"
      ],
      "text/plain": [
       "       movie  ...                                            title\n",
       "0         93  ...                  Welcome to the Dollhouse (1995)\n",
       "1         93  ...                     Celluloid Closet, The (1995)\n",
       "2         93  ...                          Mighty Aphrodite (1995)\n",
       "3         93  ...                       Waiting for Guffman (1996)\n",
       "4         93  ...                          Last Supper, The (1995)\n",
       "...      ...  ...                                              ...\n",
       "10087   1677  ...                   Wend Kuuni (God's Gift) (1982)\n",
       "10088   1677  ...                                     T-Men (1947)\n",
       "10089   1677  ...                            American Dream (1990)\n",
       "10090   1677  ...                       Celestial Clockwork (1994)\n",
       "10091   1677  ...  Etz Hadomim Tafus (Under the Domin Tree) (1994)\n",
       "\n",
       "[10092 rows x 4 columns]"
      ]
     },
     "execution_count": 24,
     "metadata": {
      "tags": []
     },
     "output_type": "execute_result"
    }
   ],
   "source": [
    "k = 6\n",
    "nbrs = NearestNeighbors(n_neighbors=k).fit(new_item_embed)\n",
    "distances, indices = nbrs.kneighbors(new_item_embed)\n",
    "\n",
    "closest_movies = pd.DataFrame({\n",
    "    'movie': np.repeat(np.arange(indices.shape[0])[:, None], k),\n",
    "    'movieId': indices.flatten(),\n",
    "    'distance': distances.flatten()\n",
    "    }).replace({'movie': id2item,'movieId': id2item}).merge(movie_titles, how='left', on='movieId')\n",
    "closest_movies"
   ]
  },
  {
   "cell_type": "code",
   "execution_count": 25,
   "metadata": {
    "colab": {
     "base_uri": "https://localhost:8080/",
     "height": 238
    },
    "id": "lRlD63O5t-hM",
    "outputId": "22f54cd2-88d0-452b-f5ae-183e6511f278"
   },
   "outputs": [
    {
     "data": {
      "text/html": [
       "<div>\n",
       "<style scoped>\n",
       "    .dataframe tbody tr th:only-of-type {\n",
       "        vertical-align: middle;\n",
       "    }\n",
       "\n",
       "    .dataframe tbody tr th {\n",
       "        vertical-align: top;\n",
       "    }\n",
       "\n",
       "    .dataframe thead th {\n",
       "        text-align: right;\n",
       "    }\n",
       "</style>\n",
       "<table border=\"1\" class=\"dataframe\">\n",
       "  <thead>\n",
       "    <tr style=\"text-align: right;\">\n",
       "      <th></th>\n",
       "      <th>movie</th>\n",
       "      <th>movieId</th>\n",
       "      <th>distance</th>\n",
       "      <th>title</th>\n",
       "    </tr>\n",
       "  </thead>\n",
       "  <tbody>\n",
       "    <tr>\n",
       "      <th>408</th>\n",
       "      <td>50</td>\n",
       "      <td>50</td>\n",
       "      <td>0.000000</td>\n",
       "      <td>Star Wars (1977)</td>\n",
       "    </tr>\n",
       "    <tr>\n",
       "      <th>409</th>\n",
       "      <td>50</td>\n",
       "      <td>181</td>\n",
       "      <td>0.805757</td>\n",
       "      <td>Return of the Jedi (1983)</td>\n",
       "    </tr>\n",
       "    <tr>\n",
       "      <th>410</th>\n",
       "      <td>50</td>\n",
       "      <td>127</td>\n",
       "      <td>1.234567</td>\n",
       "      <td>Godfather, The (1972)</td>\n",
       "    </tr>\n",
       "    <tr>\n",
       "      <th>411</th>\n",
       "      <td>50</td>\n",
       "      <td>1</td>\n",
       "      <td>1.597595</td>\n",
       "      <td>Toy Story (1995)</td>\n",
       "    </tr>\n",
       "    <tr>\n",
       "      <th>412</th>\n",
       "      <td>50</td>\n",
       "      <td>222</td>\n",
       "      <td>1.642854</td>\n",
       "      <td>Star Trek: First Contact (1996)</td>\n",
       "    </tr>\n",
       "    <tr>\n",
       "      <th>413</th>\n",
       "      <td>50</td>\n",
       "      <td>100</td>\n",
       "      <td>1.779850</td>\n",
       "      <td>Fargo (1996)</td>\n",
       "    </tr>\n",
       "  </tbody>\n",
       "</table>\n",
       "</div>"
      ],
      "text/plain": [
       "     movie  movieId  distance                            title\n",
       "408     50       50  0.000000                 Star Wars (1977)\n",
       "409     50      181  0.805757        Return of the Jedi (1983)\n",
       "410     50      127  1.234567            Godfather, The (1972)\n",
       "411     50        1  1.597595                 Toy Story (1995)\n",
       "412     50      222  1.642854  Star Trek: First Contact (1996)\n",
       "413     50      100  1.779850                     Fargo (1996)"
      ]
     },
     "execution_count": 25,
     "metadata": {
      "tags": []
     },
     "output_type": "execute_result"
    }
   ],
   "source": [
    "id = 50\n",
    "closest_movies[closest_movies.movie == id]"
   ]
  },
  {
   "cell_type": "code",
   "execution_count": 26,
   "metadata": {
    "colab": {
     "base_uri": "https://localhost:8080/",
     "height": 238
    },
    "id": "Szf2y0PM9seF",
    "outputId": "9993d5f9-db9a-4dfe-fc0d-3d2a763c4bb9"
   },
   "outputs": [
    {
     "data": {
      "text/html": [
       "<div>\n",
       "<style scoped>\n",
       "    .dataframe tbody tr th:only-of-type {\n",
       "        vertical-align: middle;\n",
       "    }\n",
       "\n",
       "    .dataframe tbody tr th {\n",
       "        vertical-align: top;\n",
       "    }\n",
       "\n",
       "    .dataframe thead th {\n",
       "        text-align: right;\n",
       "    }\n",
       "</style>\n",
       "<table border=\"1\" class=\"dataframe\">\n",
       "  <thead>\n",
       "    <tr style=\"text-align: right;\">\n",
       "      <th></th>\n",
       "      <th>movie</th>\n",
       "      <th>movieId</th>\n",
       "      <th>distance</th>\n",
       "      <th>title</th>\n",
       "    </tr>\n",
       "  </thead>\n",
       "  <tbody>\n",
       "    <tr>\n",
       "      <th>672</th>\n",
       "      <td>71</td>\n",
       "      <td>71</td>\n",
       "      <td>0.000000</td>\n",
       "      <td>Lion King, The (1994)</td>\n",
       "    </tr>\n",
       "    <tr>\n",
       "      <th>673</th>\n",
       "      <td>71</td>\n",
       "      <td>95</td>\n",
       "      <td>1.225550</td>\n",
       "      <td>Aladdin (1992)</td>\n",
       "    </tr>\n",
       "    <tr>\n",
       "      <th>674</th>\n",
       "      <td>71</td>\n",
       "      <td>588</td>\n",
       "      <td>1.291302</td>\n",
       "      <td>Beauty and the Beast (1991)</td>\n",
       "    </tr>\n",
       "    <tr>\n",
       "      <th>675</th>\n",
       "      <td>71</td>\n",
       "      <td>69</td>\n",
       "      <td>1.473960</td>\n",
       "      <td>Forrest Gump (1994)</td>\n",
       "    </tr>\n",
       "    <tr>\n",
       "      <th>676</th>\n",
       "      <td>71</td>\n",
       "      <td>423</td>\n",
       "      <td>1.530358</td>\n",
       "      <td>E.T. the Extra-Terrestrial (1982)</td>\n",
       "    </tr>\n",
       "    <tr>\n",
       "      <th>677</th>\n",
       "      <td>71</td>\n",
       "      <td>28</td>\n",
       "      <td>1.645576</td>\n",
       "      <td>Apollo 13 (1995)</td>\n",
       "    </tr>\n",
       "  </tbody>\n",
       "</table>\n",
       "</div>"
      ],
      "text/plain": [
       "     movie  movieId  distance                              title\n",
       "672     71       71  0.000000              Lion King, The (1994)\n",
       "673     71       95  1.225550                     Aladdin (1992)\n",
       "674     71      588  1.291302        Beauty and the Beast (1991)\n",
       "675     71       69  1.473960                Forrest Gump (1994)\n",
       "676     71      423  1.530358  E.T. the Extra-Terrestrial (1982)\n",
       "677     71       28  1.645576                   Apollo 13 (1995)"
      ]
     },
     "execution_count": 26,
     "metadata": {
      "tags": []
     },
     "output_type": "execute_result"
    }
   ],
   "source": [
    "id = 71\n",
    "closest_movies[closest_movies.movie == id]"
   ]
  }
 ],
 "metadata": {
  "accelerator": "GPU",
  "colab": {
   "collapsed_sections": [],
   "name": "LightGCN.ipynb",
   "provenance": []
  },
  "kernelspec": {
   "display_name": "Python 3",
   "language": "python",
   "name": "python3"
  },
  "language_info": {
   "codemirror_mode": {
    "name": "ipython",
    "version": 3
   },
   "file_extension": ".py",
   "mimetype": "text/x-python",
   "name": "python",
   "nbconvert_exporter": "python",
   "pygments_lexer": "ipython3",
   "version": "3.9.1"
  }
 },
 "nbformat": 4,
 "nbformat_minor": 1
}
